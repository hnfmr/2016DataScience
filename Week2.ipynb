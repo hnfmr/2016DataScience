{
 "cells": [
  {
   "cell_type": "code",
   "execution_count": 118,
   "metadata": {
    "collapsed": false,
    "slideshow": {
     "slide_type": "slide"
    }
   },
   "outputs": [
    {
     "name": "stdout",
     "output_type": "stream",
     "text": [
      "hello world!\n",
      "hello me 1:2:3.400000\n"
     ]
    }
   ],
   "source": [
    "# Python is a dynamic, interpreted language\n",
    "\n",
    "# Variables\n",
    "a = 3\n",
    "a = 2.4\n",
    "b = \"hello world!\"\n",
    "print(b)\n",
    "\n",
    "# formatting\n",
    "print(\"hello %s %i:%i:%f\" % (\"me\", 1, 2, 3.4))"
   ]
  },
  {
   "cell_type": "code",
   "execution_count": 119,
   "metadata": {
    "collapsed": false,
    "slideshow": {
     "slide_type": "slide"
    }
   },
   "outputs": [
    {
     "data": {
      "text/plain": [
       "11"
      ]
     },
     "execution_count": 119,
     "metadata": {},
     "output_type": "execute_result"
    }
   ],
   "source": [
    "# Function, If-Then-Else\n",
    "def myfun(a, b):\n",
    "    if a < b:\n",
    "        return b - a\n",
    "    else:\n",
    "        return a - b\n",
    "\n",
    "myfun(13, 2)"
   ]
  },
  {
   "cell_type": "code",
   "execution_count": 120,
   "metadata": {
    "collapsed": false,
    "nbpresent": {
     "id": "28c98301-235d-455a-b3f1-ca711dac7731"
    },
    "slideshow": {
     "slide_type": "slide"
    }
   },
   "outputs": [
    {
     "name": "stdout",
     "output_type": "stream",
     "text": [
      "1\n",
      "99\n"
     ]
    }
   ],
   "source": [
    "def myfun2(a=1, b=2):\n",
    "    if a < b:\n",
    "        return b - a\n",
    "    else:\n",
    "        return a - b\n",
    "print(myfun2())\n",
    "print(myfun2(b=100))"
   ]
  },
  {
   "cell_type": "code",
   "execution_count": 121,
   "metadata": {
    "collapsed": false,
    "nbpresent": {
     "id": "6af148f9-529f-4ef7-88f1-6aeec093999c"
    },
    "slideshow": {
     "slide_type": "slide"
    }
   },
   "outputs": [
    {
     "name": "stdout",
     "output_type": "stream",
     "text": [
      "0\n",
      "1\n",
      "2\n",
      "3\n",
      "4\n",
      "5\n",
      "6\n",
      "7\n",
      "8\n",
      "9\n"
     ]
    }
   ],
   "source": [
    "# Loops\n",
    "for x in range(10):\n",
    "    print(x)"
   ]
  },
  {
   "cell_type": "code",
   "execution_count": 122,
   "metadata": {
    "collapsed": false,
    "nbpresent": {
     "id": "c42b491d-efdb-4b3b-89bc-166fc20066ac"
    },
    "slideshow": {
     "slide_type": "slide"
    }
   },
   "outputs": [
    {
     "name": "stdout",
     "output_type": "stream",
     "text": [
      "Real part: 10, imaginary part: 9\n"
     ]
    }
   ],
   "source": [
    "# Python Classes\n",
    "class Complex:\n",
    "    def __init__(self, re, im):\n",
    "        self.re = re\n",
    "        self.im = im\n",
    "c = Complex(10, 9)\n",
    "print(\"Real part: %i, imaginary part: %i\" % (c.re, c.im))"
   ]
  },
  {
   "cell_type": "code",
   "execution_count": 123,
   "metadata": {
    "collapsed": true,
    "nbpresent": {
     "id": "2ee6bbfa-5a6f-4c81-b24c-b465be5d109f"
    },
    "slideshow": {
     "slide_type": "fragment"
    }
   },
   "outputs": [],
   "source": [
    "# Class: global variables, decorations, inheritance..."
   ]
  },
  {
   "cell_type": "code",
   "execution_count": 124,
   "metadata": {
    "collapsed": false,
    "nbpresent": {
     "id": "bf233f53-2958-4838-b3d0-da2bc80cac4a"
    },
    "slideshow": {
     "slide_type": "slide"
    }
   },
   "outputs": [
    {
     "name": "stdout",
     "output_type": "stream",
     "text": [
      "<class '__main__.Complex'>\n"
     ]
    }
   ],
   "source": [
    "# Basic Data Typesa = None\n",
    "a = 1 # int\n",
    "a = 2.3 # float\n",
    "a = Complex(1, 2)\n",
    "print(type(a))\n",
    "\n",
    "a = \"im a str\" # string"
   ]
  },
  {
   "cell_type": "code",
   "execution_count": 125,
   "metadata": {
    "collapsed": false,
    "slideshow": {
     "slide_type": "subslide"
    }
   },
   "outputs": [
    {
     "name": "stdout",
     "output_type": "stream",
     "text": [
      "Help on class str in module builtins:\n",
      "\n",
      "class str(object)\n",
      " |  str(object='') -> str\n",
      " |  str(bytes_or_buffer[, encoding[, errors]]) -> str\n",
      " |  \n",
      " |  Create a new string object from the given object. If encoding or\n",
      " |  errors is specified, then the object must expose a data buffer\n",
      " |  that will be decoded using the given encoding and error handler.\n",
      " |  Otherwise, returns the result of object.__str__() (if defined)\n",
      " |  or repr(object).\n",
      " |  encoding defaults to sys.getdefaultencoding().\n",
      " |  errors defaults to 'strict'.\n",
      " |  \n",
      " |  Methods defined here:\n",
      " |  \n",
      " |  __add__(self, value, /)\n",
      " |      Return self+value.\n",
      " |  \n",
      " |  __contains__(self, key, /)\n",
      " |      Return key in self.\n",
      " |  \n",
      " |  __eq__(self, value, /)\n",
      " |      Return self==value.\n",
      " |  \n",
      " |  __format__(...)\n",
      " |      S.__format__(format_spec) -> str\n",
      " |      \n",
      " |      Return a formatted version of S as described by format_spec.\n",
      " |  \n",
      " |  __ge__(self, value, /)\n",
      " |      Return self>=value.\n",
      " |  \n",
      " |  __getattribute__(self, name, /)\n",
      " |      Return getattr(self, name).\n",
      " |  \n",
      " |  __getitem__(self, key, /)\n",
      " |      Return self[key].\n",
      " |  \n",
      " |  __getnewargs__(...)\n",
      " |  \n",
      " |  __gt__(self, value, /)\n",
      " |      Return self>value.\n",
      " |  \n",
      " |  __hash__(self, /)\n",
      " |      Return hash(self).\n",
      " |  \n",
      " |  __iter__(self, /)\n",
      " |      Implement iter(self).\n",
      " |  \n",
      " |  __le__(self, value, /)\n",
      " |      Return self<=value.\n",
      " |  \n",
      " |  __len__(self, /)\n",
      " |      Return len(self).\n",
      " |  \n",
      " |  __lt__(self, value, /)\n",
      " |      Return self<value.\n",
      " |  \n",
      " |  __mod__(self, value, /)\n",
      " |      Return self%value.\n",
      " |  \n",
      " |  __mul__(self, value, /)\n",
      " |      Return self*value.n\n",
      " |  \n",
      " |  __ne__(self, value, /)\n",
      " |      Return self!=value.\n",
      " |  \n",
      " |  __new__(*args, **kwargs) from builtins.type\n",
      " |      Create and return a new object.  See help(type) for accurate signature.\n",
      " |  \n",
      " |  __repr__(self, /)\n",
      " |      Return repr(self).\n",
      " |  \n",
      " |  __rmod__(self, value, /)\n",
      " |      Return value%self.\n",
      " |  \n",
      " |  __rmul__(self, value, /)\n",
      " |      Return self*value.\n",
      " |  \n",
      " |  __sizeof__(...)\n",
      " |      S.__sizeof__() -> size of S in memory, in bytes\n",
      " |  \n",
      " |  __str__(self, /)\n",
      " |      Return str(self).\n",
      " |  \n",
      " |  capitalize(...)\n",
      " |      S.capitalize() -> str\n",
      " |      \n",
      " |      Return a capitalized version of S, i.e. make the first character\n",
      " |      have upper case and the rest lower case.\n",
      " |  \n",
      " |  casefold(...)\n",
      " |      S.casefold() -> str\n",
      " |      \n",
      " |      Return a version of S suitable for caseless comparisons.\n",
      " |  \n",
      " |  center(...)\n",
      " |      S.center(width[, fillchar]) -> str\n",
      " |      \n",
      " |      Return S centered in a string of length width. Padding is\n",
      " |      done using the specified fill character (default is a space)\n",
      " |  \n",
      " |  count(...)\n",
      " |      S.count(sub[, start[, end]]) -> int\n",
      " |      \n",
      " |      Return the number of non-overlapping occurrences of substring sub in\n",
      " |      string S[start:end].  Optional arguments start and end are\n",
      " |      interpreted as in slice notation.\n",
      " |  \n",
      " |  encode(...)\n",
      " |      S.encode(encoding='utf-8', errors='strict') -> bytes\n",
      " |      \n",
      " |      Encode S using the codec registered for encoding. Default encoding\n",
      " |      is 'utf-8'. errors may be given to set a different error\n",
      " |      handling scheme. Default is 'strict' meaning that encoding errors raise\n",
      " |      a UnicodeEncodeError. Other possible values are 'ignore', 'replace' and\n",
      " |      'xmlcharrefreplace' as well as any other name registered with\n",
      " |      codecs.register_error that can handle UnicodeEncodeErrors.\n",
      " |  \n",
      " |  endswith(...)\n",
      " |      S.endswith(suffix[, start[, end]]) -> bool\n",
      " |      \n",
      " |      Return True if S ends with the specified suffix, False otherwise.\n",
      " |      With optional start, test S beginning at that position.\n",
      " |      With optional end, stop comparing S at that position.\n",
      " |      suffix can also be a tuple of strings to try.\n",
      " |  \n",
      " |  expandtabs(...)\n",
      " |      S.expandtabs(tabsize=8) -> str\n",
      " |      \n",
      " |      Return a copy of S where all tab characters are expanded using spaces.\n",
      " |      If tabsize is not given, a tab size of 8 characters is assumed.\n",
      " |  \n",
      " |  find(...)\n",
      " |      S.find(sub[, start[, end]]) -> int\n",
      " |      \n",
      " |      Return the lowest index in S where substring sub is found,\n",
      " |      such that sub is contained within S[start:end].  Optional\n",
      " |      arguments start and end are interpreted as in slice notation.\n",
      " |      \n",
      " |      Return -1 on failure.\n",
      " |  \n",
      " |  format(...)\n",
      " |      S.format(*args, **kwargs) -> str\n",
      " |      \n",
      " |      Return a formatted version of S, using substitutions from args and kwargs.\n",
      " |      The substitutions are identified by braces ('{' and '}').\n",
      " |  \n",
      " |  format_map(...)\n",
      " |      S.format_map(mapping) -> str\n",
      " |      \n",
      " |      Return a formatted version of S, using substitutions from mapping.\n",
      " |      The substitutions are identified by braces ('{' and '}').\n",
      " |  \n",
      " |  index(...)\n",
      " |      S.index(sub[, start[, end]]) -> int\n",
      " |      \n",
      " |      Like S.find() but raise ValueError when the substring is not found.\n",
      " |  \n",
      " |  isalnum(...)\n",
      " |      S.isalnum() -> bool\n",
      " |      \n",
      " |      Return True if all characters in S are alphanumeric\n",
      " |      and there is at least one character in S, False otherwise.\n",
      " |  \n",
      " |  isalpha(...)\n",
      " |      S.isalpha() -> bool\n",
      " |      \n",
      " |      Return True if all characters in S are alphabetic\n",
      " |      and there is at least one character in S, False otherwise.\n",
      " |  \n",
      " |  isdecimal(...)\n",
      " |      S.isdecimal() -> bool\n",
      " |      \n",
      " |      Return True if there are only decimal characters in S,\n",
      " |      False otherwise.\n",
      " |  \n",
      " |  isdigit(...)\n",
      " |      S.isdigit() -> bool\n",
      " |      \n",
      " |      Return True if all characters in S are digits\n",
      " |      and there is at least one character in S, False otherwise.\n",
      " |  \n",
      " |  isidentifier(...)\n",
      " |      S.isidentifier() -> bool\n",
      " |      \n",
      " |      Return True if S is a valid identifier according\n",
      " |      to the language definition.\n",
      " |      \n",
      " |      Use keyword.iskeyword() to test for reserved identifiers\n",
      " |      such as \"def\" and \"class\".\n",
      " |  \n",
      " |  islower(...)\n",
      " |      S.islower() -> bool\n",
      " |      \n",
      " |      Return True if all cased characters in S are lowercase and there is\n",
      " |      at least one cased character in S, False otherwise.\n",
      " |  \n",
      " |  isnumeric(...)\n",
      " |      S.isnumeric() -> bool\n",
      " |      \n",
      " |      Return True if there are only numeric characters in S,\n",
      " |      False otherwise.\n",
      " |  \n",
      " |  isprintable(...)\n",
      " |      S.isprintable() -> bool\n",
      " |      \n",
      " |      Return True if all characters in S are considered\n",
      " |      printable in repr() or S is empty, False otherwise.\n",
      " |  \n",
      " |  isspace(...)\n",
      " |      S.isspace() -> bool\n",
      " |      \n",
      " |      Return True if all characters in S are whitespace\n",
      " |      and there is at least one character in S, False otherwise.\n",
      " |  \n",
      " |  istitle(...)\n",
      " |      S.istitle() -> bool\n",
      " |      \n",
      " |      Return True if S is a titlecased string and there is at least one\n",
      " |      character in S, i.e. upper- and titlecase characters may only\n",
      " |      follow uncased characters and lowercase characters only cased ones.\n",
      " |      Return False otherwise.\n",
      " |  \n",
      " |  isupper(...)\n",
      " |      S.isupper() -> bool\n",
      " |      \n",
      " |      Return True if all cased characters in S are uppercase and there is\n",
      " |      at least one cased character in S, False otherwise.\n",
      " |  \n",
      " |  join(...)\n",
      " |      S.join(iterable) -> str\n",
      " |      \n",
      " |      Return a string which is the concatenation of the strings in the\n",
      " |      iterable.  The separator between elements is S.\n",
      " |  \n",
      " |  ljust(...)\n",
      " |      S.ljust(width[, fillchar]) -> str\n",
      " |      \n",
      " |      Return S left-justified in a Unicode string of length width. Padding is\n",
      " |      done using the specified fill character (default is a space).\n",
      " |  \n",
      " |  lower(...)\n",
      " |      S.lower() -> str\n",
      " |      \n",
      " |      Return a copy of the string S converted to lowercase.\n",
      " |  \n",
      " |  lstrip(...)\n",
      " |      S.lstrip([chars]) -> str\n",
      " |      \n",
      " |      Return a copy of the string S with leading whitespace removed.\n",
      " |      If chars is given and not None, remove characters in chars instead.\n",
      " |  \n",
      " |  partition(...)\n",
      " |      S.partition(sep) -> (head, sep, tail)\n",
      " |      \n",
      " |      Search for the separator sep in S, and return the part before it,\n",
      " |      the separator itself, and the part after it.  If the separator is not\n",
      " |      found, return S and two empty strings.\n",
      " |  \n",
      " |  replace(...)\n",
      " |      S.replace(old, new[, count]) -> str\n",
      " |      \n",
      " |      Return a copy of S with all occurrences of substring\n",
      " |      old replaced by new.  If the optional argument count is\n",
      " |      given, only the first count occurrences are replaced.\n",
      " |  \n",
      " |  rfind(...)\n",
      " |      S.rfind(sub[, start[, end]]) -> int\n",
      " |      \n",
      " |      Return the highest index in S where substring sub is found,\n",
      " |      such that sub is contained within S[start:end].  Optional\n",
      " |      arguments start and end are interpreted as in slice notation.\n",
      " |      \n",
      " |      Return -1 on failure.\n",
      " |  \n",
      " |  rindex(...)\n",
      " |      S.rindex(sub[, start[, end]]) -> int\n",
      " |      \n",
      " |      Like S.rfind() but raise ValueError when the substring is not found.\n",
      " |  \n",
      " |  rjust(...)\n",
      " |      S.rjust(width[, fillchar]) -> str\n",
      " |      \n",
      " |      Return S right-justified in a string of length width. Padding is\n",
      " |      done using the specified fill character (default is a space).\n",
      " |  \n",
      " |  rpartition(...)\n",
      " |      S.rpartition(sep) -> (head, sep, tail)\n",
      " |      \n",
      " |      Search for the separator sep in S, starting at the end of S, and return\n",
      " |      the part before it, the separator itself, and the part after it.  If the\n",
      " |      separator is not found, return two empty strings and S.\n",
      " |  \n",
      " |  rsplit(...)\n",
      " |      S.rsplit(sep=None, maxsplit=-1) -> list of strings\n",
      " |      \n",
      " |      Return a list of the words in S, using sep as the\n",
      " |      delimiter string, starting at the end of the string and\n",
      " |      working to the front.  If maxsplit is given, at most maxsplit\n",
      " |      splits are done. If sep is not specified, any whitespace string\n",
      " |      is a separator.\n",
      " |  \n",
      " |  rstrip(...)\n",
      " |      S.rstrip([chars]) -> str\n",
      " |      \n",
      " |      Return a copy of the string S with trailing whitespace removed.\n",
      " |      If chars is given and not None, remove characters in chars instead.\n",
      " |  \n",
      " |  split(...)\n",
      " |      S.split(sep=None, maxsplit=-1) -> list of strings\n",
      " |      \n",
      " |      Return a list of the words in S, using sep as the\n",
      " |      delimiter string.  If maxsplit is given, at most maxsplit\n",
      " |      splits are done. If sep is not specified or is None, any\n",
      " |      whitespace string is a separator and empty strings are\n",
      " |      removed from the result.\n",
      " |  \n",
      " |  splitlines(...)\n",
      " |      S.splitlines([keepends]) -> list of strings\n",
      " |      \n",
      " |      Return a list of the lines in S, breaking at line boundaries.\n",
      " |      Line breaks are not included in the resulting list unless keepends\n",
      " |      is given and true.\n",
      " |  \n",
      " |  startswith(...)\n",
      " |      S.startswith(prefix[, start[, end]]) -> bool\n",
      " |      \n",
      " |      Return True if S starts with the specified prefix, False otherwise.\n",
      " |      With optional start, test S beginning at that position.\n",
      " |      With optional end, stop comparing S at that position.\n",
      " |      prefix can also be a tuple of strings to try.\n",
      " |  \n",
      " |  strip(...)\n",
      " |      S.strip([chars]) -> str\n",
      " |      \n",
      " |      Return a copy of the string S with leading and trailing\n",
      " |      whitespace removed.\n",
      " |      If chars is given and not None, remove characters in chars instead.\n",
      " |  \n",
      " |  swapcase(...)\n",
      " |      S.swapcase() -> str\n",
      " |      \n",
      " |      Return a copy of S with uppercase characters converted to lowercase\n",
      " |      and vice versa.\n",
      " |  \n",
      " |  title(...)\n",
      " |      S.title() -> str\n",
      " |      \n",
      " |      Return a titlecased version of S, i.e. words start with title case\n",
      " |      characters, all remaining cased characters have lower case.\n",
      " |  \n",
      " |  translate(...)\n",
      " |      S.translate(table) -> str\n",
      " |      \n",
      " |      Return a copy of the string S in which each character has been mapped\n",
      " |      through the given translation table. The table must implement\n",
      " |      lookup/indexing via __getitem__, for instance a dictionary or list,\n",
      " |      mapping Unicode ordinals to Unicode ordinals, strings, or None. If\n",
      " |      this operation raises LookupError, the character is left untouched.\n",
      " |      Characters mapped to None are deleted.\n",
      " |  \n",
      " |  upper(...)\n",
      " |      S.upper() -> str\n",
      " |      \n",
      " |      Return a copy of S converted to uppercase.\n",
      " |  \n",
      " |  zfill(...)\n",
      " |      S.zfill(width) -> str\n",
      " |      \n",
      " |      Pad a numeric string S with zeros on the left, to fill a field\n",
      " |      of the specified width. The string S is never truncated.\n",
      " |  \n",
      " |  ----------------------------------------------------------------------\n",
      " |  Static methods defined here:\n",
      " |  \n",
      " |  maketrans(x, y=None, z=None, /)\n",
      " |      Return a translation table usable for str.translate().\n",
      " |      \n",
      " |      If there is only one argument, it must be a dictionary mapping Unicode\n",
      " |      ordinals (integers) or characters to Unicode ordinals, strings or None.\n",
      " |      Character keys will be then converted to ordinals.\n",
      " |      If there are two arguments, they must be strings of equal length, and\n",
      " |      in the resulting dictionary, each character in x will be mapped to the\n",
      " |      character at the same position in y. If there is a third argument, it\n",
      " |      must be a string, whose characters will be mapped to None in the result.\n",
      "\n"
     ]
    }
   ],
   "source": [
    "help(str)"
   ]
  },
  {
   "cell_type": "code",
   "execution_count": 126,
   "metadata": {
    "collapsed": false,
    "nbpresent": {
     "id": "a1b638dd-ad1b-4d2c-9cda-4bebdf845485"
    },
    "slideshow": {
     "slide_type": "slide"
    }
   },
   "outputs": [
    {
     "name": "stdout",
     "output_type": "stream",
     "text": [
      "[1, 2, 3, 4]\n",
      "<class 'tuple'>\n"
     ]
    }
   ],
   "source": [
    "# List\n",
    "a = [1,2,3]\n",
    "a.append(4)\n",
    "print(a)\n",
    "\n",
    "a = (1, \"str\", 3.4)\n",
    "print(type(a))"
   ]
  },
  {
   "cell_type": "code",
   "execution_count": 127,
   "metadata": {
    "collapsed": false,
    "nbpresent": {
     "id": "57909001-fb14-4b89-b5cb-2d18b136468c"
    },
    "slideshow": {
     "slide_type": "slide"
    }
   },
   "outputs": [
    {
     "data": {
      "text/plain": [
       "[3, 4, 1, 2, 5, 6, 9]"
      ]
     },
     "execution_count": 127,
     "metadata": {},
     "output_type": "execute_result"
    }
   ],
   "source": [
    "#!!! Python slicing notation\n",
    "\n",
    "a = [3,4,1,2,5,6,9,8,11]\n",
    "\n",
    "start = 3\n",
    "end = 7\n",
    "step = 2\n",
    "\n",
    "a[start:end] # items start through end-1\n",
    "a[start:]    # items start through the rest of the array\n",
    "a[:end]      # items from the beginning through end-1\n",
    "a[:]         # a copy of the whole array\n",
    "\n",
    "a[start:end:step] # start through not past end, by step\n",
    "\n",
    "a[-1]    # last item in the array\n",
    "a[-2:]   # last two items in the array\n",
    "a[:-2]   # everything except the last two items\n"
   ]
  },
  {
   "cell_type": "code",
   "execution_count": 128,
   "metadata": {
    "collapsed": false,
    "nbpresent": {
     "id": "a0b91d84-edaf-4f7c-83b0-deeb842854b5"
    },
    "slideshow": {
     "slide_type": "slide"
    }
   },
   "outputs": [
    {
     "name": "stdout",
     "output_type": "stream",
     "text": [
      "{'c': 103, 'a': 101, 'b': 102}\n",
      "{'c': 103, 'd': 104, 'a': 101, 'b': 102}\n"
     ]
    }
   ],
   "source": [
    "# Dictionary\n",
    "adict = { \"a\": 101,\n",
    "          \"b\": 102,\n",
    "          \"c\": 103\n",
    "        }\n",
    "\n",
    "print(adict)\n",
    "type(adict)\n",
    "\n",
    "adict['d'] = 104\n",
    "print(adict)"
   ]
  },
  {
   "cell_type": "code",
   "execution_count": 129,
   "metadata": {
    "collapsed": true,
    "nbpresent": {
     "id": "a951401b-329b-4ec5-8537-0027efcaec7d"
    },
    "slideshow": {
     "slide_type": "subslide"
    }
   },
   "outputs": [],
   "source": [
    "# Other common data structures: heapq (min heap)\n",
    "# Tree, Graph: easy to implement"
   ]
  },
  {
   "cell_type": "code",
   "execution_count": 130,
   "metadata": {
    "collapsed": true,
    "nbpresent": {
     "id": "cbdb1d43-b09a-4393-bbf0-dcc2c3cf0b39"
    },
    "slideshow": {
     "slide_type": "slide"
    }
   },
   "outputs": [],
   "source": [
    "import numpy as np\n",
    "import pandas as pd"
   ]
  },
  {
   "cell_type": "code",
   "execution_count": 131,
   "metadata": {
    "collapsed": false,
    "nbpresent": {
     "id": "a07fe215-c1d2-4eaa-94f1-5caa0ebe9316"
    },
    "slideshow": {
     "slide_type": "slide"
    }
   },
   "outputs": [
    {
     "name": "stdout",
     "output_type": "stream",
     "text": [
      "rbc_count         2188.0\n",
      "wbc_count         3822.0\n",
      "rbc_percentage      39.2\n",
      "wbc_percentage      28.3\n",
      "dtype: float64\n"
     ]
    }
   ],
   "source": [
    "s = pd.Series([2188, 3822, 39.2, 28.3], index=[\"rbc_count\", \"wbc_count\", \"rbc_percentage\", \"wbc_percentage\"])\n",
    "print(s)"
   ]
  },
  {
   "cell_type": "code",
   "execution_count": 132,
   "metadata": {
    "collapsed": false,
    "nbpresent": {
     "id": "02a35cb5-3635-4c75-9252-6ed242f72961"
    },
    "slideshow": {
     "slide_type": "subslide"
    }
   },
   "outputs": [
    {
     "data": {
      "text/plain": [
       "rbc_count         7.690743\n",
       "wbc_count         8.248529\n",
       "rbc_percentage    3.668677\n",
       "wbc_percentage    3.342862\n",
       "dtype: float64"
      ]
     },
     "execution_count": 132,
     "metadata": {},
     "output_type": "execute_result"
    }
   ],
   "source": [
    "# Apply a math function to a Pandas series\n",
    "np.log(s)"
   ]
  },
  {
   "cell_type": "code",
   "execution_count": 133,
   "metadata": {
    "collapsed": false,
    "nbpresent": {
     "id": "98984eda-154b-4836-a91d-38f1ec082adb"
    },
    "slideshow": {
     "slide_type": "subslide"
    }
   },
   "outputs": [
    {
     "name": "stdout",
     "output_type": "stream",
     "text": [
      "[True, True, False, False]\n"
     ]
    },
    {
     "data": {
      "text/plain": [
       "rbc_count    2188.0\n",
       "wbc_count    3822.0\n",
       "dtype: float64"
      ]
     },
     "execution_count": 133,
     "metadata": {},
     "output_type": "execute_result"
    }
   ],
   "source": [
    "# List comprehension\n",
    "blood_count = [name.endswith(\"count\") for name in s.index]\n",
    "print(blood_count)\n",
    "\n",
    "# Filter\n",
    "s[blood_count]"
   ]
  },
  {
   "cell_type": "code",
   "execution_count": 134,
   "metadata": {
    "collapsed": false,
    "nbpresent": {
     "id": "4e40dd2d-7d0f-47f3-9e3e-daae8dae3c3a"
    },
    "slideshow": {
     "slide_type": "subslide"
    }
   },
   "outputs": [
    {
     "data": {
      "text/plain": [
       "rbc_count         2188.0\n",
       "wbc_count         3822.0\n",
       "rbc_percentage      39.2\n",
       "dtype: float64"
      ]
     },
     "execution_count": 134,
     "metadata": {},
     "output_type": "execute_result"
    }
   ],
   "source": [
    "s.iloc[:3] # positional"
   ]
  },
  {
   "cell_type": "code",
   "execution_count": 135,
   "metadata": {
    "collapsed": false,
    "nbpresent": {
     "id": "f92d3594-ed9a-4cff-8749-27837f6b0bfd"
    },
    "slideshow": {
     "slide_type": "fragment"
    }
   },
   "outputs": [
    {
     "data": {
      "text/plain": [
       "rbc_count         2188.0\n",
       "wbc_count         3822.0\n",
       "rbc_percentage      39.2\n",
       "dtype: float64"
      ]
     },
     "execution_count": 135,
     "metadata": {},
     "output_type": "execute_result"
    }
   ],
   "source": [
    "s.loc[:\"rbc_percentage\"]"
   ]
  },
  {
   "cell_type": "code",
   "execution_count": 136,
   "metadata": {
    "collapsed": false,
    "nbpresent": {
     "id": "c3cd36bd-cf07-4066-af3d-aabb9ce3f5b9"
    },
    "slideshow": {
     "slide_type": "fragment"
    }
   },
   "outputs": [
    {
     "data": {
      "text/plain": [
       "rbc_count         2188.0\n",
       "wbc_count         3822.0\n",
       "rbc_percentage      39.2\n",
       "dtype: float64"
      ]
     },
     "execution_count": 136,
     "metadata": {},
     "output_type": "execute_result"
    }
   ],
   "source": [
    "s.ix[:3]"
   ]
  },
  {
   "cell_type": "code",
   "execution_count": 137,
   "metadata": {
    "collapsed": false,
    "nbpresent": {
     "id": "6d1ebd2b-a16c-4c15-95de-0d99a509ef0f"
    },
    "slideshow": {
     "slide_type": "slide"
    }
   },
   "outputs": [
    {
     "data": {
      "text/plain": [
       "{'losses': [5, 8, 6, 1, 5, 10, 6, 12],\n",
       " 'team': ['Bears',\n",
       "  'Bears',\n",
       "  'Bears',\n",
       "  'Packers',\n",
       "  'Packers',\n",
       "  'Lions',\n",
       "  'Lions',\n",
       "  'Lions'],\n",
       " 'wins': [11, 8, 10, 15, 11, 6, 10, 4],\n",
       " 'year': [2010, 2011, 2012, 2011, 2012, 2010, 2011, 2012]}"
      ]
     },
     "execution_count": 137,
     "metadata": {},
     "output_type": "execute_result"
    }
   ],
   "source": [
    "data = {'year': [2010, 2011, 2012, 2011, 2012, 2010, 2011, 2012],\n",
    "        'team': ['Bears', 'Bears', 'Bears', 'Packers', 'Packers', 'Lions', 'Lions', 'Lions'],\n",
    "        'wins': [11, 8, 10, 15, 11, 6, 10, 4],\n",
    "        'losses': [5, 8, 6, 1, 5, 10, 6, 12]}\n",
    "data"
   ]
  },
  {
   "cell_type": "code",
   "execution_count": 138,
   "metadata": {
    "collapsed": false,
    "nbpresent": {
     "id": "92a70aa9-91b6-44d1-a097-4f97cfa786b4"
    },
    "slideshow": {
     "slide_type": "slide"
    }
   },
   "outputs": [
    {
     "data": {
      "text/html": [
       "<div>\n",
       "<table border=\"1\" class=\"dataframe\">\n",
       "  <thead>\n",
       "    <tr style=\"text-align: right;\">\n",
       "      <th></th>\n",
       "      <th>year</th>\n",
       "      <th>team</th>\n",
       "      <th>wins</th>\n",
       "      <th>losses</th>\n",
       "    </tr>\n",
       "  </thead>\n",
       "  <tbody>\n",
       "    <tr>\n",
       "      <th>0</th>\n",
       "      <td>2010</td>\n",
       "      <td>Bears</td>\n",
       "      <td>11</td>\n",
       "      <td>5</td>\n",
       "    </tr>\n",
       "    <tr>\n",
       "      <th>1</th>\n",
       "      <td>2011</td>\n",
       "      <td>Bears</td>\n",
       "      <td>8</td>\n",
       "      <td>8</td>\n",
       "    </tr>\n",
       "    <tr>\n",
       "      <th>2</th>\n",
       "      <td>2012</td>\n",
       "      <td>Bears</td>\n",
       "      <td>10</td>\n",
       "      <td>6</td>\n",
       "    </tr>\n",
       "    <tr>\n",
       "      <th>3</th>\n",
       "      <td>2011</td>\n",
       "      <td>Packers</td>\n",
       "      <td>15</td>\n",
       "      <td>1</td>\n",
       "    </tr>\n",
       "    <tr>\n",
       "      <th>4</th>\n",
       "      <td>2012</td>\n",
       "      <td>Packers</td>\n",
       "      <td>11</td>\n",
       "      <td>5</td>\n",
       "    </tr>\n",
       "    <tr>\n",
       "      <th>5</th>\n",
       "      <td>2010</td>\n",
       "      <td>Lions</td>\n",
       "      <td>6</td>\n",
       "      <td>10</td>\n",
       "    </tr>\n",
       "    <tr>\n",
       "      <th>6</th>\n",
       "      <td>2011</td>\n",
       "      <td>Lions</td>\n",
       "      <td>10</td>\n",
       "      <td>6</td>\n",
       "    </tr>\n",
       "    <tr>\n",
       "      <th>7</th>\n",
       "      <td>2012</td>\n",
       "      <td>Lions</td>\n",
       "      <td>4</td>\n",
       "      <td>12</td>\n",
       "    </tr>\n",
       "  </tbody>\n",
       "</table>\n",
       "</div>"
      ],
      "text/plain": [
       "   year     team  wins  losses\n",
       "0  2010    Bears    11       5\n",
       "1  2011    Bears     8       8\n",
       "2  2012    Bears    10       6\n",
       "3  2011  Packers    15       1\n",
       "4  2012  Packers    11       5\n",
       "5  2010    Lions     6      10\n",
       "6  2011    Lions    10       6\n",
       "7  2012    Lions     4      12"
      ]
     },
     "execution_count": 138,
     "metadata": {},
     "output_type": "execute_result"
    }
   ],
   "source": [
    "football = pd.DataFrame(data, columns=['year', 'team', 'wins', 'losses'])\n",
    "football"
   ]
  },
  {
   "cell_type": "code",
   "execution_count": 139,
   "metadata": {
    "collapsed": false,
    "nbpresent": {
     "id": "b017e271-662a-48f9-b409-7b47a87df43c"
    },
    "slideshow": {
     "slide_type": "subslide"
    }
   },
   "outputs": [
    {
     "data": {
      "text/html": [
       "<div>\n",
       "<table border=\"1\" class=\"dataframe\">\n",
       "  <thead>\n",
       "    <tr style=\"text-align: right;\">\n",
       "      <th></th>\n",
       "      <th>year</th>\n",
       "      <th>team</th>\n",
       "      <th>wins</th>\n",
       "      <th>losses</th>\n",
       "    </tr>\n",
       "  </thead>\n",
       "  <tbody>\n",
       "    <tr>\n",
       "      <th>0</th>\n",
       "      <td>2010</td>\n",
       "      <td>Bears</td>\n",
       "      <td>11</td>\n",
       "      <td>5</td>\n",
       "    </tr>\n",
       "    <tr>\n",
       "      <th>5</th>\n",
       "      <td>2010</td>\n",
       "      <td>Lions</td>\n",
       "      <td>6</td>\n",
       "      <td>10</td>\n",
       "    </tr>\n",
       "  </tbody>\n",
       "</table>\n",
       "</div>"
      ],
      "text/plain": [
       "   year   team  wins  losses\n",
       "0  2010  Bears    11       5\n",
       "5  2010  Lions     6      10"
      ]
     },
     "execution_count": 139,
     "metadata": {},
     "output_type": "execute_result"
    }
   ],
   "source": [
    "football[football.year==2010]"
   ]
  },
  {
   "cell_type": "code",
   "execution_count": 140,
   "metadata": {
    "collapsed": false,
    "nbpresent": {
     "id": "a35b6ca7-845e-42d4-9d8e-0f2b5610e441"
    },
    "slideshow": {
     "slide_type": "subslide"
    }
   },
   "outputs": [
    {
     "data": {
      "text/html": [
       "<div>\n",
       "<table border=\"1\" class=\"dataframe\">\n",
       "  <thead>\n",
       "    <tr style=\"text-align: right;\">\n",
       "      <th></th>\n",
       "      <th>year</th>\n",
       "      <th>team</th>\n",
       "      <th>wins</th>\n",
       "      <th>losses</th>\n",
       "    </tr>\n",
       "  </thead>\n",
       "  <tbody>\n",
       "    <tr>\n",
       "      <th>0</th>\n",
       "      <td>2010</td>\n",
       "      <td>Bears</td>\n",
       "      <td>11</td>\n",
       "      <td>5</td>\n",
       "    </tr>\n",
       "  </tbody>\n",
       "</table>\n",
       "</div>"
      ],
      "text/plain": [
       "   year   team  wins  losses\n",
       "0  2010  Bears    11       5"
      ]
     },
     "execution_count": 140,
     "metadata": {},
     "output_type": "execute_result"
    }
   ],
   "source": [
    "football[(football.team==\"Bears\") & (football.wins > 10)]"
   ]
  },
  {
   "cell_type": "code",
   "execution_count": 141,
   "metadata": {
    "collapsed": false,
    "nbpresent": {
     "id": "aa1056c6-4c58-463a-8499-4e408620e773"
    },
    "slideshow": {
     "slide_type": "subslide"
    }
   },
   "outputs": [
    {
     "data": {
      "text/html": [
       "<div>\n",
       "<table border=\"1\" class=\"dataframe\">\n",
       "  <thead>\n",
       "    <tr style=\"text-align: right;\">\n",
       "      <th></th>\n",
       "      <th>year</th>\n",
       "      <th>team</th>\n",
       "      <th>wins</th>\n",
       "      <th>losses</th>\n",
       "    </tr>\n",
       "  </thead>\n",
       "  <tbody>\n",
       "    <tr>\n",
       "      <th>0</th>\n",
       "      <td>2010</td>\n",
       "      <td>Bears</td>\n",
       "      <td>11</td>\n",
       "      <td>5</td>\n",
       "    </tr>\n",
       "    <tr>\n",
       "      <th>3</th>\n",
       "      <td>2011</td>\n",
       "      <td>Packers</td>\n",
       "      <td>15</td>\n",
       "      <td>1</td>\n",
       "    </tr>\n",
       "    <tr>\n",
       "      <th>5</th>\n",
       "      <td>2010</td>\n",
       "      <td>Lions</td>\n",
       "      <td>6</td>\n",
       "      <td>10</td>\n",
       "    </tr>\n",
       "  </tbody>\n",
       "</table>\n",
       "</div>"
      ],
      "text/plain": [
       "   year     team  wins  losses\n",
       "0  2010    Bears    11       5\n",
       "3  2011  Packers    15       1\n",
       "5  2010    Lions     6      10"
      ]
     },
     "execution_count": 141,
     "metadata": {},
     "output_type": "execute_result"
    }
   ],
   "source": [
    "football[(football.year==2010) | (football.losses < 5)]"
   ]
  },
  {
   "cell_type": "code",
   "execution_count": 142,
   "metadata": {
    "collapsed": false,
    "nbpresent": {
     "id": "4f4bed14-4053-41a7-916b-823c3ffb606d"
    },
    "slideshow": {
     "slide_type": "skip"
    }
   },
   "outputs": [
    {
     "data": {
      "text/plain": [
       "'C:\\\\Users\\\\Will\\\\Documents\\\\2016DataScience'"
      ]
     },
     "execution_count": 142,
     "metadata": {},
     "output_type": "execute_result"
    }
   ],
   "source": [
    "%pwd"
   ]
  },
  {
   "cell_type": "code",
   "execution_count": 143,
   "metadata": {
    "collapsed": false,
    "nbpresent": {
     "id": "44621a6a-e54d-4eb3-95a2-a89214a08658"
    },
    "slideshow": {
     "slide_type": "slide"
    }
   },
   "outputs": [
    {
     "name": "stderr",
     "output_type": "stream",
     "text": [
      "'head' is not recognized as an internal or external command,\n",
      "operable program or batch file.\n"
     ]
    }
   ],
   "source": [
    "!head -n 5 riverru01.csv"
   ]
  },
  {
   "cell_type": "code",
   "execution_count": 144,
   "metadata": {
    "collapsed": false,
    "nbpresent": {
     "id": "d7465faf-8eb1-4cb4-b230-1b6caf5cf4ff"
    },
    "slideshow": {
     "slide_type": "slide"
    }
   },
   "outputs": [
    {
     "data": {
      "text/html": [
       "<div>\n",
       "<table border=\"1\" class=\"dataframe\">\n",
       "  <thead>\n",
       "    <tr style=\"text-align: right;\">\n",
       "      <th></th>\n",
       "      <th>Year</th>\n",
       "      <th>Age</th>\n",
       "      <th>Tm</th>\n",
       "      <th>Lg</th>\n",
       "      <th>G</th>\n",
       "      <th>PA</th>\n",
       "      <th>AB</th>\n",
       "      <th>R</th>\n",
       "      <th>H</th>\n",
       "      <th>2B</th>\n",
       "      <th>...</th>\n",
       "      <th>OPS</th>\n",
       "      <th>OPS+</th>\n",
       "      <th>TB</th>\n",
       "      <th>GDP</th>\n",
       "      <th>HBP</th>\n",
       "      <th>SH</th>\n",
       "      <th>SF</th>\n",
       "      <th>IBB</th>\n",
       "      <th>Pos</th>\n",
       "      <th>Awards</th>\n",
       "    </tr>\n",
       "  </thead>\n",
       "  <tbody>\n",
       "    <tr>\n",
       "      <th>0</th>\n",
       "      <td>1995</td>\n",
       "      <td>21</td>\n",
       "      <td>NYY</td>\n",
       "      <td>AL</td>\n",
       "      <td>5.0</td>\n",
       "      <td>1.0</td>\n",
       "      <td>1.0</td>\n",
       "      <td>0.0</td>\n",
       "      <td>0.0</td>\n",
       "      <td>0.0</td>\n",
       "      <td>...</td>\n",
       "      <td>0.000</td>\n",
       "      <td>-100.0</td>\n",
       "      <td>0.0</td>\n",
       "      <td>0.0</td>\n",
       "      <td>0.0</td>\n",
       "      <td>0.0</td>\n",
       "      <td>0.0</td>\n",
       "      <td>0.0</td>\n",
       "      <td>/7</td>\n",
       "      <td>NaN</td>\n",
       "    </tr>\n",
       "    <tr>\n",
       "      <th>1</th>\n",
       "      <td>1996</td>\n",
       "      <td>22</td>\n",
       "      <td>NYY</td>\n",
       "      <td>AL</td>\n",
       "      <td>46.0</td>\n",
       "      <td>106.0</td>\n",
       "      <td>88.0</td>\n",
       "      <td>17.0</td>\n",
       "      <td>25.0</td>\n",
       "      <td>6.0</td>\n",
       "      <td>...</td>\n",
       "      <td>0.824</td>\n",
       "      <td>107.0</td>\n",
       "      <td>39.0</td>\n",
       "      <td>1.0</td>\n",
       "      <td>2.0</td>\n",
       "      <td>1.0</td>\n",
       "      <td>2.0</td>\n",
       "      <td>0.0</td>\n",
       "      <td>987</td>\n",
       "      <td>NaN</td>\n",
       "    </tr>\n",
       "    <tr>\n",
       "      <th>2</th>\n",
       "      <td>1997</td>\n",
       "      <td>23</td>\n",
       "      <td>SDP</td>\n",
       "      <td>NL</td>\n",
       "      <td>17.0</td>\n",
       "      <td>22.0</td>\n",
       "      <td>20.0</td>\n",
       "      <td>2.0</td>\n",
       "      <td>5.0</td>\n",
       "      <td>1.0</td>\n",
       "      <td>...</td>\n",
       "      <td>0.618</td>\n",
       "      <td>69.0</td>\n",
       "      <td>6.0</td>\n",
       "      <td>0.0</td>\n",
       "      <td>0.0</td>\n",
       "      <td>0.0</td>\n",
       "      <td>0.0</td>\n",
       "      <td>0.0</td>\n",
       "      <td>/897</td>\n",
       "      <td>NaN</td>\n",
       "    </tr>\n",
       "    <tr>\n",
       "      <th>3</th>\n",
       "      <td>1998</td>\n",
       "      <td>24</td>\n",
       "      <td>SDP</td>\n",
       "      <td>NL</td>\n",
       "      <td>95.0</td>\n",
       "      <td>204.0</td>\n",
       "      <td>172.0</td>\n",
       "      <td>31.0</td>\n",
       "      <td>36.0</td>\n",
       "      <td>7.0</td>\n",
       "      <td>...</td>\n",
       "      <td>0.703</td>\n",
       "      <td>91.0</td>\n",
       "      <td>65.0</td>\n",
       "      <td>1.0</td>\n",
       "      <td>2.0</td>\n",
       "      <td>1.0</td>\n",
       "      <td>1.0</td>\n",
       "      <td>0.0</td>\n",
       "      <td>987</td>\n",
       "      <td>NaN</td>\n",
       "    </tr>\n",
       "    <tr>\n",
       "      <th>4</th>\n",
       "      <td>1999</td>\n",
       "      <td>25</td>\n",
       "      <td>SDP</td>\n",
       "      <td>NL</td>\n",
       "      <td>147.0</td>\n",
       "      <td>475.0</td>\n",
       "      <td>411.0</td>\n",
       "      <td>65.0</td>\n",
       "      <td>80.0</td>\n",
       "      <td>16.0</td>\n",
       "      <td>...</td>\n",
       "      <td>0.701</td>\n",
       "      <td>82.0</td>\n",
       "      <td>167.0</td>\n",
       "      <td>9.0</td>\n",
       "      <td>5.0</td>\n",
       "      <td>0.0</td>\n",
       "      <td>4.0</td>\n",
       "      <td>1.0</td>\n",
       "      <td>*8</td>\n",
       "      <td>NaN</td>\n",
       "    </tr>\n",
       "  </tbody>\n",
       "</table>\n",
       "<p>5 rows × 30 columns</p>\n",
       "</div>"
      ],
      "text/plain": [
       "   Year Age   Tm  Lg      G     PA     AB     R     H    2B   ...      OPS  \\\n",
       "0  1995  21  NYY  AL    5.0    1.0    1.0   0.0   0.0   0.0   ...    0.000   \n",
       "1  1996  22  NYY  AL   46.0  106.0   88.0  17.0  25.0   6.0   ...    0.824   \n",
       "2  1997  23  SDP  NL   17.0   22.0   20.0   2.0   5.0   1.0   ...    0.618   \n",
       "3  1998  24  SDP  NL   95.0  204.0  172.0  31.0  36.0   7.0   ...    0.703   \n",
       "4  1999  25  SDP  NL  147.0  475.0  411.0  65.0  80.0  16.0   ...    0.701   \n",
       "\n",
       "    OPS+     TB  GDP  HBP   SH   SF  IBB   Pos  Awards  \n",
       "0 -100.0    0.0  0.0  0.0  0.0  0.0  0.0    /7     NaN  \n",
       "1  107.0   39.0  1.0  2.0  1.0  2.0  0.0   987     NaN  \n",
       "2   69.0    6.0  0.0  0.0  0.0  0.0  0.0  /897     NaN  \n",
       "3   91.0   65.0  1.0  2.0  1.0  1.0  0.0   987     NaN  \n",
       "4   82.0  167.0  9.0  5.0  0.0  4.0  1.0    *8     NaN  \n",
       "\n",
       "[5 rows x 30 columns]"
      ]
     },
     "execution_count": 144,
     "metadata": {},
     "output_type": "execute_result"
    }
   ],
   "source": [
    "from_csv = pd.read_csv('riverru01.csv')\n",
    "from_csv.head()"
   ]
  },
  {
   "cell_type": "code",
   "execution_count": 145,
   "metadata": {
    "collapsed": false,
    "nbpresent": {
     "id": "6a88182b-9d83-4d2e-9875-99e12aaba17f"
    },
    "slideshow": {
     "slide_type": "slide"
    }
   },
   "outputs": [
    {
     "data": {
      "text/html": [
       "<div>\n",
       "<table border=\"1\" class=\"dataframe\">\n",
       "  <thead>\n",
       "    <tr style=\"text-align: right;\">\n",
       "      <th></th>\n",
       "      <th>Rk</th>\n",
       "      <th>Tm</th>\n",
       "      <th>G</th>\n",
       "      <th>Cmp</th>\n",
       "      <th>Att</th>\n",
       "      <th>Cmp%</th>\n",
       "      <th>Yds</th>\n",
       "      <th>TD</th>\n",
       "      <th>TD%</th>\n",
       "      <th>Int</th>\n",
       "      <th>...</th>\n",
       "      <th>Y/G</th>\n",
       "      <th>Rate</th>\n",
       "      <th>Sk</th>\n",
       "      <th>Yds.1</th>\n",
       "      <th>NY/A</th>\n",
       "      <th>ANY/A</th>\n",
       "      <th>Sk%</th>\n",
       "      <th>4QC</th>\n",
       "      <th>GWD</th>\n",
       "      <th>EXP</th>\n",
       "    </tr>\n",
       "  </thead>\n",
       "  <tbody>\n",
       "    <tr>\n",
       "      <th>0</th>\n",
       "      <td>1.0</td>\n",
       "      <td>New Orleans Saints</td>\n",
       "      <td>16.0</td>\n",
       "      <td>460.0</td>\n",
       "      <td>667.0</td>\n",
       "      <td>69.0</td>\n",
       "      <td>4970.0</td>\n",
       "      <td>32.0</td>\n",
       "      <td>4.8</td>\n",
       "      <td>12.0</td>\n",
       "      <td>...</td>\n",
       "      <td>310.6</td>\n",
       "      <td>100.6</td>\n",
       "      <td>32.0</td>\n",
       "      <td>235.0</td>\n",
       "      <td>7.1</td>\n",
       "      <td>7.3</td>\n",
       "      <td>4.6</td>\n",
       "      <td>1.0</td>\n",
       "      <td>2.0</td>\n",
       "      <td>178.88</td>\n",
       "    </tr>\n",
       "    <tr>\n",
       "      <th>1</th>\n",
       "      <td>2.0</td>\n",
       "      <td>Arizona Cardinals</td>\n",
       "      <td>16.0</td>\n",
       "      <td>353.0</td>\n",
       "      <td>562.0</td>\n",
       "      <td>62.8</td>\n",
       "      <td>4616.0</td>\n",
       "      <td>35.0</td>\n",
       "      <td>6.2</td>\n",
       "      <td>13.0</td>\n",
       "      <td>...</td>\n",
       "      <td>288.5</td>\n",
       "      <td>100.9</td>\n",
       "      <td>27.0</td>\n",
       "      <td>159.0</td>\n",
       "      <td>7.8</td>\n",
       "      <td>8.0</td>\n",
       "      <td>4.6</td>\n",
       "      <td>2.0</td>\n",
       "      <td>5.0</td>\n",
       "      <td>215.02</td>\n",
       "    </tr>\n",
       "    <tr>\n",
       "      <th>2</th>\n",
       "      <td>3.0</td>\n",
       "      <td>Pittsburgh Steelers</td>\n",
       "      <td>16.0</td>\n",
       "      <td>391.0</td>\n",
       "      <td>590.0</td>\n",
       "      <td>66.3</td>\n",
       "      <td>4603.0</td>\n",
       "      <td>26.0</td>\n",
       "      <td>4.4</td>\n",
       "      <td>21.0</td>\n",
       "      <td>...</td>\n",
       "      <td>287.7</td>\n",
       "      <td>91.2</td>\n",
       "      <td>33.0</td>\n",
       "      <td>219.0</td>\n",
       "      <td>7.4</td>\n",
       "      <td>6.7</td>\n",
       "      <td>5.3</td>\n",
       "      <td>3.0</td>\n",
       "      <td>4.0</td>\n",
       "      <td>138.45</td>\n",
       "    </tr>\n",
       "    <tr>\n",
       "      <th>3</th>\n",
       "      <td>4.0</td>\n",
       "      <td>San Diego Chargers</td>\n",
       "      <td>16.0</td>\n",
       "      <td>442.0</td>\n",
       "      <td>667.0</td>\n",
       "      <td>66.3</td>\n",
       "      <td>4591.0</td>\n",
       "      <td>30.0</td>\n",
       "      <td>4.5</td>\n",
       "      <td>13.0</td>\n",
       "      <td>...</td>\n",
       "      <td>286.9</td>\n",
       "      <td>94.5</td>\n",
       "      <td>40.0</td>\n",
       "      <td>264.0</td>\n",
       "      <td>6.5</td>\n",
       "      <td>6.5</td>\n",
       "      <td>5.7</td>\n",
       "      <td>1.0</td>\n",
       "      <td>2.0</td>\n",
       "      <td>93.92</td>\n",
       "    </tr>\n",
       "    <tr>\n",
       "      <th>4</th>\n",
       "      <td>5.0</td>\n",
       "      <td>New England Patriots</td>\n",
       "      <td>16.0</td>\n",
       "      <td>404.0</td>\n",
       "      <td>629.0</td>\n",
       "      <td>64.2</td>\n",
       "      <td>4587.0</td>\n",
       "      <td>36.0</td>\n",
       "      <td>5.7</td>\n",
       "      <td>7.0</td>\n",
       "      <td>...</td>\n",
       "      <td>286.7</td>\n",
       "      <td>101.9</td>\n",
       "      <td>38.0</td>\n",
       "      <td>225.0</td>\n",
       "      <td>6.9</td>\n",
       "      <td>7.5</td>\n",
       "      <td>5.7</td>\n",
       "      <td>2.0</td>\n",
       "      <td>2.0</td>\n",
       "      <td>167.70</td>\n",
       "    </tr>\n",
       "  </tbody>\n",
       "</table>\n",
       "<p>5 rows × 25 columns</p>\n",
       "</div>"
      ],
      "text/plain": [
       "    Rk                    Tm     G    Cmp    Att  Cmp%     Yds    TD  TD%  \\\n",
       "0  1.0    New Orleans Saints  16.0  460.0  667.0  69.0  4970.0  32.0  4.8   \n",
       "1  2.0     Arizona Cardinals  16.0  353.0  562.0  62.8  4616.0  35.0  6.2   \n",
       "2  3.0   Pittsburgh Steelers  16.0  391.0  590.0  66.3  4603.0  26.0  4.4   \n",
       "3  4.0    San Diego Chargers  16.0  442.0  667.0  66.3  4591.0  30.0  4.5   \n",
       "4  5.0  New England Patriots  16.0  404.0  629.0  64.2  4587.0  36.0  5.7   \n",
       "\n",
       "    Int   ...      Y/G   Rate    Sk  Yds.1  NY/A  ANY/A  Sk%  4QC  GWD     EXP  \n",
       "0  12.0   ...    310.6  100.6  32.0  235.0   7.1    7.3  4.6  1.0  2.0  178.88  \n",
       "1  13.0   ...    288.5  100.9  27.0  159.0   7.8    8.0  4.6  2.0  5.0  215.02  \n",
       "2  21.0   ...    287.7   91.2  33.0  219.0   7.4    6.7  5.3  3.0  4.0  138.45  \n",
       "3  13.0   ...    286.9   94.5  40.0  264.0   6.5    6.5  5.7  1.0  2.0   93.92  \n",
       "4   7.0   ...    286.7  101.9  38.0  225.0   6.9    7.5  5.7  2.0  2.0  167.70  \n",
       "\n",
       "[5 rows x 25 columns]"
      ]
     },
     "execution_count": 145,
     "metadata": {},
     "output_type": "execute_result"
    }
   ],
   "source": [
    "from_csv = pd.read_csv(\"passing2015.csv\")\n",
    "from_csv.head()"
   ]
  },
  {
   "cell_type": "code",
   "execution_count": 146,
   "metadata": {
    "collapsed": false,
    "nbpresent": {
     "id": "64754eeb-3fd6-4555-83da-897afadb4718"
    },
    "slideshow": {
     "slide_type": "slide"
    }
   },
   "outputs": [],
   "source": [
    "sample_revenue = pd.read_excel(\"Sample_Revenue.xls\", sheetname='Sample Data')"
   ]
  },
  {
   "cell_type": "code",
   "execution_count": 147,
   "metadata": {
    "collapsed": false,
    "nbpresent": {
     "id": "08159119-412d-4b8f-9211-f361827406a8"
    },
    "slideshow": {
     "slide_type": "subslide"
    }
   },
   "outputs": [
    {
     "data": {
      "text/html": [
       "<div>\n",
       "<table border=\"1\" class=\"dataframe\">\n",
       "  <thead>\n",
       "    <tr style=\"text-align: right;\">\n",
       "      <th></th>\n",
       "      <th>Revenue Performance</th>\n",
       "      <th>Capability Test Score</th>\n",
       "      <th>Behavior A Score</th>\n",
       "      <th>Behavior B Score</th>\n",
       "      <th>Compensation</th>\n",
       "      <th>Service Month</th>\n",
       "      <th>Type</th>\n",
       "    </tr>\n",
       "  </thead>\n",
       "  <tbody>\n",
       "    <tr>\n",
       "      <th>0</th>\n",
       "      <td>271.8</td>\n",
       "      <td>783.35</td>\n",
       "      <td>33.53</td>\n",
       "      <td>40.55</td>\n",
       "      <td>16.66</td>\n",
       "      <td>13.20</td>\n",
       "      <td>A</td>\n",
       "    </tr>\n",
       "    <tr>\n",
       "      <th>1</th>\n",
       "      <td>264.0</td>\n",
       "      <td>748.45</td>\n",
       "      <td>36.50</td>\n",
       "      <td>36.19</td>\n",
       "      <td>16.46</td>\n",
       "      <td>14.11</td>\n",
       "      <td>A</td>\n",
       "    </tr>\n",
       "    <tr>\n",
       "      <th>2</th>\n",
       "      <td>238.8</td>\n",
       "      <td>684.45</td>\n",
       "      <td>34.66</td>\n",
       "      <td>37.31</td>\n",
       "      <td>17.66</td>\n",
       "      <td>15.68</td>\n",
       "      <td>A</td>\n",
       "    </tr>\n",
       "    <tr>\n",
       "      <th>3</th>\n",
       "      <td>230.7</td>\n",
       "      <td>827.80</td>\n",
       "      <td>33.13</td>\n",
       "      <td>32.52</td>\n",
       "      <td>17.50</td>\n",
       "      <td>10.53</td>\n",
       "      <td>A</td>\n",
       "    </tr>\n",
       "    <tr>\n",
       "      <th>4</th>\n",
       "      <td>251.6</td>\n",
       "      <td>860.45</td>\n",
       "      <td>35.75</td>\n",
       "      <td>33.71</td>\n",
       "      <td>16.40</td>\n",
       "      <td>11.00</td>\n",
       "      <td>B</td>\n",
       "    </tr>\n",
       "  </tbody>\n",
       "</table>\n",
       "</div>"
      ],
      "text/plain": [
       "   Revenue Performance  Capability Test Score  Behavior A Score  \\\n",
       "0                271.8                 783.35             33.53   \n",
       "1                264.0                 748.45             36.50   \n",
       "2                238.8                 684.45             34.66   \n",
       "3                230.7                 827.80             33.13   \n",
       "4                251.6                 860.45             35.75   \n",
       "\n",
       "   Behavior B Score  Compensation  Service Month Type  \n",
       "0             40.55         16.66          13.20    A  \n",
       "1             36.19         16.46          14.11    A  \n",
       "2             37.31         17.66          15.68    A  \n",
       "3             32.52         17.50          10.53    A  \n",
       "4             33.71         16.40          11.00    B  "
      ]
     },
     "execution_count": 147,
     "metadata": {},
     "output_type": "execute_result"
    }
   ],
   "source": [
    "sample_revenue.head()"
   ]
  },
  {
   "cell_type": "code",
   "execution_count": 148,
   "metadata": {
    "collapsed": false,
    "nbpresent": {
     "id": "d9d319c8-cca6-481c-a46d-deafa0bf9964"
    },
    "slideshow": {
     "slide_type": "slide"
    }
   },
   "outputs": [],
   "source": [
    "#!pip install psycopg2"
   ]
  },
  {
   "cell_type": "code",
   "execution_count": 149,
   "metadata": {
    "collapsed": false,
    "nbpresent": {
     "id": "a49ed054-087d-4ec8-8084-93ca808f2a80"
    },
    "slideshow": {
     "slide_type": "slide"
    }
   },
   "outputs": [],
   "source": [
    "from sqlalchemy import create_engine\n",
    "#engine = create_engine('postgresql://localhost/testdb')\n",
    "engine = create_engine('mssql://mssqlodbc')"
   ]
  },
  {
   "cell_type": "code",
   "execution_count": 150,
   "metadata": {
    "collapsed": false,
    "nbpresent": {
     "id": "5b558444-83b7-49ae-a7d4-51a5ec6b8689"
    },
    "slideshow": {
     "slide_type": "subslide"
    }
   },
   "outputs": [],
   "source": [
    "sample_revenue.to_sql(\"sample_revenue\", engine, if_exists='replace')"
   ]
  },
  {
   "cell_type": "code",
   "execution_count": 151,
   "metadata": {
    "collapsed": false,
    "nbpresent": {
     "id": "9bfd5120-1dd5-43f3-98ee-8ccf9241117e"
    },
    "slideshow": {
     "slide_type": "subslide"
    }
   },
   "outputs": [],
   "source": [
    "#a = pd.read_sql_query(\"SELECT * FROM sample_revenue LIMIT 10\", engine)\n",
    "a = pd.read_sql_query(\"SELECT TOP 10 * FROM sample_revenue\", engine)"
   ]
  },
  {
   "cell_type": "code",
   "execution_count": 152,
   "metadata": {
    "collapsed": false,
    "nbpresent": {
     "id": "824fd977-4300-436c-a8fa-675e9c2d2322"
    },
    "slideshow": {
     "slide_type": "subslide"
    }
   },
   "outputs": [
    {
     "data": {
      "text/html": [
       "<div>\n",
       "<table border=\"1\" class=\"dataframe\">\n",
       "  <thead>\n",
       "    <tr style=\"text-align: right;\">\n",
       "      <th></th>\n",
       "      <th>index</th>\n",
       "      <th>Revenue Performance</th>\n",
       "      <th>Capability Test Score</th>\n",
       "      <th>Behavior A Score</th>\n",
       "      <th>Behavior B Score</th>\n",
       "      <th>Compensation</th>\n",
       "      <th>Service Month</th>\n",
       "      <th>Type</th>\n",
       "    </tr>\n",
       "  </thead>\n",
       "  <tbody>\n",
       "    <tr>\n",
       "      <th>0</th>\n",
       "      <td>0</td>\n",
       "      <td>271.8</td>\n",
       "      <td>783.35</td>\n",
       "      <td>33.53</td>\n",
       "      <td>40.55</td>\n",
       "      <td>16.66</td>\n",
       "      <td>13.20</td>\n",
       "      <td>A</td>\n",
       "    </tr>\n",
       "    <tr>\n",
       "      <th>1</th>\n",
       "      <td>1</td>\n",
       "      <td>264.0</td>\n",
       "      <td>748.45</td>\n",
       "      <td>36.50</td>\n",
       "      <td>36.19</td>\n",
       "      <td>16.46</td>\n",
       "      <td>14.11</td>\n",
       "      <td>A</td>\n",
       "    </tr>\n",
       "    <tr>\n",
       "      <th>2</th>\n",
       "      <td>2</td>\n",
       "      <td>238.8</td>\n",
       "      <td>684.45</td>\n",
       "      <td>34.66</td>\n",
       "      <td>37.31</td>\n",
       "      <td>17.66</td>\n",
       "      <td>15.68</td>\n",
       "      <td>A</td>\n",
       "    </tr>\n",
       "    <tr>\n",
       "      <th>3</th>\n",
       "      <td>3</td>\n",
       "      <td>230.7</td>\n",
       "      <td>827.80</td>\n",
       "      <td>33.13</td>\n",
       "      <td>32.52</td>\n",
       "      <td>17.50</td>\n",
       "      <td>10.53</td>\n",
       "      <td>A</td>\n",
       "    </tr>\n",
       "    <tr>\n",
       "      <th>4</th>\n",
       "      <td>4</td>\n",
       "      <td>251.6</td>\n",
       "      <td>860.45</td>\n",
       "      <td>35.75</td>\n",
       "      <td>33.71</td>\n",
       "      <td>16.40</td>\n",
       "      <td>11.00</td>\n",
       "      <td>B</td>\n",
       "    </tr>\n",
       "  </tbody>\n",
       "</table>\n",
       "</div>"
      ],
      "text/plain": [
       "   index  Revenue Performance  Capability Test Score  Behavior A Score  \\\n",
       "0      0                271.8                 783.35             33.53   \n",
       "1      1                264.0                 748.45             36.50   \n",
       "2      2                238.8                 684.45             34.66   \n",
       "3      3                230.7                 827.80             33.13   \n",
       "4      4                251.6                 860.45             35.75   \n",
       "\n",
       "   Behavior B Score  Compensation  Service Month Type  \n",
       "0             40.55         16.66          13.20    A  \n",
       "1             36.19         16.46          14.11    A  \n",
       "2             37.31         17.66          15.68    A  \n",
       "3             32.52         17.50          10.53    A  \n",
       "4             33.71         16.40          11.00    B  "
      ]
     },
     "execution_count": 152,
     "metadata": {},
     "output_type": "execute_result"
    }
   ],
   "source": [
    "a.head()"
   ]
  },
  {
   "cell_type": "code",
   "execution_count": 153,
   "metadata": {
    "collapsed": false,
    "nbpresent": {
     "id": "59caa0c8-0bb1-421e-b6cc-b71fb94d5c50"
    },
    "slideshow": {
     "slide_type": "slide"
    }
   },
   "outputs": [],
   "source": [
    "url = 'https://raw.github.com/gjreda/best-sandwiches/master/data/best-sandwiches-geocode.tsv'\n",
    "td = pd.read_csv(url, sep='\\t')"
   ]
  },
  {
   "cell_type": "code",
   "execution_count": 154,
   "metadata": {
    "collapsed": false,
    "nbpresent": {
     "id": "ebfaff2c-fbe3-4244-a4b7-e5102a24cecd"
    },
    "slideshow": {
     "slide_type": "subslide"
    }
   },
   "outputs": [
    {
     "data": {
      "text/html": [
       "<div>\n",
       "<table border=\"1\" class=\"dataframe\">\n",
       "  <thead>\n",
       "    <tr style=\"text-align: right;\">\n",
       "      <th></th>\n",
       "      <th>rank</th>\n",
       "      <th>sandwich</th>\n",
       "      <th>restaurant</th>\n",
       "      <th>description</th>\n",
       "      <th>price</th>\n",
       "      <th>address</th>\n",
       "      <th>city</th>\n",
       "      <th>phone</th>\n",
       "      <th>website</th>\n",
       "      <th>full_address</th>\n",
       "      <th>formatted_address</th>\n",
       "      <th>lat</th>\n",
       "      <th>lng</th>\n",
       "    </tr>\n",
       "  </thead>\n",
       "  <tbody>\n",
       "    <tr>\n",
       "      <th>0</th>\n",
       "      <td>1</td>\n",
       "      <td>BLT</td>\n",
       "      <td>Old Oak Tap</td>\n",
       "      <td>The B is applewood smoked&amp;mdash;nice and snapp...</td>\n",
       "      <td>$10</td>\n",
       "      <td>2109 W. Chicago Ave.</td>\n",
       "      <td>Chicago</td>\n",
       "      <td>773-772-0406</td>\n",
       "      <td>theoldoaktap.com</td>\n",
       "      <td>2109 W. Chicago Ave., Chicago</td>\n",
       "      <td>2109 West Chicago Avenue, Chicago, IL 60622, USA</td>\n",
       "      <td>41.895734</td>\n",
       "      <td>-87.679960</td>\n",
       "    </tr>\n",
       "    <tr>\n",
       "      <th>1</th>\n",
       "      <td>2</td>\n",
       "      <td>Fried Bologna</td>\n",
       "      <td>Au Cheval</td>\n",
       "      <td>Thought your bologna-eating days had retired w...</td>\n",
       "      <td>$9</td>\n",
       "      <td>800 W. Randolph St.</td>\n",
       "      <td>Chicago</td>\n",
       "      <td>312-929-4580</td>\n",
       "      <td>aucheval.tumblr.com</td>\n",
       "      <td>800 W. Randolph St., Chicago</td>\n",
       "      <td>800 West Randolph Street, Chicago, IL 60607, USA</td>\n",
       "      <td>41.884672</td>\n",
       "      <td>-87.647754</td>\n",
       "    </tr>\n",
       "    <tr>\n",
       "      <th>2</th>\n",
       "      <td>3</td>\n",
       "      <td>Woodland Mushroom</td>\n",
       "      <td>Xoco</td>\n",
       "      <td>Leave it to Rick Bayless and crew to come up w...</td>\n",
       "      <td>$9.50.</td>\n",
       "      <td>445 N. Clark St.</td>\n",
       "      <td>Chicago</td>\n",
       "      <td>312-334-3688</td>\n",
       "      <td>rickbayless.com</td>\n",
       "      <td>445 N. Clark St., Chicago</td>\n",
       "      <td>445 North Clark Street, Chicago, IL 60654, USA</td>\n",
       "      <td>41.890602</td>\n",
       "      <td>-87.630925</td>\n",
       "    </tr>\n",
       "    <tr>\n",
       "      <th>3</th>\n",
       "      <td>4</td>\n",
       "      <td>Roast Beef</td>\n",
       "      <td>Al&amp;rsquo;s Deli</td>\n",
       "      <td>The Francophile brothers behind this deli, whi...</td>\n",
       "      <td>$9.40.</td>\n",
       "      <td>914 Noyes St.</td>\n",
       "      <td>Evanston</td>\n",
       "      <td>NaN</td>\n",
       "      <td>alsdeli.net</td>\n",
       "      <td>914 Noyes St., Evanston</td>\n",
       "      <td>914 Noyes Street, Evanston, IL 60201, USA</td>\n",
       "      <td>42.058442</td>\n",
       "      <td>-87.684425</td>\n",
       "    </tr>\n",
       "    <tr>\n",
       "      <th>4</th>\n",
       "      <td>5</td>\n",
       "      <td>PB&amp;amp;L</td>\n",
       "      <td>Publican Qualty Meats</td>\n",
       "      <td>When this place opened in February, it quickly...</td>\n",
       "      <td>$10</td>\n",
       "      <td>825 W. Fulton Mkt.</td>\n",
       "      <td>Chicago</td>\n",
       "      <td>312-445-8977</td>\n",
       "      <td>publicanqualitymeats.com</td>\n",
       "      <td>825 W. Fulton Mkt., Chicago</td>\n",
       "      <td>825 West Fulton Market, Chicago, IL 60607, USA</td>\n",
       "      <td>41.886637</td>\n",
       "      <td>-87.648553</td>\n",
       "    </tr>\n",
       "  </tbody>\n",
       "</table>\n",
       "</div>"
      ],
      "text/plain": [
       "   rank           sandwich             restaurant  \\\n",
       "0     1                BLT            Old Oak Tap   \n",
       "1     2      Fried Bologna              Au Cheval   \n",
       "2     3  Woodland Mushroom                   Xoco   \n",
       "3     4         Roast Beef        Al&rsquo;s Deli   \n",
       "4     5           PB&amp;L  Publican Qualty Meats   \n",
       "\n",
       "                                         description   price  \\\n",
       "0  The B is applewood smoked&mdash;nice and snapp...     $10   \n",
       "1  Thought your bologna-eating days had retired w...      $9   \n",
       "2  Leave it to Rick Bayless and crew to come up w...  $9.50.   \n",
       "3  The Francophile brothers behind this deli, whi...  $9.40.   \n",
       "4  When this place opened in February, it quickly...     $10   \n",
       "\n",
       "                address      city         phone                   website  \\\n",
       "0  2109 W. Chicago Ave.   Chicago  773-772-0406          theoldoaktap.com   \n",
       "1   800 W. Randolph St.   Chicago  312-929-4580       aucheval.tumblr.com   \n",
       "2      445 N. Clark St.   Chicago  312-334-3688           rickbayless.com   \n",
       "3         914 Noyes St.  Evanston           NaN               alsdeli.net   \n",
       "4    825 W. Fulton Mkt.   Chicago  312-445-8977  publicanqualitymeats.com   \n",
       "\n",
       "                    full_address  \\\n",
       "0  2109 W. Chicago Ave., Chicago   \n",
       "1   800 W. Randolph St., Chicago   \n",
       "2      445 N. Clark St., Chicago   \n",
       "3        914 Noyes St., Evanston   \n",
       "4    825 W. Fulton Mkt., Chicago   \n",
       "\n",
       "                                  formatted_address        lat        lng  \n",
       "0  2109 West Chicago Avenue, Chicago, IL 60622, USA  41.895734 -87.679960  \n",
       "1  800 West Randolph Street, Chicago, IL 60607, USA  41.884672 -87.647754  \n",
       "2    445 North Clark Street, Chicago, IL 60654, USA  41.890602 -87.630925  \n",
       "3         914 Noyes Street, Evanston, IL 60201, USA  42.058442 -87.684425  \n",
       "4    825 West Fulton Market, Chicago, IL 60607, USA  41.886637 -87.648553  "
      ]
     },
     "execution_count": 154,
     "metadata": {},
     "output_type": "execute_result"
    }
   ],
   "source": [
    "td.head()"
   ]
  },
  {
   "cell_type": "code",
   "execution_count": 155,
   "metadata": {
    "collapsed": false,
    "nbpresent": {
     "id": "bfeaa4df-2722-4e22-b469-6988b3bf62db"
    },
    "slideshow": {
     "slide_type": "slide"
    }
   },
   "outputs": [],
   "source": [
    "u_cols = ['user_id', 'age', 'sex', 'occupation', 'zip_code']\n",
    "users = pd.read_csv('ml-100k/u.user', sep='|', names=u_cols, encoding='latin-1')"
   ]
  },
  {
   "cell_type": "code",
   "execution_count": 156,
   "metadata": {
    "collapsed": false,
    "nbpresent": {
     "id": "84fc4824-5d8a-48cd-8679-c8271c84b4d1"
    },
    "slideshow": {
     "slide_type": "subslide"
    }
   },
   "outputs": [
    {
     "data": {
      "text/html": [
       "<div>\n",
       "<table border=\"1\" class=\"dataframe\">\n",
       "  <thead>\n",
       "    <tr style=\"text-align: right;\">\n",
       "      <th></th>\n",
       "      <th>user_id</th>\n",
       "      <th>age</th>\n",
       "      <th>sex</th>\n",
       "      <th>occupation</th>\n",
       "      <th>zip_code</th>\n",
       "    </tr>\n",
       "  </thead>\n",
       "  <tbody>\n",
       "    <tr>\n",
       "      <th>0</th>\n",
       "      <td>1</td>\n",
       "      <td>24</td>\n",
       "      <td>M</td>\n",
       "      <td>technician</td>\n",
       "      <td>85711</td>\n",
       "    </tr>\n",
       "    <tr>\n",
       "      <th>1</th>\n",
       "      <td>2</td>\n",
       "      <td>53</td>\n",
       "      <td>F</td>\n",
       "      <td>other</td>\n",
       "      <td>94043</td>\n",
       "    </tr>\n",
       "    <tr>\n",
       "      <th>2</th>\n",
       "      <td>3</td>\n",
       "      <td>23</td>\n",
       "      <td>M</td>\n",
       "      <td>writer</td>\n",
       "      <td>32067</td>\n",
       "    </tr>\n",
       "    <tr>\n",
       "      <th>3</th>\n",
       "      <td>4</td>\n",
       "      <td>24</td>\n",
       "      <td>M</td>\n",
       "      <td>technician</td>\n",
       "      <td>43537</td>\n",
       "    </tr>\n",
       "    <tr>\n",
       "      <th>4</th>\n",
       "      <td>5</td>\n",
       "      <td>33</td>\n",
       "      <td>F</td>\n",
       "      <td>other</td>\n",
       "      <td>15213</td>\n",
       "    </tr>\n",
       "  </tbody>\n",
       "</table>\n",
       "</div>"
      ],
      "text/plain": [
       "   user_id  age sex  occupation zip_code\n",
       "0        1   24   M  technician    85711\n",
       "1        2   53   F       other    94043\n",
       "2        3   23   M      writer    32067\n",
       "3        4   24   M  technician    43537\n",
       "4        5   33   F       other    15213"
      ]
     },
     "execution_count": 156,
     "metadata": {},
     "output_type": "execute_result"
    }
   ],
   "source": [
    "users.head()"
   ]
  },
  {
   "cell_type": "code",
   "execution_count": 157,
   "metadata": {
    "collapsed": true,
    "nbpresent": {
     "id": "d01655bf-79b8-4626-8d6b-0dd6e97c9f72"
    },
    "slideshow": {
     "slide_type": "subslide"
    }
   },
   "outputs": [],
   "source": [
    "r_cols = ['user_id', 'movie_id', 'rating', 'unix_timestamp']\n",
    "ratings = pd.read_csv('ml-100k/u.data', sep='\\t', names=r_cols, encoding='latin-1')"
   ]
  },
  {
   "cell_type": "code",
   "execution_count": 158,
   "metadata": {
    "collapsed": false,
    "nbpresent": {
     "id": "79b8140f-d274-4771-96f3-ea5cfb0271ff"
    },
    "slideshow": {
     "slide_type": "subslide"
    }
   },
   "outputs": [
    {
     "data": {
      "text/html": [
       "<div>\n",
       "<table border=\"1\" class=\"dataframe\">\n",
       "  <thead>\n",
       "    <tr style=\"text-align: right;\">\n",
       "      <th></th>\n",
       "      <th>user_id</th>\n",
       "      <th>movie_id</th>\n",
       "      <th>rating</th>\n",
       "      <th>unix_timestamp</th>\n",
       "    </tr>\n",
       "  </thead>\n",
       "  <tbody>\n",
       "    <tr>\n",
       "      <th>0</th>\n",
       "      <td>196</td>\n",
       "      <td>242</td>\n",
       "      <td>3</td>\n",
       "      <td>881250949</td>\n",
       "    </tr>\n",
       "    <tr>\n",
       "      <th>1</th>\n",
       "      <td>186</td>\n",
       "      <td>302</td>\n",
       "      <td>3</td>\n",
       "      <td>891717742</td>\n",
       "    </tr>\n",
       "    <tr>\n",
       "      <th>2</th>\n",
       "      <td>22</td>\n",
       "      <td>377</td>\n",
       "      <td>1</td>\n",
       "      <td>878887116</td>\n",
       "    </tr>\n",
       "    <tr>\n",
       "      <th>3</th>\n",
       "      <td>244</td>\n",
       "      <td>51</td>\n",
       "      <td>2</td>\n",
       "      <td>880606923</td>\n",
       "    </tr>\n",
       "    <tr>\n",
       "      <th>4</th>\n",
       "      <td>166</td>\n",
       "      <td>346</td>\n",
       "      <td>1</td>\n",
       "      <td>886397596</td>\n",
       "    </tr>\n",
       "  </tbody>\n",
       "</table>\n",
       "</div>"
      ],
      "text/plain": [
       "   user_id  movie_id  rating  unix_timestamp\n",
       "0      196       242       3       881250949\n",
       "1      186       302       3       891717742\n",
       "2       22       377       1       878887116\n",
       "3      244        51       2       880606923\n",
       "4      166       346       1       886397596"
      ]
     },
     "execution_count": 158,
     "metadata": {},
     "output_type": "execute_result"
    }
   ],
   "source": [
    "ratings.head()"
   ]
  },
  {
   "cell_type": "code",
   "execution_count": 159,
   "metadata": {
    "collapsed": true,
    "nbpresent": {
     "id": "24e6c3a9-5282-4eea-90ed-8d32618a1ba5"
    },
    "slideshow": {
     "slide_type": "subslide"
    }
   },
   "outputs": [],
   "source": [
    "m_cols = ['movie_id', 'title', 'release_date', 'video_release_date', 'imdb_url']"
   ]
  },
  {
   "cell_type": "code",
   "execution_count": 160,
   "metadata": {
    "collapsed": true,
    "nbpresent": {
     "id": "005db8eb-e9e4-4467-828c-7cc8ebc64503"
    },
    "slideshow": {
     "slide_type": "subslide"
    }
   },
   "outputs": [],
   "source": [
    "movies = pd.read_csv('ml-100k/u.item', sep='|', names=m_cols, usecols=range(5), encoding='latin-1')"
   ]
  },
  {
   "cell_type": "code",
   "execution_count": 161,
   "metadata": {
    "collapsed": false,
    "nbpresent": {
     "id": "77d55f5a-6b32-42fa-b01e-5d5cab305200"
    },
    "slideshow": {
     "slide_type": "subslide"
    }
   },
   "outputs": [
    {
     "data": {
      "text/html": [
       "<div>\n",
       "<table border=\"1\" class=\"dataframe\">\n",
       "  <thead>\n",
       "    <tr style=\"text-align: right;\">\n",
       "      <th></th>\n",
       "      <th>movie_id</th>\n",
       "      <th>title</th>\n",
       "      <th>release_date</th>\n",
       "      <th>video_release_date</th>\n",
       "      <th>imdb_url</th>\n",
       "    </tr>\n",
       "  </thead>\n",
       "  <tbody>\n",
       "    <tr>\n",
       "      <th>0</th>\n",
       "      <td>1</td>\n",
       "      <td>Toy Story (1995)</td>\n",
       "      <td>01-Jan-1995</td>\n",
       "      <td>NaN</td>\n",
       "      <td>http://us.imdb.com/M/title-exact?Toy%20Story%2...</td>\n",
       "    </tr>\n",
       "    <tr>\n",
       "      <th>1</th>\n",
       "      <td>2</td>\n",
       "      <td>GoldenEye (1995)</td>\n",
       "      <td>01-Jan-1995</td>\n",
       "      <td>NaN</td>\n",
       "      <td>http://us.imdb.com/M/title-exact?GoldenEye%20(...</td>\n",
       "    </tr>\n",
       "    <tr>\n",
       "      <th>2</th>\n",
       "      <td>3</td>\n",
       "      <td>Four Rooms (1995)</td>\n",
       "      <td>01-Jan-1995</td>\n",
       "      <td>NaN</td>\n",
       "      <td>http://us.imdb.com/M/title-exact?Four%20Rooms%...</td>\n",
       "    </tr>\n",
       "    <tr>\n",
       "      <th>3</th>\n",
       "      <td>4</td>\n",
       "      <td>Get Shorty (1995)</td>\n",
       "      <td>01-Jan-1995</td>\n",
       "      <td>NaN</td>\n",
       "      <td>http://us.imdb.com/M/title-exact?Get%20Shorty%...</td>\n",
       "    </tr>\n",
       "    <tr>\n",
       "      <th>4</th>\n",
       "      <td>5</td>\n",
       "      <td>Copycat (1995)</td>\n",
       "      <td>01-Jan-1995</td>\n",
       "      <td>NaN</td>\n",
       "      <td>http://us.imdb.com/M/title-exact?Copycat%20(1995)</td>\n",
       "    </tr>\n",
       "  </tbody>\n",
       "</table>\n",
       "</div>"
      ],
      "text/plain": [
       "   movie_id              title release_date  video_release_date  \\\n",
       "0         1   Toy Story (1995)  01-Jan-1995                 NaN   \n",
       "1         2   GoldenEye (1995)  01-Jan-1995                 NaN   \n",
       "2         3  Four Rooms (1995)  01-Jan-1995                 NaN   \n",
       "3         4  Get Shorty (1995)  01-Jan-1995                 NaN   \n",
       "4         5     Copycat (1995)  01-Jan-1995                 NaN   \n",
       "\n",
       "                                            imdb_url  \n",
       "0  http://us.imdb.com/M/title-exact?Toy%20Story%2...  \n",
       "1  http://us.imdb.com/M/title-exact?GoldenEye%20(...  \n",
       "2  http://us.imdb.com/M/title-exact?Four%20Rooms%...  \n",
       "3  http://us.imdb.com/M/title-exact?Get%20Shorty%...  \n",
       "4  http://us.imdb.com/M/title-exact?Copycat%20(1995)  "
      ]
     },
     "execution_count": 161,
     "metadata": {},
     "output_type": "execute_result"
    }
   ],
   "source": [
    "movies.head()"
   ]
  },
  {
   "cell_type": "code",
   "execution_count": 162,
   "metadata": {
    "collapsed": false,
    "nbpresent": {
     "id": "df522cac-41f1-4532-865e-78fc2a7c8c72"
    },
    "slideshow": {
     "slide_type": "fragment"
    }
   },
   "outputs": [
    {
     "name": "stdout",
     "output_type": "stream",
     "text": [
      "<class 'pandas.core.frame.DataFrame'>\n",
      "RangeIndex: 1682 entries, 0 to 1681\n",
      "Data columns (total 5 columns):\n",
      "movie_id              1682 non-null int64\n",
      "title                 1682 non-null object\n",
      "release_date          1681 non-null object\n",
      "video_release_date    0 non-null float64\n",
      "imdb_url              1679 non-null object\n",
      "dtypes: float64(1), int64(1), object(3)\n",
      "memory usage: 65.8+ KB\n"
     ]
    }
   ],
   "source": [
    "movies.info()"
   ]
  },
  {
   "cell_type": "code",
   "execution_count": 163,
   "metadata": {
    "collapsed": false,
    "nbpresent": {
     "id": "b7042f5d-f2f7-41f9-86a2-73ad499280bd"
    },
    "slideshow": {
     "slide_type": "fragment"
    }
   },
   "outputs": [
    {
     "data": {
      "text/plain": [
       "movie_id                int64\n",
       "title                  object\n",
       "release_date           object\n",
       "video_release_date    float64\n",
       "imdb_url               object\n",
       "dtype: object"
      ]
     },
     "execution_count": 163,
     "metadata": {},
     "output_type": "execute_result"
    }
   ],
   "source": [
    "movies.dtypes"
   ]
  },
  {
   "cell_type": "code",
   "execution_count": 164,
   "metadata": {
    "collapsed": false,
    "nbpresent": {
     "id": "0d2bdaff-a9f4-4ec6-8473-b7ed5ea5e69b"
    },
    "slideshow": {
     "slide_type": "subslide"
    }
   },
   "outputs": [
    {
     "data": {
      "text/html": [
       "<div>\n",
       "<table border=\"1\" class=\"dataframe\">\n",
       "  <thead>\n",
       "    <tr style=\"text-align: right;\">\n",
       "      <th></th>\n",
       "      <th>user_id</th>\n",
       "      <th>age</th>\n",
       "    </tr>\n",
       "  </thead>\n",
       "  <tbody>\n",
       "    <tr>\n",
       "      <th>count</th>\n",
       "      <td>943.000000</td>\n",
       "      <td>943.000000</td>\n",
       "    </tr>\n",
       "    <tr>\n",
       "      <th>mean</th>\n",
       "      <td>472.000000</td>\n",
       "      <td>34.051962</td>\n",
       "    </tr>\n",
       "    <tr>\n",
       "      <th>std</th>\n",
       "      <td>272.364951</td>\n",
       "      <td>12.192740</td>\n",
       "    </tr>\n",
       "    <tr>\n",
       "      <th>min</th>\n",
       "      <td>1.000000</td>\n",
       "      <td>7.000000</td>\n",
       "    </tr>\n",
       "    <tr>\n",
       "      <th>25%</th>\n",
       "      <td>236.500000</td>\n",
       "      <td>25.000000</td>\n",
       "    </tr>\n",
       "    <tr>\n",
       "      <th>50%</th>\n",
       "      <td>472.000000</td>\n",
       "      <td>31.000000</td>\n",
       "    </tr>\n",
       "    <tr>\n",
       "      <th>75%</th>\n",
       "      <td>707.500000</td>\n",
       "      <td>43.000000</td>\n",
       "    </tr>\n",
       "    <tr>\n",
       "      <th>max</th>\n",
       "      <td>943.000000</td>\n",
       "      <td>73.000000</td>\n",
       "    </tr>\n",
       "  </tbody>\n",
       "</table>\n",
       "</div>"
      ],
      "text/plain": [
       "          user_id         age\n",
       "count  943.000000  943.000000\n",
       "mean   472.000000   34.051962\n",
       "std    272.364951   12.192740\n",
       "min      1.000000    7.000000\n",
       "25%    236.500000   25.000000\n",
       "50%    472.000000   31.000000\n",
       "75%    707.500000   43.000000\n",
       "max    943.000000   73.000000"
      ]
     },
     "execution_count": 164,
     "metadata": {},
     "output_type": "execute_result"
    }
   ],
   "source": [
    "users.describe()"
   ]
  },
  {
   "cell_type": "code",
   "execution_count": 165,
   "metadata": {
    "collapsed": false,
    "nbpresent": {
     "id": "0c5029cf-723d-44ef-bf71-ebebb4e74014"
    },
    "slideshow": {
     "slide_type": "subslide"
    }
   },
   "outputs": [
    {
     "data": {
      "text/html": [
       "<div>\n",
       "<table border=\"1\" class=\"dataframe\">\n",
       "  <thead>\n",
       "    <tr style=\"text-align: right;\">\n",
       "      <th></th>\n",
       "      <th>movie_id</th>\n",
       "      <th>title</th>\n",
       "      <th>release_date</th>\n",
       "      <th>video_release_date</th>\n",
       "      <th>imdb_url</th>\n",
       "    </tr>\n",
       "  </thead>\n",
       "  <tbody>\n",
       "    <tr>\n",
       "      <th>1679</th>\n",
       "      <td>1680</td>\n",
       "      <td>Sliding Doors (1998)</td>\n",
       "      <td>01-Jan-1998</td>\n",
       "      <td>NaN</td>\n",
       "      <td>http://us.imdb.com/Title?Sliding+Doors+(1998)</td>\n",
       "    </tr>\n",
       "    <tr>\n",
       "      <th>1680</th>\n",
       "      <td>1681</td>\n",
       "      <td>You So Crazy (1994)</td>\n",
       "      <td>01-Jan-1994</td>\n",
       "      <td>NaN</td>\n",
       "      <td>http://us.imdb.com/M/title-exact?You%20So%20Cr...</td>\n",
       "    </tr>\n",
       "    <tr>\n",
       "      <th>1681</th>\n",
       "      <td>1682</td>\n",
       "      <td>Scream of Stone (Schrei aus Stein) (1991)</td>\n",
       "      <td>08-Mar-1996</td>\n",
       "      <td>NaN</td>\n",
       "      <td>http://us.imdb.com/M/title-exact?Schrei%20aus%...</td>\n",
       "    </tr>\n",
       "  </tbody>\n",
       "</table>\n",
       "</div>"
      ],
      "text/plain": [
       "      movie_id                                      title release_date  \\\n",
       "1679      1680                       Sliding Doors (1998)  01-Jan-1998   \n",
       "1680      1681                        You So Crazy (1994)  01-Jan-1994   \n",
       "1681      1682  Scream of Stone (Schrei aus Stein) (1991)  08-Mar-1996   \n",
       "\n",
       "      video_release_date                                           imdb_url  \n",
       "1679                 NaN      http://us.imdb.com/Title?Sliding+Doors+(1998)  \n",
       "1680                 NaN  http://us.imdb.com/M/title-exact?You%20So%20Cr...  \n",
       "1681                 NaN  http://us.imdb.com/M/title-exact?Schrei%20aus%...  "
      ]
     },
     "execution_count": 165,
     "metadata": {},
     "output_type": "execute_result"
    }
   ],
   "source": [
    "movies.tail(3)"
   ]
  },
  {
   "cell_type": "code",
   "execution_count": 166,
   "metadata": {
    "collapsed": false,
    "nbpresent": {
     "id": "87ff76a3-62a7-41b2-870c-0b698718bcbd"
    },
    "slideshow": {
     "slide_type": "fragment"
    }
   },
   "outputs": [
    {
     "data": {
      "text/html": [
       "<div>\n",
       "<table border=\"1\" class=\"dataframe\">\n",
       "  <thead>\n",
       "    <tr style=\"text-align: right;\">\n",
       "      <th></th>\n",
       "      <th>movie_id</th>\n",
       "      <th>title</th>\n",
       "      <th>release_date</th>\n",
       "      <th>video_release_date</th>\n",
       "      <th>imdb_url</th>\n",
       "    </tr>\n",
       "  </thead>\n",
       "  <tbody>\n",
       "    <tr>\n",
       "      <th>20</th>\n",
       "      <td>21</td>\n",
       "      <td>Muppet Treasure Island (1996)</td>\n",
       "      <td>16-Feb-1996</td>\n",
       "      <td>NaN</td>\n",
       "      <td>http://us.imdb.com/M/title-exact?Muppet%20Trea...</td>\n",
       "    </tr>\n",
       "    <tr>\n",
       "      <th>21</th>\n",
       "      <td>22</td>\n",
       "      <td>Braveheart (1995)</td>\n",
       "      <td>16-Feb-1996</td>\n",
       "      <td>NaN</td>\n",
       "      <td>http://us.imdb.com/M/title-exact?Braveheart%20...</td>\n",
       "    </tr>\n",
       "  </tbody>\n",
       "</table>\n",
       "</div>"
      ],
      "text/plain": [
       "    movie_id                          title release_date  video_release_date  \\\n",
       "20        21  Muppet Treasure Island (1996)  16-Feb-1996                 NaN   \n",
       "21        22              Braveheart (1995)  16-Feb-1996                 NaN   \n",
       "\n",
       "                                             imdb_url  \n",
       "20  http://us.imdb.com/M/title-exact?Muppet%20Trea...  \n",
       "21  http://us.imdb.com/M/title-exact?Braveheart%20...  "
      ]
     },
     "execution_count": 166,
     "metadata": {},
     "output_type": "execute_result"
    }
   ],
   "source": [
    "movies[20:22]"
   ]
  },
  {
   "cell_type": "code",
   "execution_count": 167,
   "metadata": {
    "collapsed": false,
    "nbpresent": {
     "id": "67370c1b-310a-4243-99f6-5c88693318b0"
    },
    "slideshow": {
     "slide_type": "fragment"
    }
   },
   "outputs": [
    {
     "data": {
      "text/html": [
       "<div>\n",
       "<table border=\"1\" class=\"dataframe\">\n",
       "  <thead>\n",
       "    <tr style=\"text-align: right;\">\n",
       "      <th></th>\n",
       "      <th>movie_id</th>\n",
       "      <th>title</th>\n",
       "      <th>release_date</th>\n",
       "      <th>video_release_date</th>\n",
       "      <th>imdb_url</th>\n",
       "    </tr>\n",
       "  </thead>\n",
       "  <tbody>\n",
       "    <tr>\n",
       "      <th>0</th>\n",
       "      <td>1</td>\n",
       "      <td>Toy Story (1995)</td>\n",
       "      <td>01-Jan-1995</td>\n",
       "      <td>NaN</td>\n",
       "      <td>http://us.imdb.com/M/title-exact?Toy%20Story%2...</td>\n",
       "    </tr>\n",
       "  </tbody>\n",
       "</table>\n",
       "</div>"
      ],
      "text/plain": [
       "   movie_id             title release_date  video_release_date  \\\n",
       "0         1  Toy Story (1995)  01-Jan-1995                 NaN   \n",
       "\n",
       "                                            imdb_url  \n",
       "0  http://us.imdb.com/M/title-exact?Toy%20Story%2...  "
      ]
     },
     "execution_count": 167,
     "metadata": {},
     "output_type": "execute_result"
    }
   ],
   "source": [
    "movies[0:1]"
   ]
  },
  {
   "cell_type": "code",
   "execution_count": 168,
   "metadata": {
    "collapsed": false,
    "nbpresent": {
     "id": "037cdba1-d847-42f0-91f7-ac66c0e4c543"
    },
    "slideshow": {
     "slide_type": "subslide"
    }
   },
   "outputs": [
    {
     "data": {
      "text/plain": [
       "0    technician\n",
       "1         other\n",
       "2        writer\n",
       "3    technician\n",
       "4         other\n",
       "Name: occupation, dtype: object"
      ]
     },
     "execution_count": 168,
     "metadata": {},
     "output_type": "execute_result"
    }
   ],
   "source": [
    "users['occupation'].head()"
   ]
  },
  {
   "cell_type": "code",
   "execution_count": 169,
   "metadata": {
    "collapsed": false,
    "nbpresent": {
     "id": "b8cabc2f-8ce5-4925-94a3-ee207e7d100e"
    },
    "slideshow": {
     "slide_type": "subslide"
    }
   },
   "outputs": [
    {
     "data": {
      "text/html": [
       "<div>\n",
       "<table border=\"1\" class=\"dataframe\">\n",
       "  <thead>\n",
       "    <tr style=\"text-align: right;\">\n",
       "      <th></th>\n",
       "      <th>age</th>\n",
       "      <th>zip_code</th>\n",
       "    </tr>\n",
       "  </thead>\n",
       "  <tbody>\n",
       "    <tr>\n",
       "      <th>0</th>\n",
       "      <td>24</td>\n",
       "      <td>85711</td>\n",
       "    </tr>\n",
       "    <tr>\n",
       "      <th>1</th>\n",
       "      <td>53</td>\n",
       "      <td>94043</td>\n",
       "    </tr>\n",
       "    <tr>\n",
       "      <th>2</th>\n",
       "      <td>23</td>\n",
       "      <td>32067</td>\n",
       "    </tr>\n",
       "    <tr>\n",
       "      <th>3</th>\n",
       "      <td>24</td>\n",
       "      <td>43537</td>\n",
       "    </tr>\n",
       "    <tr>\n",
       "      <th>4</th>\n",
       "      <td>33</td>\n",
       "      <td>15213</td>\n",
       "    </tr>\n",
       "  </tbody>\n",
       "</table>\n",
       "</div>"
      ],
      "text/plain": [
       "   age zip_code\n",
       "0   24    85711\n",
       "1   53    94043\n",
       "2   23    32067\n",
       "3   24    43537\n",
       "4   33    15213"
      ]
     },
     "execution_count": 169,
     "metadata": {},
     "output_type": "execute_result"
    }
   ],
   "source": [
    "users[['age', 'zip_code']].head()"
   ]
  },
  {
   "cell_type": "code",
   "execution_count": 170,
   "metadata": {
    "collapsed": false,
    "nbpresent": {
     "id": "d6ad8570-500e-4e03-9574-a37ce634af34"
    },
    "slideshow": {
     "slide_type": "subslide"
    }
   },
   "outputs": [
    {
     "data": {
      "text/html": [
       "<div>\n",
       "<table border=\"1\" class=\"dataframe\">\n",
       "  <thead>\n",
       "    <tr style=\"text-align: right;\">\n",
       "      <th></th>\n",
       "      <th>occupation</th>\n",
       "      <th>sex</th>\n",
       "    </tr>\n",
       "  </thead>\n",
       "  <tbody>\n",
       "    <tr>\n",
       "      <th>0</th>\n",
       "      <td>technician</td>\n",
       "      <td>M</td>\n",
       "    </tr>\n",
       "    <tr>\n",
       "      <th>1</th>\n",
       "      <td>other</td>\n",
       "      <td>F</td>\n",
       "    </tr>\n",
       "    <tr>\n",
       "      <th>2</th>\n",
       "      <td>writer</td>\n",
       "      <td>M</td>\n",
       "    </tr>\n",
       "    <tr>\n",
       "      <th>3</th>\n",
       "      <td>technician</td>\n",
       "      <td>M</td>\n",
       "    </tr>\n",
       "    <tr>\n",
       "      <th>4</th>\n",
       "      <td>other</td>\n",
       "      <td>F</td>\n",
       "    </tr>\n",
       "  </tbody>\n",
       "</table>\n",
       "</div>"
      ],
      "text/plain": [
       "   occupation sex\n",
       "0  technician   M\n",
       "1       other   F\n",
       "2      writer   M\n",
       "3  technician   M\n",
       "4       other   F"
      ]
     },
     "execution_count": 170,
     "metadata": {},
     "output_type": "execute_result"
    }
   ],
   "source": [
    "custom_cols = ['occupation', 'sex']\n",
    "users[custom_cols].head()"
   ]
  },
  {
   "cell_type": "code",
   "execution_count": 171,
   "metadata": {
    "collapsed": false,
    "nbpresent": {
     "id": "33b04f57-823b-4c53-b9de-0ed908e82fa8"
    },
    "slideshow": {
     "slide_type": "subslide"
    }
   },
   "outputs": [
    {
     "data": {
      "text/html": [
       "<div>\n",
       "<table border=\"1\" class=\"dataframe\">\n",
       "  <thead>\n",
       "    <tr style=\"text-align: right;\">\n",
       "      <th></th>\n",
       "      <th>user_id</th>\n",
       "      <th>age</th>\n",
       "      <th>sex</th>\n",
       "      <th>occupation</th>\n",
       "      <th>zip_code</th>\n",
       "    </tr>\n",
       "  </thead>\n",
       "  <tbody>\n",
       "    <tr>\n",
       "      <th>1</th>\n",
       "      <td>2</td>\n",
       "      <td>53</td>\n",
       "      <td>F</td>\n",
       "      <td>other</td>\n",
       "      <td>94043</td>\n",
       "    </tr>\n",
       "    <tr>\n",
       "      <th>4</th>\n",
       "      <td>5</td>\n",
       "      <td>33</td>\n",
       "      <td>F</td>\n",
       "      <td>other</td>\n",
       "      <td>15213</td>\n",
       "    </tr>\n",
       "    <tr>\n",
       "      <th>5</th>\n",
       "      <td>6</td>\n",
       "      <td>42</td>\n",
       "      <td>M</td>\n",
       "      <td>executive</td>\n",
       "      <td>98101</td>\n",
       "    </tr>\n",
       "  </tbody>\n",
       "</table>\n",
       "</div>"
      ],
      "text/plain": [
       "   user_id  age sex occupation zip_code\n",
       "1        2   53   F      other    94043\n",
       "4        5   33   F      other    15213\n",
       "5        6   42   M  executive    98101"
      ]
     },
     "execution_count": 171,
     "metadata": {},
     "output_type": "execute_result"
    }
   ],
   "source": [
    "users[users.age > 25].head(3)"
   ]
  },
  {
   "cell_type": "code",
   "execution_count": 172,
   "metadata": {
    "collapsed": false,
    "nbpresent": {
     "id": "d04c5e6a-f726-4fa3-a5a9-77521c6ec1db"
    },
    "slideshow": {
     "slide_type": "subslide"
    }
   },
   "outputs": [
    {
     "data": {
      "text/html": [
       "<div>\n",
       "<table border=\"1\" class=\"dataframe\">\n",
       "  <thead>\n",
       "    <tr style=\"text-align: right;\">\n",
       "      <th></th>\n",
       "      <th>user_id</th>\n",
       "      <th>age</th>\n",
       "      <th>sex</th>\n",
       "      <th>occupation</th>\n",
       "      <th>zip_code</th>\n",
       "    </tr>\n",
       "  </thead>\n",
       "  <tbody>\n",
       "    <tr>\n",
       "      <th>0</th>\n",
       "      <td>1</td>\n",
       "      <td>24</td>\n",
       "      <td>M</td>\n",
       "      <td>technician</td>\n",
       "      <td>85711</td>\n",
       "    </tr>\n",
       "    <tr>\n",
       "      <th>1</th>\n",
       "      <td>2</td>\n",
       "      <td>53</td>\n",
       "      <td>F</td>\n",
       "      <td>other</td>\n",
       "      <td>94043</td>\n",
       "    </tr>\n",
       "    <tr>\n",
       "      <th>2</th>\n",
       "      <td>3</td>\n",
       "      <td>23</td>\n",
       "      <td>M</td>\n",
       "      <td>writer</td>\n",
       "      <td>32067</td>\n",
       "    </tr>\n",
       "  </tbody>\n",
       "</table>\n",
       "</div>"
      ],
      "text/plain": [
       "   user_id  age sex  occupation zip_code\n",
       "0        1   24   M  technician    85711\n",
       "1        2   53   F       other    94043\n",
       "2        3   23   M      writer    32067"
      ]
     },
     "execution_count": 172,
     "metadata": {},
     "output_type": "execute_result"
    }
   ],
   "source": [
    "users[(users.sex =='F')|(users.age < 30)].head(3)"
   ]
  },
  {
   "cell_type": "code",
   "execution_count": 173,
   "metadata": {
    "collapsed": false,
    "nbpresent": {
     "id": "e37d5e76-829b-4fbe-968c-36c957731c6c"
    },
    "slideshow": {
     "slide_type": "subslide"
    }
   },
   "outputs": [
    {
     "data": {
      "text/html": [
       "<div>\n",
       "<table border=\"1\" class=\"dataframe\">\n",
       "  <thead>\n",
       "    <tr style=\"text-align: right;\">\n",
       "      <th></th>\n",
       "      <th>user_id</th>\n",
       "      <th>age</th>\n",
       "      <th>sex</th>\n",
       "      <th>occupation</th>\n",
       "      <th>zip_code</th>\n",
       "    </tr>\n",
       "  </thead>\n",
       "  <tbody>\n",
       "    <tr>\n",
       "      <th>5</th>\n",
       "      <td>6</td>\n",
       "      <td>42</td>\n",
       "      <td>M</td>\n",
       "      <td>executive</td>\n",
       "      <td>98101</td>\n",
       "    </tr>\n",
       "    <tr>\n",
       "      <th>6</th>\n",
       "      <td>7</td>\n",
       "      <td>57</td>\n",
       "      <td>M</td>\n",
       "      <td>administrator</td>\n",
       "      <td>91344</td>\n",
       "    </tr>\n",
       "    <tr>\n",
       "      <th>9</th>\n",
       "      <td>10</td>\n",
       "      <td>53</td>\n",
       "      <td>M</td>\n",
       "      <td>lawyer</td>\n",
       "      <td>90703</td>\n",
       "    </tr>\n",
       "    <tr>\n",
       "      <th>12</th>\n",
       "      <td>13</td>\n",
       "      <td>47</td>\n",
       "      <td>M</td>\n",
       "      <td>educator</td>\n",
       "      <td>29206</td>\n",
       "    </tr>\n",
       "    <tr>\n",
       "      <th>13</th>\n",
       "      <td>14</td>\n",
       "      <td>45</td>\n",
       "      <td>M</td>\n",
       "      <td>scientist</td>\n",
       "      <td>55106</td>\n",
       "    </tr>\n",
       "    <tr>\n",
       "      <th>25</th>\n",
       "      <td>26</td>\n",
       "      <td>49</td>\n",
       "      <td>M</td>\n",
       "      <td>engineer</td>\n",
       "      <td>21044</td>\n",
       "    </tr>\n",
       "    <tr>\n",
       "      <th>28</th>\n",
       "      <td>29</td>\n",
       "      <td>41</td>\n",
       "      <td>M</td>\n",
       "      <td>programmer</td>\n",
       "      <td>94043</td>\n",
       "    </tr>\n",
       "    <tr>\n",
       "      <th>38</th>\n",
       "      <td>39</td>\n",
       "      <td>41</td>\n",
       "      <td>M</td>\n",
       "      <td>entertainment</td>\n",
       "      <td>01040</td>\n",
       "    </tr>\n",
       "    <tr>\n",
       "      <th>46</th>\n",
       "      <td>47</td>\n",
       "      <td>53</td>\n",
       "      <td>M</td>\n",
       "      <td>marketing</td>\n",
       "      <td>07102</td>\n",
       "    </tr>\n",
       "    <tr>\n",
       "      <th>47</th>\n",
       "      <td>48</td>\n",
       "      <td>45</td>\n",
       "      <td>M</td>\n",
       "      <td>administrator</td>\n",
       "      <td>12550</td>\n",
       "    </tr>\n",
       "  </tbody>\n",
       "</table>\n",
       "</div>"
      ],
      "text/plain": [
       "    user_id  age sex     occupation zip_code\n",
       "5         6   42   M      executive    98101\n",
       "6         7   57   M  administrator    91344\n",
       "9        10   53   M         lawyer    90703\n",
       "12       13   47   M       educator    29206\n",
       "13       14   45   M      scientist    55106\n",
       "25       26   49   M       engineer    21044\n",
       "28       29   41   M     programmer    94043\n",
       "38       39   41   M  entertainment    01040\n",
       "46       47   53   M      marketing    07102\n",
       "47       48   45   M  administrator    12550"
      ]
     },
     "execution_count": 173,
     "metadata": {},
     "output_type": "execute_result"
    }
   ],
   "source": [
    "users[(users.sex=='M')&(users.age>40)].head(10)"
   ]
  },
  {
   "cell_type": "code",
   "execution_count": 174,
   "metadata": {
    "collapsed": true,
    "nbpresent": {
     "id": "fe572540-7bdb-43ce-8a15-700d74b9dfba"
    },
    "slideshow": {
     "slide_type": "subslide"
    }
   },
   "outputs": [],
   "source": [
    "df = users.set_index('user_id')"
   ]
  },
  {
   "cell_type": "code",
   "execution_count": 175,
   "metadata": {
    "collapsed": false,
    "nbpresent": {
     "id": "085cbbf3-1423-47f5-b351-7ccd9628a693"
    },
    "slideshow": {
     "slide_type": "subslide"
    }
   },
   "outputs": [
    {
     "data": {
      "text/html": [
       "<div>\n",
       "<table border=\"1\" class=\"dataframe\">\n",
       "  <thead>\n",
       "    <tr style=\"text-align: right;\">\n",
       "      <th></th>\n",
       "      <th>age</th>\n",
       "      <th>sex</th>\n",
       "      <th>occupation</th>\n",
       "      <th>zip_code</th>\n",
       "    </tr>\n",
       "    <tr>\n",
       "      <th>user_id</th>\n",
       "      <th></th>\n",
       "      <th></th>\n",
       "      <th></th>\n",
       "      <th></th>\n",
       "    </tr>\n",
       "  </thead>\n",
       "  <tbody>\n",
       "    <tr>\n",
       "      <th>1</th>\n",
       "      <td>24</td>\n",
       "      <td>M</td>\n",
       "      <td>technician</td>\n",
       "      <td>85711</td>\n",
       "    </tr>\n",
       "    <tr>\n",
       "      <th>2</th>\n",
       "      <td>53</td>\n",
       "      <td>F</td>\n",
       "      <td>other</td>\n",
       "      <td>94043</td>\n",
       "    </tr>\n",
       "    <tr>\n",
       "      <th>3</th>\n",
       "      <td>23</td>\n",
       "      <td>M</td>\n",
       "      <td>writer</td>\n",
       "      <td>32067</td>\n",
       "    </tr>\n",
       "    <tr>\n",
       "      <th>4</th>\n",
       "      <td>24</td>\n",
       "      <td>M</td>\n",
       "      <td>technician</td>\n",
       "      <td>43537</td>\n",
       "    </tr>\n",
       "    <tr>\n",
       "      <th>5</th>\n",
       "      <td>33</td>\n",
       "      <td>F</td>\n",
       "      <td>other</td>\n",
       "      <td>15213</td>\n",
       "    </tr>\n",
       "  </tbody>\n",
       "</table>\n",
       "</div>"
      ],
      "text/plain": [
       "         age sex  occupation zip_code\n",
       "user_id                              \n",
       "1         24   M  technician    85711\n",
       "2         53   F       other    94043\n",
       "3         23   M      writer    32067\n",
       "4         24   M  technician    43537\n",
       "5         33   F       other    15213"
      ]
     },
     "execution_count": 175,
     "metadata": {},
     "output_type": "execute_result"
    }
   ],
   "source": [
    "df.head()"
   ]
  },
  {
   "cell_type": "code",
   "execution_count": 176,
   "metadata": {
    "collapsed": false,
    "nbpresent": {
     "id": "33341745-76f7-4fbf-95d8-f8c121669e4c"
    },
    "slideshow": {
     "slide_type": "subslide"
    }
   },
   "outputs": [
    {
     "data": {
      "text/html": [
       "<div>\n",
       "<table border=\"1\" class=\"dataframe\">\n",
       "  <thead>\n",
       "    <tr style=\"text-align: right;\">\n",
       "      <th></th>\n",
       "      <th>user_id</th>\n",
       "      <th>age</th>\n",
       "      <th>sex</th>\n",
       "      <th>occupation</th>\n",
       "      <th>zip_code</th>\n",
       "    </tr>\n",
       "  </thead>\n",
       "  <tbody>\n",
       "    <tr>\n",
       "      <th>0</th>\n",
       "      <td>1</td>\n",
       "      <td>24</td>\n",
       "      <td>M</td>\n",
       "      <td>technician</td>\n",
       "      <td>85711</td>\n",
       "    </tr>\n",
       "    <tr>\n",
       "      <th>1</th>\n",
       "      <td>2</td>\n",
       "      <td>53</td>\n",
       "      <td>F</td>\n",
       "      <td>other</td>\n",
       "      <td>94043</td>\n",
       "    </tr>\n",
       "    <tr>\n",
       "      <th>2</th>\n",
       "      <td>3</td>\n",
       "      <td>23</td>\n",
       "      <td>M</td>\n",
       "      <td>writer</td>\n",
       "      <td>32067</td>\n",
       "    </tr>\n",
       "    <tr>\n",
       "      <th>3</th>\n",
       "      <td>4</td>\n",
       "      <td>24</td>\n",
       "      <td>M</td>\n",
       "      <td>technician</td>\n",
       "      <td>43537</td>\n",
       "    </tr>\n",
       "    <tr>\n",
       "      <th>4</th>\n",
       "      <td>5</td>\n",
       "      <td>33</td>\n",
       "      <td>F</td>\n",
       "      <td>other</td>\n",
       "      <td>15213</td>\n",
       "    </tr>\n",
       "  </tbody>\n",
       "</table>\n",
       "</div>"
      ],
      "text/plain": [
       "   user_id  age sex  occupation zip_code\n",
       "0        1   24   M  technician    85711\n",
       "1        2   53   F       other    94043\n",
       "2        3   23   M      writer    32067\n",
       "3        4   24   M  technician    43537\n",
       "4        5   33   F       other    15213"
      ]
     },
     "execution_count": 176,
     "metadata": {},
     "output_type": "execute_result"
    }
   ],
   "source": [
    "users.head()"
   ]
  },
  {
   "cell_type": "code",
   "execution_count": 177,
   "metadata": {
    "collapsed": true,
    "nbpresent": {
     "id": "4ff8262c-be0d-44bc-b0f1-bcfa3d5d2fa9"
    },
    "slideshow": {
     "slide_type": "fragment"
    }
   },
   "outputs": [],
   "source": [
    "df = users"
   ]
  },
  {
   "cell_type": "code",
   "execution_count": 178,
   "metadata": {
    "collapsed": false,
    "nbpresent": {
     "id": "6cbf1ed8-53a8-414d-badc-d38d81c82901"
    },
    "slideshow": {
     "slide_type": "fragment"
    }
   },
   "outputs": [],
   "source": [
    "users.set_index('user_id', inplace=True)"
   ]
  },
  {
   "cell_type": "code",
   "execution_count": 179,
   "metadata": {
    "collapsed": false,
    "nbpresent": {
     "id": "bf0a3baa-3ba7-457e-88e6-9063fe3c5c73"
    },
    "slideshow": {
     "slide_type": "fragment"
    }
   },
   "outputs": [
    {
     "data": {
      "text/html": [
       "<div>\n",
       "<table border=\"1\" class=\"dataframe\">\n",
       "  <thead>\n",
       "    <tr style=\"text-align: right;\">\n",
       "      <th></th>\n",
       "      <th>age</th>\n",
       "      <th>sex</th>\n",
       "      <th>occupation</th>\n",
       "      <th>zip_code</th>\n",
       "    </tr>\n",
       "    <tr>\n",
       "      <th>user_id</th>\n",
       "      <th></th>\n",
       "      <th></th>\n",
       "      <th></th>\n",
       "      <th></th>\n",
       "    </tr>\n",
       "  </thead>\n",
       "  <tbody>\n",
       "    <tr>\n",
       "      <th>1</th>\n",
       "      <td>24</td>\n",
       "      <td>M</td>\n",
       "      <td>technician</td>\n",
       "      <td>85711</td>\n",
       "    </tr>\n",
       "    <tr>\n",
       "      <th>2</th>\n",
       "      <td>53</td>\n",
       "      <td>F</td>\n",
       "      <td>other</td>\n",
       "      <td>94043</td>\n",
       "    </tr>\n",
       "    <tr>\n",
       "      <th>3</th>\n",
       "      <td>23</td>\n",
       "      <td>M</td>\n",
       "      <td>writer</td>\n",
       "      <td>32067</td>\n",
       "    </tr>\n",
       "    <tr>\n",
       "      <th>4</th>\n",
       "      <td>24</td>\n",
       "      <td>M</td>\n",
       "      <td>technician</td>\n",
       "      <td>43537</td>\n",
       "    </tr>\n",
       "    <tr>\n",
       "      <th>5</th>\n",
       "      <td>33</td>\n",
       "      <td>F</td>\n",
       "      <td>other</td>\n",
       "      <td>15213</td>\n",
       "    </tr>\n",
       "  </tbody>\n",
       "</table>\n",
       "</div>"
      ],
      "text/plain": [
       "         age sex  occupation zip_code\n",
       "user_id                              \n",
       "1         24   M  technician    85711\n",
       "2         53   F       other    94043\n",
       "3         23   M      writer    32067\n",
       "4         24   M  technician    43537\n",
       "5         33   F       other    15213"
      ]
     },
     "execution_count": 179,
     "metadata": {},
     "output_type": "execute_result"
    }
   ],
   "source": [
    "users.head()"
   ]
  },
  {
   "cell_type": "code",
   "execution_count": 180,
   "metadata": {
    "collapsed": false,
    "nbpresent": {
     "id": "89cdabd6-9067-4459-abaa-d10099a14c3e"
    },
    "slideshow": {
     "slide_type": "fragment"
    }
   },
   "outputs": [
    {
     "data": {
      "text/plain": [
       "age                  36\n",
       "sex                   M\n",
       "occupation    executive\n",
       "zip_code          90254\n",
       "Name: 100, dtype: object"
      ]
     },
     "execution_count": 180,
     "metadata": {},
     "output_type": "execute_result"
    }
   ],
   "source": [
    "users.iloc[99]"
   ]
  },
  {
   "cell_type": "code",
   "execution_count": 181,
   "metadata": {
    "collapsed": false,
    "nbpresent": {
     "id": "a316df53-8277-4135-9865-e85b2f458c84"
    },
    "slideshow": {
     "slide_type": "fragment"
    }
   },
   "outputs": [
    {
     "data": {
      "text/html": [
       "<div>\n",
       "<table border=\"1\" class=\"dataframe\">\n",
       "  <thead>\n",
       "    <tr style=\"text-align: right;\">\n",
       "      <th></th>\n",
       "      <th>age</th>\n",
       "      <th>sex</th>\n",
       "      <th>occupation</th>\n",
       "      <th>zip_code</th>\n",
       "    </tr>\n",
       "    <tr>\n",
       "      <th>user_id</th>\n",
       "      <th></th>\n",
       "      <th></th>\n",
       "      <th></th>\n",
       "      <th></th>\n",
       "    </tr>\n",
       "  </thead>\n",
       "  <tbody>\n",
       "    <tr>\n",
       "      <th>2</th>\n",
       "      <td>53</td>\n",
       "      <td>F</td>\n",
       "      <td>other</td>\n",
       "      <td>94043</td>\n",
       "    </tr>\n",
       "    <tr>\n",
       "      <th>51</th>\n",
       "      <td>28</td>\n",
       "      <td>M</td>\n",
       "      <td>educator</td>\n",
       "      <td>16509</td>\n",
       "    </tr>\n",
       "    <tr>\n",
       "      <th>301</th>\n",
       "      <td>24</td>\n",
       "      <td>M</td>\n",
       "      <td>student</td>\n",
       "      <td>55439</td>\n",
       "    </tr>\n",
       "  </tbody>\n",
       "</table>\n",
       "</div>"
      ],
      "text/plain": [
       "         age sex occupation zip_code\n",
       "user_id                             \n",
       "2         53   F      other    94043\n",
       "51        28   M   educator    16509\n",
       "301       24   M    student    55439"
      ]
     },
     "execution_count": 181,
     "metadata": {},
     "output_type": "execute_result"
    }
   ],
   "source": [
    "users.iloc[[1, 50, 300]]"
   ]
  },
  {
   "cell_type": "code",
   "execution_count": 182,
   "metadata": {
    "collapsed": false,
    "nbpresent": {
     "id": "f00b2b35-6d6a-4d52-b3a3-5c0c9c9e4b37"
    },
    "slideshow": {
     "slide_type": "fragment"
    }
   },
   "outputs": [
    {
     "data": {
      "text/plain": [
       "age                  36\n",
       "sex                   M\n",
       "occupation    executive\n",
       "zip_code          90254\n",
       "Name: 100, dtype: object"
      ]
     },
     "execution_count": 182,
     "metadata": {},
     "output_type": "execute_result"
    }
   ],
   "source": [
    "users.loc[100]"
   ]
  },
  {
   "cell_type": "code",
   "execution_count": 183,
   "metadata": {
    "collapsed": false,
    "nbpresent": {
     "id": "d7feabd3-ba72-42a0-bd15-31519a1355de"
    },
    "slideshow": {
     "slide_type": "fragment"
    }
   },
   "outputs": [
    {
     "data": {
      "text/html": [
       "<div>\n",
       "<table border=\"1\" class=\"dataframe\">\n",
       "  <thead>\n",
       "    <tr style=\"text-align: right;\">\n",
       "      <th></th>\n",
       "      <th>age</th>\n",
       "      <th>sex</th>\n",
       "      <th>occupation</th>\n",
       "      <th>zip_code</th>\n",
       "    </tr>\n",
       "    <tr>\n",
       "      <th>user_id</th>\n",
       "      <th></th>\n",
       "      <th></th>\n",
       "      <th></th>\n",
       "      <th></th>\n",
       "    </tr>\n",
       "  </thead>\n",
       "  <tbody>\n",
       "    <tr>\n",
       "      <th>2</th>\n",
       "      <td>53</td>\n",
       "      <td>F</td>\n",
       "      <td>other</td>\n",
       "      <td>94043</td>\n",
       "    </tr>\n",
       "    <tr>\n",
       "      <th>51</th>\n",
       "      <td>28</td>\n",
       "      <td>M</td>\n",
       "      <td>educator</td>\n",
       "      <td>16509</td>\n",
       "    </tr>\n",
       "    <tr>\n",
       "      <th>301</th>\n",
       "      <td>24</td>\n",
       "      <td>M</td>\n",
       "      <td>student</td>\n",
       "      <td>55439</td>\n",
       "    </tr>\n",
       "  </tbody>\n",
       "</table>\n",
       "</div>"
      ],
      "text/plain": [
       "         age sex occupation zip_code\n",
       "user_id                             \n",
       "2         53   F      other    94043\n",
       "51        28   M   educator    16509\n",
       "301       24   M    student    55439"
      ]
     },
     "execution_count": 183,
     "metadata": {},
     "output_type": "execute_result"
    }
   ],
   "source": [
    "users.loc[[2, 51, 301]]"
   ]
  },
  {
   "cell_type": "code",
   "execution_count": 184,
   "metadata": {
    "collapsed": false,
    "nbpresent": {
     "id": "651e3c13-eb80-45bb-9ecd-0f1acf10a407"
    },
    "slideshow": {
     "slide_type": "fragment"
    }
   },
   "outputs": [],
   "source": [
    "users.reset_index(inplace=True)"
   ]
  },
  {
   "cell_type": "code",
   "execution_count": 185,
   "metadata": {
    "collapsed": false,
    "nbpresent": {
     "id": "cf4e566b-fe34-4b49-b33a-9955c2939b9a"
    },
    "slideshow": {
     "slide_type": "fragment"
    }
   },
   "outputs": [
    {
     "data": {
      "text/html": [
       "<div>\n",
       "<table border=\"1\" class=\"dataframe\">\n",
       "  <thead>\n",
       "    <tr style=\"text-align: right;\">\n",
       "      <th></th>\n",
       "      <th>user_id</th>\n",
       "      <th>age</th>\n",
       "      <th>sex</th>\n",
       "      <th>occupation</th>\n",
       "      <th>zip_code</th>\n",
       "    </tr>\n",
       "  </thead>\n",
       "  <tbody>\n",
       "    <tr>\n",
       "      <th>0</th>\n",
       "      <td>1</td>\n",
       "      <td>24</td>\n",
       "      <td>M</td>\n",
       "      <td>technician</td>\n",
       "      <td>85711</td>\n",
       "    </tr>\n",
       "    <tr>\n",
       "      <th>1</th>\n",
       "      <td>2</td>\n",
       "      <td>53</td>\n",
       "      <td>F</td>\n",
       "      <td>other</td>\n",
       "      <td>94043</td>\n",
       "    </tr>\n",
       "    <tr>\n",
       "      <th>2</th>\n",
       "      <td>3</td>\n",
       "      <td>23</td>\n",
       "      <td>M</td>\n",
       "      <td>writer</td>\n",
       "      <td>32067</td>\n",
       "    </tr>\n",
       "    <tr>\n",
       "      <th>3</th>\n",
       "      <td>4</td>\n",
       "      <td>24</td>\n",
       "      <td>M</td>\n",
       "      <td>technician</td>\n",
       "      <td>43537</td>\n",
       "    </tr>\n",
       "    <tr>\n",
       "      <th>4</th>\n",
       "      <td>5</td>\n",
       "      <td>33</td>\n",
       "      <td>F</td>\n",
       "      <td>other</td>\n",
       "      <td>15213</td>\n",
       "    </tr>\n",
       "  </tbody>\n",
       "</table>\n",
       "</div>"
      ],
      "text/plain": [
       "   user_id  age sex  occupation zip_code\n",
       "0        1   24   M  technician    85711\n",
       "1        2   53   F       other    94043\n",
       "2        3   23   M      writer    32067\n",
       "3        4   24   M  technician    43537\n",
       "4        5   33   F       other    15213"
      ]
     },
     "execution_count": 185,
     "metadata": {},
     "output_type": "execute_result"
    }
   ],
   "source": [
    "users.head()"
   ]
  },
  {
   "cell_type": "code",
   "execution_count": 186,
   "metadata": {
    "collapsed": true,
    "nbpresent": {
     "id": "eca4f7e7-751b-42f9-b5b6-44f5c2e8de47"
    },
    "slideshow": {
     "slide_type": "slide"
    }
   },
   "outputs": [],
   "source": [
    "left_frame = pd.DataFrame({'key': range(5),\n",
    "                          'left_value': ['a', 'b', 'c', 'd', 'e']})"
   ]
  },
  {
   "cell_type": "code",
   "execution_count": 187,
   "metadata": {
    "collapsed": true,
    "nbpresent": {
     "id": "8956cf5b-a5c3-4581-8dc3-fcbc8c1bea7b"
    },
    "slideshow": {
     "slide_type": "fragment"
    }
   },
   "outputs": [],
   "source": [
    "right_frame = pd.DataFrame({'key': range(2,7),\n",
    "                           'right_value': ['f','g', 'h', 'i', 'j']})"
   ]
  },
  {
   "cell_type": "code",
   "execution_count": 188,
   "metadata": {
    "collapsed": false,
    "nbpresent": {
     "id": "d46624cd-4e58-4ece-b96b-bb9ff8f15d34"
    },
    "slideshow": {
     "slide_type": "subslide"
    }
   },
   "outputs": [
    {
     "data": {
      "text/html": [
       "<div>\n",
       "<table border=\"1\" class=\"dataframe\">\n",
       "  <thead>\n",
       "    <tr style=\"text-align: right;\">\n",
       "      <th></th>\n",
       "      <th>key</th>\n",
       "      <th>left_value</th>\n",
       "    </tr>\n",
       "  </thead>\n",
       "  <tbody>\n",
       "    <tr>\n",
       "      <th>0</th>\n",
       "      <td>0</td>\n",
       "      <td>a</td>\n",
       "    </tr>\n",
       "    <tr>\n",
       "      <th>1</th>\n",
       "      <td>1</td>\n",
       "      <td>b</td>\n",
       "    </tr>\n",
       "    <tr>\n",
       "      <th>2</th>\n",
       "      <td>2</td>\n",
       "      <td>c</td>\n",
       "    </tr>\n",
       "    <tr>\n",
       "      <th>3</th>\n",
       "      <td>3</td>\n",
       "      <td>d</td>\n",
       "    </tr>\n",
       "    <tr>\n",
       "      <th>4</th>\n",
       "      <td>4</td>\n",
       "      <td>e</td>\n",
       "    </tr>\n",
       "  </tbody>\n",
       "</table>\n",
       "</div>"
      ],
      "text/plain": [
       "   key left_value\n",
       "0    0          a\n",
       "1    1          b\n",
       "2    2          c\n",
       "3    3          d\n",
       "4    4          e"
      ]
     },
     "execution_count": 188,
     "metadata": {},
     "output_type": "execute_result"
    }
   ],
   "source": [
    "left_frame"
   ]
  },
  {
   "cell_type": "code",
   "execution_count": 189,
   "metadata": {
    "collapsed": false,
    "nbpresent": {
     "id": "687073cc-a49f-406a-b9a7-3f80d750c3ed"
    },
    "slideshow": {
     "slide_type": "subslide"
    }
   },
   "outputs": [
    {
     "data": {
      "text/html": [
       "<div>\n",
       "<table border=\"1\" class=\"dataframe\">\n",
       "  <thead>\n",
       "    <tr style=\"text-align: right;\">\n",
       "      <th></th>\n",
       "      <th>key</th>\n",
       "      <th>right_value</th>\n",
       "    </tr>\n",
       "  </thead>\n",
       "  <tbody>\n",
       "    <tr>\n",
       "      <th>0</th>\n",
       "      <td>2</td>\n",
       "      <td>f</td>\n",
       "    </tr>\n",
       "    <tr>\n",
       "      <th>1</th>\n",
       "      <td>3</td>\n",
       "      <td>g</td>\n",
       "    </tr>\n",
       "    <tr>\n",
       "      <th>2</th>\n",
       "      <td>4</td>\n",
       "      <td>h</td>\n",
       "    </tr>\n",
       "    <tr>\n",
       "      <th>3</th>\n",
       "      <td>5</td>\n",
       "      <td>i</td>\n",
       "    </tr>\n",
       "    <tr>\n",
       "      <th>4</th>\n",
       "      <td>6</td>\n",
       "      <td>j</td>\n",
       "    </tr>\n",
       "  </tbody>\n",
       "</table>\n",
       "</div>"
      ],
      "text/plain": [
       "   key right_value\n",
       "0    2           f\n",
       "1    3           g\n",
       "2    4           h\n",
       "3    5           i\n",
       "4    6           j"
      ]
     },
     "execution_count": 189,
     "metadata": {},
     "output_type": "execute_result"
    }
   ],
   "source": [
    "right_frame"
   ]
  },
  {
   "cell_type": "code",
   "execution_count": 190,
   "metadata": {
    "collapsed": false,
    "nbpresent": {
     "id": "32779033-5422-4aef-912b-7b0aee2c50d2"
    },
    "slideshow": {
     "slide_type": "subslide"
    }
   },
   "outputs": [
    {
     "data": {
      "text/html": [
       "<div>\n",
       "<table border=\"1\" class=\"dataframe\">\n",
       "  <thead>\n",
       "    <tr style=\"text-align: right;\">\n",
       "      <th></th>\n",
       "      <th>key</th>\n",
       "      <th>left_value</th>\n",
       "      <th>right_value</th>\n",
       "    </tr>\n",
       "  </thead>\n",
       "  <tbody>\n",
       "    <tr>\n",
       "      <th>0</th>\n",
       "      <td>2</td>\n",
       "      <td>c</td>\n",
       "      <td>f</td>\n",
       "    </tr>\n",
       "    <tr>\n",
       "      <th>1</th>\n",
       "      <td>3</td>\n",
       "      <td>d</td>\n",
       "      <td>g</td>\n",
       "    </tr>\n",
       "    <tr>\n",
       "      <th>2</th>\n",
       "      <td>4</td>\n",
       "      <td>e</td>\n",
       "      <td>h</td>\n",
       "    </tr>\n",
       "  </tbody>\n",
       "</table>\n",
       "</div>"
      ],
      "text/plain": [
       "   key left_value right_value\n",
       "0    2          c           f\n",
       "1    3          d           g\n",
       "2    4          e           h"
      ]
     },
     "execution_count": 190,
     "metadata": {},
     "output_type": "execute_result"
    }
   ],
   "source": [
    "pd.merge(left_frame, right_frame, on='key', how='inner')"
   ]
  },
  {
   "cell_type": "code",
   "execution_count": 191,
   "metadata": {
    "collapsed": false,
    "nbpresent": {
     "id": "9bfcf473-ce98-469c-af6b-de5fb2e89571"
    },
    "slideshow": {
     "slide_type": "subslide"
    }
   },
   "outputs": [
    {
     "data": {
      "text/html": [
       "<div>\n",
       "<table border=\"1\" class=\"dataframe\">\n",
       "  <thead>\n",
       "    <tr style=\"text-align: right;\">\n",
       "      <th></th>\n",
       "      <th>key</th>\n",
       "      <th>left_value</th>\n",
       "      <th>right_value</th>\n",
       "    </tr>\n",
       "  </thead>\n",
       "  <tbody>\n",
       "    <tr>\n",
       "      <th>0</th>\n",
       "      <td>2</td>\n",
       "      <td>c</td>\n",
       "      <td>f</td>\n",
       "    </tr>\n",
       "    <tr>\n",
       "      <th>1</th>\n",
       "      <td>3</td>\n",
       "      <td>d</td>\n",
       "      <td>g</td>\n",
       "    </tr>\n",
       "    <tr>\n",
       "      <th>2</th>\n",
       "      <td>4</td>\n",
       "      <td>e</td>\n",
       "      <td>h</td>\n",
       "    </tr>\n",
       "  </tbody>\n",
       "</table>\n",
       "</div>"
      ],
      "text/plain": [
       "   key left_value right_value\n",
       "0    2          c           f\n",
       "1    3          d           g\n",
       "2    4          e           h"
      ]
     },
     "execution_count": 191,
     "metadata": {},
     "output_type": "execute_result"
    }
   ],
   "source": [
    "pd.merge(left_frame, right_frame, left_on='key', right_on='key')"
   ]
  },
  {
   "cell_type": "code",
   "execution_count": 192,
   "metadata": {
    "collapsed": false,
    "nbpresent": {
     "id": "e5297090-fc1c-4b61-bcc0-334867b96fb6"
    },
    "slideshow": {
     "slide_type": "subslide"
    }
   },
   "outputs": [
    {
     "data": {
      "text/html": [
       "<div>\n",
       "<table border=\"1\" class=\"dataframe\">\n",
       "  <thead>\n",
       "    <tr style=\"text-align: right;\">\n",
       "      <th></th>\n",
       "      <th>key</th>\n",
       "      <th>left_value</th>\n",
       "      <th>right_value</th>\n",
       "    </tr>\n",
       "  </thead>\n",
       "  <tbody>\n",
       "    <tr>\n",
       "      <th>0</th>\n",
       "      <td>0</td>\n",
       "      <td>a</td>\n",
       "      <td>NaN</td>\n",
       "    </tr>\n",
       "    <tr>\n",
       "      <th>1</th>\n",
       "      <td>1</td>\n",
       "      <td>b</td>\n",
       "      <td>NaN</td>\n",
       "    </tr>\n",
       "    <tr>\n",
       "      <th>2</th>\n",
       "      <td>2</td>\n",
       "      <td>c</td>\n",
       "      <td>f</td>\n",
       "    </tr>\n",
       "    <tr>\n",
       "      <th>3</th>\n",
       "      <td>3</td>\n",
       "      <td>d</td>\n",
       "      <td>g</td>\n",
       "    </tr>\n",
       "    <tr>\n",
       "      <th>4</th>\n",
       "      <td>4</td>\n",
       "      <td>e</td>\n",
       "      <td>h</td>\n",
       "    </tr>\n",
       "  </tbody>\n",
       "</table>\n",
       "</div>"
      ],
      "text/plain": [
       "   key left_value right_value\n",
       "0    0          a         NaN\n",
       "1    1          b         NaN\n",
       "2    2          c           f\n",
       "3    3          d           g\n",
       "4    4          e           h"
      ]
     },
     "execution_count": 192,
     "metadata": {},
     "output_type": "execute_result"
    }
   ],
   "source": [
    "pd.merge(left_frame, right_frame, on='key', how='left')"
   ]
  },
  {
   "cell_type": "code",
   "execution_count": 193,
   "metadata": {
    "collapsed": false,
    "nbpresent": {
     "id": "fa482822-e3a2-4b6e-81f0-289fbc70f8ee"
    },
    "slideshow": {
     "slide_type": "subslide"
    }
   },
   "outputs": [
    {
     "data": {
      "text/html": [
       "<div>\n",
       "<table border=\"1\" class=\"dataframe\">\n",
       "  <thead>\n",
       "    <tr style=\"text-align: right;\">\n",
       "      <th></th>\n",
       "      <th>key</th>\n",
       "      <th>left_value</th>\n",
       "      <th>right_value</th>\n",
       "    </tr>\n",
       "  </thead>\n",
       "  <tbody>\n",
       "    <tr>\n",
       "      <th>0</th>\n",
       "      <td>0.0</td>\n",
       "      <td>a</td>\n",
       "      <td>NaN</td>\n",
       "    </tr>\n",
       "    <tr>\n",
       "      <th>1</th>\n",
       "      <td>1.0</td>\n",
       "      <td>b</td>\n",
       "      <td>NaN</td>\n",
       "    </tr>\n",
       "    <tr>\n",
       "      <th>2</th>\n",
       "      <td>2.0</td>\n",
       "      <td>c</td>\n",
       "      <td>f</td>\n",
       "    </tr>\n",
       "    <tr>\n",
       "      <th>3</th>\n",
       "      <td>3.0</td>\n",
       "      <td>d</td>\n",
       "      <td>g</td>\n",
       "    </tr>\n",
       "    <tr>\n",
       "      <th>4</th>\n",
       "      <td>4.0</td>\n",
       "      <td>e</td>\n",
       "      <td>h</td>\n",
       "    </tr>\n",
       "    <tr>\n",
       "      <th>5</th>\n",
       "      <td>5.0</td>\n",
       "      <td>NaN</td>\n",
       "      <td>i</td>\n",
       "    </tr>\n",
       "    <tr>\n",
       "      <th>6</th>\n",
       "      <td>6.0</td>\n",
       "      <td>NaN</td>\n",
       "      <td>j</td>\n",
       "    </tr>\n",
       "  </tbody>\n",
       "</table>\n",
       "</div>"
      ],
      "text/plain": [
       "   key left_value right_value\n",
       "0  0.0          a         NaN\n",
       "1  1.0          b         NaN\n",
       "2  2.0          c           f\n",
       "3  3.0          d           g\n",
       "4  4.0          e           h\n",
       "5  5.0        NaN           i\n",
       "6  6.0        NaN           j"
      ]
     },
     "execution_count": 193,
     "metadata": {},
     "output_type": "execute_result"
    }
   ],
   "source": [
    "pd.merge(left_frame, right_frame, on='key', how='outer')"
   ]
  },
  {
   "cell_type": "code",
   "execution_count": 194,
   "metadata": {
    "collapsed": false,
    "nbpresent": {
     "id": "87eca494-8fdb-4821-8822-71496a44f08e"
    },
    "slideshow": {
     "slide_type": "subslide"
    }
   },
   "outputs": [
    {
     "data": {
      "text/html": [
       "<div>\n",
       "<table border=\"1\" class=\"dataframe\">\n",
       "  <thead>\n",
       "    <tr style=\"text-align: right;\">\n",
       "      <th></th>\n",
       "      <th>key</th>\n",
       "      <th>left_value</th>\n",
       "      <th>right_value</th>\n",
       "    </tr>\n",
       "  </thead>\n",
       "  <tbody>\n",
       "    <tr>\n",
       "      <th>0</th>\n",
       "      <td>0</td>\n",
       "      <td>a</td>\n",
       "      <td>NaN</td>\n",
       "    </tr>\n",
       "    <tr>\n",
       "      <th>1</th>\n",
       "      <td>1</td>\n",
       "      <td>b</td>\n",
       "      <td>NaN</td>\n",
       "    </tr>\n",
       "    <tr>\n",
       "      <th>2</th>\n",
       "      <td>2</td>\n",
       "      <td>c</td>\n",
       "      <td>NaN</td>\n",
       "    </tr>\n",
       "    <tr>\n",
       "      <th>3</th>\n",
       "      <td>3</td>\n",
       "      <td>d</td>\n",
       "      <td>NaN</td>\n",
       "    </tr>\n",
       "    <tr>\n",
       "      <th>4</th>\n",
       "      <td>4</td>\n",
       "      <td>e</td>\n",
       "      <td>NaN</td>\n",
       "    </tr>\n",
       "    <tr>\n",
       "      <th>0</th>\n",
       "      <td>2</td>\n",
       "      <td>NaN</td>\n",
       "      <td>f</td>\n",
       "    </tr>\n",
       "    <tr>\n",
       "      <th>1</th>\n",
       "      <td>3</td>\n",
       "      <td>NaN</td>\n",
       "      <td>g</td>\n",
       "    </tr>\n",
       "    <tr>\n",
       "      <th>2</th>\n",
       "      <td>4</td>\n",
       "      <td>NaN</td>\n",
       "      <td>h</td>\n",
       "    </tr>\n",
       "    <tr>\n",
       "      <th>3</th>\n",
       "      <td>5</td>\n",
       "      <td>NaN</td>\n",
       "      <td>i</td>\n",
       "    </tr>\n",
       "    <tr>\n",
       "      <th>4</th>\n",
       "      <td>6</td>\n",
       "      <td>NaN</td>\n",
       "      <td>j</td>\n",
       "    </tr>\n",
       "  </tbody>\n",
       "</table>\n",
       "</div>"
      ],
      "text/plain": [
       "   key left_value right_value\n",
       "0    0          a         NaN\n",
       "1    1          b         NaN\n",
       "2    2          c         NaN\n",
       "3    3          d         NaN\n",
       "4    4          e         NaN\n",
       "0    2        NaN           f\n",
       "1    3        NaN           g\n",
       "2    4        NaN           h\n",
       "3    5        NaN           i\n",
       "4    6        NaN           j"
      ]
     },
     "execution_count": 194,
     "metadata": {},
     "output_type": "execute_result"
    }
   ],
   "source": [
    "a = pd.concat([left_frame, right_frame])\n",
    "a"
   ]
  },
  {
   "cell_type": "code",
   "execution_count": 195,
   "metadata": {
    "collapsed": false,
    "nbpresent": {
     "id": "7f953447-f2c0-4ffb-aa55-9a417385a3bc"
    },
    "slideshow": {
     "slide_type": "subslide"
    }
   },
   "outputs": [
    {
     "data": {
      "text/html": [
       "<div>\n",
       "<table border=\"1\" class=\"dataframe\">\n",
       "  <thead>\n",
       "    <tr style=\"text-align: right;\">\n",
       "      <th></th>\n",
       "      <th>key</th>\n",
       "      <th>left_value</th>\n",
       "      <th>key</th>\n",
       "      <th>right_value</th>\n",
       "    </tr>\n",
       "  </thead>\n",
       "  <tbody>\n",
       "    <tr>\n",
       "      <th>0</th>\n",
       "      <td>0</td>\n",
       "      <td>a</td>\n",
       "      <td>2</td>\n",
       "      <td>f</td>\n",
       "    </tr>\n",
       "    <tr>\n",
       "      <th>1</th>\n",
       "      <td>1</td>\n",
       "      <td>b</td>\n",
       "      <td>3</td>\n",
       "      <td>g</td>\n",
       "    </tr>\n",
       "    <tr>\n",
       "      <th>2</th>\n",
       "      <td>2</td>\n",
       "      <td>c</td>\n",
       "      <td>4</td>\n",
       "      <td>h</td>\n",
       "    </tr>\n",
       "    <tr>\n",
       "      <th>3</th>\n",
       "      <td>3</td>\n",
       "      <td>d</td>\n",
       "      <td>5</td>\n",
       "      <td>i</td>\n",
       "    </tr>\n",
       "    <tr>\n",
       "      <th>4</th>\n",
       "      <td>4</td>\n",
       "      <td>e</td>\n",
       "      <td>6</td>\n",
       "      <td>j</td>\n",
       "    </tr>\n",
       "  </tbody>\n",
       "</table>\n",
       "</div>"
      ],
      "text/plain": [
       "   key left_value  key right_value\n",
       "0    0          a    2           f\n",
       "1    1          b    3           g\n",
       "2    2          c    4           h\n",
       "3    3          d    5           i\n",
       "4    4          e    6           j"
      ]
     },
     "execution_count": 195,
     "metadata": {},
     "output_type": "execute_result"
    }
   ],
   "source": [
    "pd.concat([left_frame, right_frame], axis=1)"
   ]
  },
  {
   "cell_type": "code",
   "execution_count": 196,
   "metadata": {
    "collapsed": false,
    "nbpresent": {
     "id": "2a2e2e09-c551-4282-acb3-395b7577395d"
    },
    "slideshow": {
     "slide_type": "subslide"
    }
   },
   "outputs": [
    {
     "data": {
      "text/plain": [
       "key              0\n",
       "left_value       a\n",
       "right_value    NaN\n",
       "Name: 0, dtype: object"
      ]
     },
     "execution_count": 196,
     "metadata": {},
     "output_type": "execute_result"
    }
   ],
   "source": [
    "a.iloc[0]"
   ]
  },
  {
   "cell_type": "code",
   "execution_count": 197,
   "metadata": {
    "collapsed": false,
    "nbpresent": {
     "id": "bf7a57bc-2058-4a22-ba57-5a643c46929c"
    },
    "slideshow": {
     "slide_type": "subslide"
    }
   },
   "outputs": [
    {
     "data": {
      "text/plain": [
       "key              3\n",
       "left_value     NaN\n",
       "right_value      g\n",
       "Name: 1, dtype: object"
      ]
     },
     "execution_count": 197,
     "metadata": {},
     "output_type": "execute_result"
    }
   ],
   "source": [
    "a.iloc[6]"
   ]
  },
  {
   "cell_type": "code",
   "execution_count": 198,
   "metadata": {
    "collapsed": false,
    "nbpresent": {
     "id": "d660e794-f74d-4fe6-9934-4815ca0b5b78"
    },
    "slideshow": {
     "slide_type": "subslide"
    }
   },
   "outputs": [
    {
     "data": {
      "text/html": [
       "<div>\n",
       "<table border=\"1\" class=\"dataframe\">\n",
       "  <thead>\n",
       "    <tr style=\"text-align: right;\">\n",
       "      <th></th>\n",
       "      <th>key</th>\n",
       "      <th>left_value</th>\n",
       "      <th>right_value</th>\n",
       "    </tr>\n",
       "  </thead>\n",
       "  <tbody>\n",
       "    <tr>\n",
       "      <th>0</th>\n",
       "      <td>0</td>\n",
       "      <td>a</td>\n",
       "      <td>NaN</td>\n",
       "    </tr>\n",
       "    <tr>\n",
       "      <th>1</th>\n",
       "      <td>1</td>\n",
       "      <td>b</td>\n",
       "      <td>NaN</td>\n",
       "    </tr>\n",
       "    <tr>\n",
       "      <th>2</th>\n",
       "      <td>2</td>\n",
       "      <td>c</td>\n",
       "      <td>NaN</td>\n",
       "    </tr>\n",
       "    <tr>\n",
       "      <th>3</th>\n",
       "      <td>3</td>\n",
       "      <td>d</td>\n",
       "      <td>NaN</td>\n",
       "    </tr>\n",
       "    <tr>\n",
       "      <th>4</th>\n",
       "      <td>4</td>\n",
       "      <td>e</td>\n",
       "      <td>NaN</td>\n",
       "    </tr>\n",
       "    <tr>\n",
       "      <th>0</th>\n",
       "      <td>2</td>\n",
       "      <td>NaN</td>\n",
       "      <td>f</td>\n",
       "    </tr>\n",
       "    <tr>\n",
       "      <th>1</th>\n",
       "      <td>3</td>\n",
       "      <td>NaN</td>\n",
       "      <td>g</td>\n",
       "    </tr>\n",
       "    <tr>\n",
       "      <th>2</th>\n",
       "      <td>4</td>\n",
       "      <td>NaN</td>\n",
       "      <td>h</td>\n",
       "    </tr>\n",
       "    <tr>\n",
       "      <th>3</th>\n",
       "      <td>5</td>\n",
       "      <td>NaN</td>\n",
       "      <td>i</td>\n",
       "    </tr>\n",
       "    <tr>\n",
       "      <th>4</th>\n",
       "      <td>6</td>\n",
       "      <td>NaN</td>\n",
       "      <td>j</td>\n",
       "    </tr>\n",
       "  </tbody>\n",
       "</table>\n",
       "</div>"
      ],
      "text/plain": [
       "   key left_value right_value\n",
       "0    0          a         NaN\n",
       "1    1          b         NaN\n",
       "2    2          c         NaN\n",
       "3    3          d         NaN\n",
       "4    4          e         NaN\n",
       "0    2        NaN           f\n",
       "1    3        NaN           g\n",
       "2    4        NaN           h\n",
       "3    5        NaN           i\n",
       "4    6        NaN           j"
      ]
     },
     "execution_count": 198,
     "metadata": {},
     "output_type": "execute_result"
    }
   ],
   "source": [
    "pd.concat([left_frame, right_frame], axis=0)"
   ]
  },
  {
   "cell_type": "code",
   "execution_count": 199,
   "metadata": {
    "collapsed": false,
    "nbpresent": {
     "id": "08c04032-aaaa-4904-889c-25f903899c92"
    },
    "slideshow": {
     "slide_type": "slide"
    }
   },
   "outputs": [],
   "source": [
    "headers = ['name', 'title', 'department', 'salary']\n",
    "def s2f(x):\n",
    "    if x is \"\":\n",
    "        return 0.0\n",
    "    else:\n",
    "        return float(x.replace('$', ''))"
   ]
  },
  {
   "cell_type": "code",
   "execution_count": 200,
   "metadata": {
    "collapsed": false,
    "nbpresent": {
     "id": "1784a896-eed9-4275-95ff-26a12369c4e1"
    },
    "slideshow": {
     "slide_type": "subslide"
    }
   },
   "outputs": [],
   "source": [
    "chicago = pd.read_csv(\"chicago_salaries.csv\",\n",
    "                      header=0,\n",
    "                      names=headers,\n",
    "                      converters={'salary': s2f}\n",
    "                     )"
   ]
  },
  {
   "cell_type": "code",
   "execution_count": 201,
   "metadata": {
    "collapsed": false,
    "nbpresent": {
     "id": "f96b087b-057b-49a3-a570-63932a72f694"
    },
    "slideshow": {
     "slide_type": "subslide"
    }
   },
   "outputs": [
    {
     "data": {
      "text/html": [
       "<div>\n",
       "<table border=\"1\" class=\"dataframe\">\n",
       "  <thead>\n",
       "    <tr style=\"text-align: right;\">\n",
       "      <th></th>\n",
       "      <th>name</th>\n",
       "      <th>title</th>\n",
       "      <th>department</th>\n",
       "      <th>salary</th>\n",
       "    </tr>\n",
       "  </thead>\n",
       "  <tbody>\n",
       "    <tr>\n",
       "      <th>0</th>\n",
       "      <td>AARON,  ELVIA J</td>\n",
       "      <td>WATER RATE TAKER</td>\n",
       "      <td>WATER MGMNT</td>\n",
       "      <td>90744.0</td>\n",
       "    </tr>\n",
       "    <tr>\n",
       "      <th>1</th>\n",
       "      <td>AARON,  JEFFERY M</td>\n",
       "      <td>POLICE OFFICER</td>\n",
       "      <td>POLICE</td>\n",
       "      <td>84450.0</td>\n",
       "    </tr>\n",
       "    <tr>\n",
       "      <th>2</th>\n",
       "      <td>AARON,  KARINA</td>\n",
       "      <td>POLICE OFFICER</td>\n",
       "      <td>POLICE</td>\n",
       "      <td>84450.0</td>\n",
       "    </tr>\n",
       "    <tr>\n",
       "      <th>3</th>\n",
       "      <td>AARON,  KIMBERLEI R</td>\n",
       "      <td>CHIEF CONTRACT EXPEDITER</td>\n",
       "      <td>GENERAL SERVICES</td>\n",
       "      <td>89880.0</td>\n",
       "    </tr>\n",
       "    <tr>\n",
       "      <th>4</th>\n",
       "      <td>ABAD JR,  VICENTE M</td>\n",
       "      <td>CIVIL ENGINEER IV</td>\n",
       "      <td>WATER MGMNT</td>\n",
       "      <td>106836.0</td>\n",
       "    </tr>\n",
       "  </tbody>\n",
       "</table>\n",
       "</div>"
      ],
      "text/plain": [
       "                  name                     title        department    salary\n",
       "0      AARON,  ELVIA J          WATER RATE TAKER       WATER MGMNT   90744.0\n",
       "1    AARON,  JEFFERY M            POLICE OFFICER            POLICE   84450.0\n",
       "2       AARON,  KARINA            POLICE OFFICER            POLICE   84450.0\n",
       "3  AARON,  KIMBERLEI R  CHIEF CONTRACT EXPEDITER  GENERAL SERVICES   89880.0\n",
       "4  ABAD JR,  VICENTE M         CIVIL ENGINEER IV       WATER MGMNT  106836.0"
      ]
     },
     "execution_count": 201,
     "metadata": {},
     "output_type": "execute_result"
    }
   ],
   "source": [
    "chicago.head()"
   ]
  },
  {
   "cell_type": "code",
   "execution_count": 202,
   "metadata": {
    "collapsed": false,
    "nbpresent": {
     "id": "89c8561a-5ec4-4d17-b3a3-41c955bbe227"
    },
    "slideshow": {
     "slide_type": "subslide"
    }
   },
   "outputs": [
    {
     "data": {
      "text/html": [
       "<div>\n",
       "<table border=\"1\" class=\"dataframe\">\n",
       "  <thead>\n",
       "    <tr style=\"text-align: right;\">\n",
       "      <th></th>\n",
       "      <th>name</th>\n",
       "      <th>title</th>\n",
       "      <th>department</th>\n",
       "      <th>salary</th>\n",
       "    </tr>\n",
       "  </thead>\n",
       "  <tbody>\n",
       "    <tr>\n",
       "      <th>32062</th>\n",
       "      <td>NaN</td>\n",
       "      <td>NaN</td>\n",
       "      <td>NaN</td>\n",
       "      <td>0.0</td>\n",
       "    </tr>\n",
       "  </tbody>\n",
       "</table>\n",
       "</div>"
      ],
      "text/plain": [
       "      name title department  salary\n",
       "32062  NaN   NaN        NaN     0.0"
      ]
     },
     "execution_count": 202,
     "metadata": {},
     "output_type": "execute_result"
    }
   ],
   "source": [
    "chicago[chicago.salary==0]"
   ]
  },
  {
   "cell_type": "code",
   "execution_count": 203,
   "metadata": {
    "collapsed": true,
    "nbpresent": {
     "id": "535cb00e-638e-41ef-abb2-d75ebaee05ac"
    },
    "slideshow": {
     "slide_type": "subslide"
    }
   },
   "outputs": [],
   "source": [
    "by_dept = chicago.groupby('department')"
   ]
  },
  {
   "cell_type": "code",
   "execution_count": 204,
   "metadata": {
    "collapsed": false,
    "nbpresent": {
     "id": "817ad77f-3693-4259-a8f3-b31f734dd271"
    },
    "slideshow": {
     "slide_type": "slide"
    }
   },
   "outputs": [
    {
     "data": {
      "text/plain": [
       "<pandas.core.groupby.DataFrameGroupBy object at 0x000000000A9C3518>"
      ]
     },
     "execution_count": 204,
     "metadata": {},
     "output_type": "execute_result"
    }
   ],
   "source": [
    "by_dept"
   ]
  },
  {
   "cell_type": "code",
   "execution_count": 205,
   "metadata": {
    "collapsed": false,
    "nbpresent": {
     "id": "fb458f00-18d0-4b29-89be-62e60ed952a8"
    },
    "slideshow": {
     "slide_type": "subslide"
    }
   },
   "outputs": [
    {
     "data": {
      "text/html": [
       "<div>\n",
       "<table border=\"1\" class=\"dataframe\">\n",
       "  <thead>\n",
       "    <tr style=\"text-align: right;\">\n",
       "      <th></th>\n",
       "      <th>name</th>\n",
       "      <th>title</th>\n",
       "      <th>salary</th>\n",
       "    </tr>\n",
       "    <tr>\n",
       "      <th>department</th>\n",
       "      <th></th>\n",
       "      <th></th>\n",
       "      <th></th>\n",
       "    </tr>\n",
       "  </thead>\n",
       "  <tbody>\n",
       "    <tr>\n",
       "      <th>ADMIN HEARNG</th>\n",
       "      <td>39</td>\n",
       "      <td>39</td>\n",
       "      <td>39</td>\n",
       "    </tr>\n",
       "    <tr>\n",
       "      <th>ANIMAL CONTRL</th>\n",
       "      <td>67</td>\n",
       "      <td>67</td>\n",
       "      <td>67</td>\n",
       "    </tr>\n",
       "    <tr>\n",
       "      <th>AVIATION</th>\n",
       "      <td>1521</td>\n",
       "      <td>1521</td>\n",
       "      <td>1521</td>\n",
       "    </tr>\n",
       "    <tr>\n",
       "      <th>BOARD OF ELECTION</th>\n",
       "      <td>117</td>\n",
       "      <td>117</td>\n",
       "      <td>117</td>\n",
       "    </tr>\n",
       "    <tr>\n",
       "      <th>BOARD OF ETHICS</th>\n",
       "      <td>9</td>\n",
       "      <td>9</td>\n",
       "      <td>9</td>\n",
       "    </tr>\n",
       "  </tbody>\n",
       "</table>\n",
       "</div>"
      ],
      "text/plain": [
       "                   name  title  salary\n",
       "department                            \n",
       "ADMIN HEARNG         39     39      39\n",
       "ANIMAL CONTRL        67     67      67\n",
       "AVIATION           1521   1521    1521\n",
       "BOARD OF ELECTION   117    117     117\n",
       "BOARD OF ETHICS       9      9       9"
      ]
     },
     "execution_count": 205,
     "metadata": {},
     "output_type": "execute_result"
    }
   ],
   "source": [
    "by_dept.count().head()"
   ]
  },
  {
   "cell_type": "code",
   "execution_count": 206,
   "metadata": {
    "collapsed": false,
    "nbpresent": {
     "id": "27090290-db54-4f17-bdec-62442028f56c"
    },
    "slideshow": {
     "slide_type": "subslide"
    }
   },
   "outputs": [
    {
     "data": {
      "text/plain": [
       "department\n",
       "PUBLIC LIBRARY     961\n",
       "STREETS & SAN     2152\n",
       "TRANSPORTN        1073\n",
       "TREASURER           22\n",
       "WATER MGMNT       1840\n",
       "dtype: int64"
      ]
     },
     "execution_count": 206,
     "metadata": {},
     "output_type": "execute_result"
    }
   ],
   "source": [
    "by_dept.size().tail()"
   ]
  },
  {
   "cell_type": "code",
   "execution_count": 207,
   "metadata": {
    "collapsed": false,
    "nbpresent": {
     "id": "07025d62-b546-49d3-8778-eabff4b324c1"
    },
    "slideshow": {
     "slide_type": "subslide"
    }
   },
   "outputs": [
    {
     "data": {
      "text/html": [
       "<div>\n",
       "<table border=\"1\" class=\"dataframe\">\n",
       "  <thead>\n",
       "    <tr style=\"text-align: right;\">\n",
       "      <th></th>\n",
       "      <th>name</th>\n",
       "      <th>title</th>\n",
       "      <th>department</th>\n",
       "      <th>salary</th>\n",
       "    </tr>\n",
       "  </thead>\n",
       "  <tbody>\n",
       "    <tr>\n",
       "      <th>0</th>\n",
       "      <td>AARON,  ELVIA J</td>\n",
       "      <td>WATER RATE TAKER</td>\n",
       "      <td>WATER MGMNT</td>\n",
       "      <td>90744.0</td>\n",
       "    </tr>\n",
       "    <tr>\n",
       "      <th>1</th>\n",
       "      <td>AARON,  JEFFERY M</td>\n",
       "      <td>POLICE OFFICER</td>\n",
       "      <td>POLICE</td>\n",
       "      <td>84450.0</td>\n",
       "    </tr>\n",
       "    <tr>\n",
       "      <th>2</th>\n",
       "      <td>AARON,  KARINA</td>\n",
       "      <td>POLICE OFFICER</td>\n",
       "      <td>POLICE</td>\n",
       "      <td>84450.0</td>\n",
       "    </tr>\n",
       "    <tr>\n",
       "      <th>3</th>\n",
       "      <td>AARON,  KIMBERLEI R</td>\n",
       "      <td>CHIEF CONTRACT EXPEDITER</td>\n",
       "      <td>GENERAL SERVICES</td>\n",
       "      <td>89880.0</td>\n",
       "    </tr>\n",
       "    <tr>\n",
       "      <th>4</th>\n",
       "      <td>ABAD JR,  VICENTE M</td>\n",
       "      <td>CIVIL ENGINEER IV</td>\n",
       "      <td>WATER MGMNT</td>\n",
       "      <td>106836.0</td>\n",
       "    </tr>\n",
       "    <tr>\n",
       "      <th>5</th>\n",
       "      <td>ABARCA,  ANABEL</td>\n",
       "      <td>ASST TO THE ALDERMAN</td>\n",
       "      <td>CITY COUNCIL</td>\n",
       "      <td>70764.0</td>\n",
       "    </tr>\n",
       "    <tr>\n",
       "      <th>6</th>\n",
       "      <td>ABARCA,  EMMANUEL</td>\n",
       "      <td>GENERAL LABORER - DSS</td>\n",
       "      <td>STREETS &amp; SAN</td>\n",
       "      <td>41849.6</td>\n",
       "    </tr>\n",
       "    <tr>\n",
       "      <th>7</th>\n",
       "      <td>ABASCAL,  REECE E</td>\n",
       "      <td>TRAFFIC CONTROL AIDE-HOURLY</td>\n",
       "      <td>OEMC</td>\n",
       "      <td>20051.2</td>\n",
       "    </tr>\n",
       "    <tr>\n",
       "      <th>8</th>\n",
       "      <td>ABBASI,  CHRISTOPHER</td>\n",
       "      <td>STAFF ASST TO THE ALDERMAN</td>\n",
       "      <td>CITY COUNCIL</td>\n",
       "      <td>49452.0</td>\n",
       "    </tr>\n",
       "    <tr>\n",
       "      <th>9</th>\n",
       "      <td>ABBATACOLA,  ROBERT J</td>\n",
       "      <td>ELECTRICAL MECHANIC</td>\n",
       "      <td>AVIATION</td>\n",
       "      <td>93600.0</td>\n",
       "    </tr>\n",
       "    <tr>\n",
       "      <th>10</th>\n",
       "      <td>ABBATEMARCO,  JAMES J</td>\n",
       "      <td>FIRE ENGINEER-EMT</td>\n",
       "      <td>FIRE</td>\n",
       "      <td>100320.0</td>\n",
       "    </tr>\n",
       "    <tr>\n",
       "      <th>11</th>\n",
       "      <td>ABBATE,  TERRY M</td>\n",
       "      <td>POLICE OFFICER</td>\n",
       "      <td>POLICE</td>\n",
       "      <td>90618.0</td>\n",
       "    </tr>\n",
       "    <tr>\n",
       "      <th>12</th>\n",
       "      <td>ABBOTT,  BETTY L</td>\n",
       "      <td>FOSTER GRANDPARENT</td>\n",
       "      <td>FAMILY &amp; SUPPORT</td>\n",
       "      <td>2756.0</td>\n",
       "    </tr>\n",
       "    <tr>\n",
       "      <th>13</th>\n",
       "      <td>ABBOTT,  LYNISE M</td>\n",
       "      <td>CLERK III</td>\n",
       "      <td>POLICE</td>\n",
       "      <td>46896.0</td>\n",
       "    </tr>\n",
       "    <tr>\n",
       "      <th>14</th>\n",
       "      <td>ABBRUZZESE,  WILLIAM J</td>\n",
       "      <td>INVESTIGATOR - IPRA II</td>\n",
       "      <td>IPRA</td>\n",
       "      <td>73920.0</td>\n",
       "    </tr>\n",
       "    <tr>\n",
       "      <th>15</th>\n",
       "      <td>ABDALLAH,  ZAID</td>\n",
       "      <td>POLICE OFFICER</td>\n",
       "      <td>POLICE</td>\n",
       "      <td>74028.0</td>\n",
       "    </tr>\n",
       "    <tr>\n",
       "      <th>16</th>\n",
       "      <td>ABDELHADI,  ABDALMAHD</td>\n",
       "      <td>POLICE OFFICER</td>\n",
       "      <td>POLICE</td>\n",
       "      <td>81588.0</td>\n",
       "    </tr>\n",
       "    <tr>\n",
       "      <th>17</th>\n",
       "      <td>ABDELLATIF,  AREF R</td>\n",
       "      <td>FIREFIGHTER (PER ARBITRATORS AWARD)-PARAMEDIC</td>\n",
       "      <td>FIRE</td>\n",
       "      <td>99228.0</td>\n",
       "    </tr>\n",
       "    <tr>\n",
       "      <th>18</th>\n",
       "      <td>ABDELMAJEID,  AZIZ</td>\n",
       "      <td>POLICE OFFICER</td>\n",
       "      <td>POLICE</td>\n",
       "      <td>81588.0</td>\n",
       "    </tr>\n",
       "    <tr>\n",
       "      <th>19</th>\n",
       "      <td>ABDOLLAHZADEH,  ALI</td>\n",
       "      <td>FIREFIGHTER/PARAMEDIC</td>\n",
       "      <td>FIRE</td>\n",
       "      <td>88596.0</td>\n",
       "    </tr>\n",
       "    <tr>\n",
       "      <th>20</th>\n",
       "      <td>ABDUL-KARIM,  MUHAMMAD A</td>\n",
       "      <td>ENGINEERING TECHNICIAN VI</td>\n",
       "      <td>WATER MGMNT</td>\n",
       "      <td>108228.0</td>\n",
       "    </tr>\n",
       "    <tr>\n",
       "      <th>21</th>\n",
       "      <td>ABDULLAH,  DANIEL N</td>\n",
       "      <td>FIREFIGHTER-EMT</td>\n",
       "      <td>FIRE</td>\n",
       "      <td>92682.0</td>\n",
       "    </tr>\n",
       "    <tr>\n",
       "      <th>22</th>\n",
       "      <td>ABDULLAH,  KEVIN</td>\n",
       "      <td>LIEUTENANT</td>\n",
       "      <td>FIRE</td>\n",
       "      <td>111474.0</td>\n",
       "    </tr>\n",
       "    <tr>\n",
       "      <th>23</th>\n",
       "      <td>ABDULLAH,  LAKENYA N</td>\n",
       "      <td>CROSSING GUARD</td>\n",
       "      <td>OEMC</td>\n",
       "      <td>17846.4</td>\n",
       "    </tr>\n",
       "    <tr>\n",
       "      <th>24</th>\n",
       "      <td>ABDULLAH,  RASHAD J</td>\n",
       "      <td>ELECTRICAL MECHANIC-AUTO-POLICE MTR MNT</td>\n",
       "      <td>GENERAL SERVICES</td>\n",
       "      <td>93600.0</td>\n",
       "    </tr>\n",
       "    <tr>\n",
       "      <th>25</th>\n",
       "      <td>ABDULSATTAR,  MUDHAR</td>\n",
       "      <td>CIVIL ENGINEER II</td>\n",
       "      <td>WATER MGMNT</td>\n",
       "      <td>58536.0</td>\n",
       "    </tr>\n",
       "    <tr>\n",
       "      <th>26</th>\n",
       "      <td>ABDUL-SHAKUR,  TAHIR</td>\n",
       "      <td>GENERAL LABORER - DSS</td>\n",
       "      <td>STREETS &amp; SAN</td>\n",
       "      <td>41849.6</td>\n",
       "    </tr>\n",
       "    <tr>\n",
       "      <th>27</th>\n",
       "      <td>ABDULWAHAB,  ABUUBAIDA</td>\n",
       "      <td>FOSTER GRANDPARENT</td>\n",
       "      <td>FAMILY &amp; SUPPORT</td>\n",
       "      <td>2756.0</td>\n",
       "    </tr>\n",
       "    <tr>\n",
       "      <th>28</th>\n",
       "      <td>ABEJERO,  JASON V</td>\n",
       "      <td>POLICE OFFICER</td>\n",
       "      <td>POLICE</td>\n",
       "      <td>87384.0</td>\n",
       "    </tr>\n",
       "    <tr>\n",
       "      <th>29</th>\n",
       "      <td>ABERCROMBIE IV,  EARL S</td>\n",
       "      <td>PARAMEDIC</td>\n",
       "      <td>FIRE</td>\n",
       "      <td>70380.0</td>\n",
       "    </tr>\n",
       "    <tr>\n",
       "      <th>...</th>\n",
       "      <td>...</td>\n",
       "      <td>...</td>\n",
       "      <td>...</td>\n",
       "      <td>...</td>\n",
       "    </tr>\n",
       "    <tr>\n",
       "      <th>8815</th>\n",
       "      <td>FLOURNOY,  NICOLE A</td>\n",
       "      <td>ADMINISTRATIVE ASST II</td>\n",
       "      <td>ADMIN HEARNG</td>\n",
       "      <td>62004.0</td>\n",
       "    </tr>\n",
       "    <tr>\n",
       "      <th>9102</th>\n",
       "      <td>FRAUSTO,  LUIS A</td>\n",
       "      <td>ASST CITY TREASURER</td>\n",
       "      <td>TREASURER</td>\n",
       "      <td>75000.0</td>\n",
       "    </tr>\n",
       "    <tr>\n",
       "      <th>9790</th>\n",
       "      <td>GAVIN,  MARGARET H</td>\n",
       "      <td>ASST TO THE EXEC DIR</td>\n",
       "      <td>ADMIN HEARNG</td>\n",
       "      <td>79596.0</td>\n",
       "    </tr>\n",
       "    <tr>\n",
       "      <th>9896</th>\n",
       "      <td>GHESS JR,  JAMES</td>\n",
       "      <td>STAFF ASST</td>\n",
       "      <td>TREASURER</td>\n",
       "      <td>81948.0</td>\n",
       "    </tr>\n",
       "    <tr>\n",
       "      <th>9948</th>\n",
       "      <td>GIBSON,  DARRYL</td>\n",
       "      <td>ADMINISTRATIVE ASST II</td>\n",
       "      <td>ADMIN HEARNG</td>\n",
       "      <td>64992.0</td>\n",
       "    </tr>\n",
       "    <tr>\n",
       "      <th>10142</th>\n",
       "      <td>GLOVER,  RHONDA L</td>\n",
       "      <td>ADMINISTRATIVE ASST II</td>\n",
       "      <td>ADMIN HEARNG</td>\n",
       "      <td>68028.0</td>\n",
       "    </tr>\n",
       "    <tr>\n",
       "      <th>10181</th>\n",
       "      <td>GODWIN,  GABRIEL P</td>\n",
       "      <td>SENIOR BUDGET ANALYST</td>\n",
       "      <td>BUDGET &amp; MGMT</td>\n",
       "      <td>82668.0</td>\n",
       "    </tr>\n",
       "    <tr>\n",
       "      <th>10413</th>\n",
       "      <td>GONZALEZ,  WANDA Y</td>\n",
       "      <td>ADMINISTRATIVE ASST III - EXCLUDED</td>\n",
       "      <td>BUDGET &amp; MGMT</td>\n",
       "      <td>59376.0</td>\n",
       "    </tr>\n",
       "    <tr>\n",
       "      <th>10688</th>\n",
       "      <td>GREEN,  CARLA T</td>\n",
       "      <td>PERSONAL CARE ATTENDANT II</td>\n",
       "      <td>DISABILITIES</td>\n",
       "      <td>37356.0</td>\n",
       "    </tr>\n",
       "    <tr>\n",
       "      <th>11019</th>\n",
       "      <td>GUNN,  KENNETH A</td>\n",
       "      <td>FIRST DEPUTY COMMISSIONER</td>\n",
       "      <td>HUMAN RELATIONS</td>\n",
       "      <td>118080.0</td>\n",
       "    </tr>\n",
       "    <tr>\n",
       "      <th>11078</th>\n",
       "      <td>GUTIERREZ,  MIRIAM</td>\n",
       "      <td>ASST TO THE CITY TREASURER</td>\n",
       "      <td>TREASURER</td>\n",
       "      <td>65004.0</td>\n",
       "    </tr>\n",
       "    <tr>\n",
       "      <th>11115</th>\n",
       "      <td>GUZMAN FLORES,  MICHELLE</td>\n",
       "      <td>STAFF ASST</td>\n",
       "      <td>LICENSE APPL COMM</td>\n",
       "      <td>71292.0</td>\n",
       "    </tr>\n",
       "    <tr>\n",
       "      <th>11353</th>\n",
       "      <td>HANACEK,  LINDA A</td>\n",
       "      <td>DIR OF INFORMATION SYSTEMS</td>\n",
       "      <td>BUDGET &amp; MGMT</td>\n",
       "      <td>112308.0</td>\n",
       "    </tr>\n",
       "    <tr>\n",
       "      <th>11368</th>\n",
       "      <td>HAN,  KAREN M</td>\n",
       "      <td>ACCOUNTANT III</td>\n",
       "      <td>TREASURER</td>\n",
       "      <td>89676.0</td>\n",
       "    </tr>\n",
       "    <tr>\n",
       "      <th>11900</th>\n",
       "      <td>HELDING,  GEORGE A</td>\n",
       "      <td>POLICY ANALYST</td>\n",
       "      <td>TREASURER</td>\n",
       "      <td>46356.0</td>\n",
       "    </tr>\n",
       "    <tr>\n",
       "      <th>12124</th>\n",
       "      <td>HERNANDEZ,  MARIA I</td>\n",
       "      <td>PUBLIC RELATIONS REPRESENTATIVE I</td>\n",
       "      <td>DISABILITIES</td>\n",
       "      <td>68028.0</td>\n",
       "    </tr>\n",
       "    <tr>\n",
       "      <th>12355</th>\n",
       "      <td>HILL,  NATOYA</td>\n",
       "      <td>STAFF ASST</td>\n",
       "      <td>DISABILITIES</td>\n",
       "      <td>49188.0</td>\n",
       "    </tr>\n",
       "    <tr>\n",
       "      <th>13249</th>\n",
       "      <td>JACKSON,  DORETHA L</td>\n",
       "      <td>ASST TO THE EXEC DIR</td>\n",
       "      <td>BOARD OF ETHICS</td>\n",
       "      <td>72492.0</td>\n",
       "    </tr>\n",
       "    <tr>\n",
       "      <th>13793</th>\n",
       "      <td>JOHNSON,  JEFFERY C</td>\n",
       "      <td>COORD OF SPECIAL PROJECTS</td>\n",
       "      <td>BOARD OF ETHICS</td>\n",
       "      <td>79596.0</td>\n",
       "    </tr>\n",
       "    <tr>\n",
       "      <th>13930</th>\n",
       "      <td>JOHNSON,  WESSIE D</td>\n",
       "      <td>ADMINISTRATIVE ASST III</td>\n",
       "      <td>HUMAN RELATIONS</td>\n",
       "      <td>81948.0</td>\n",
       "    </tr>\n",
       "    <tr>\n",
       "      <th>15987</th>\n",
       "      <td>LEE,  KRISTEN E</td>\n",
       "      <td>HUMAN RELATIONS INVESTIGATOR II</td>\n",
       "      <td>HUMAN RELATIONS</td>\n",
       "      <td>89676.0</td>\n",
       "    </tr>\n",
       "    <tr>\n",
       "      <th>18863</th>\n",
       "      <td>METTELMAN,  SHANNON</td>\n",
       "      <td>EXEC ADMINISTRATIVE ASST I</td>\n",
       "      <td>BOARD OF ETHICS</td>\n",
       "      <td>48852.0</td>\n",
       "    </tr>\n",
       "    <tr>\n",
       "      <th>19810</th>\n",
       "      <td>MOTLEY,  HARRIETT A</td>\n",
       "      <td>ADMINISTRATIVE SERVICES OFFICER II EXCLD</td>\n",
       "      <td>HUMAN RELATIONS</td>\n",
       "      <td>79596.0</td>\n",
       "    </tr>\n",
       "    <tr>\n",
       "      <th>20469</th>\n",
       "      <td>NEWSOME,  JO ANN N</td>\n",
       "      <td>DIR OF HUMAN RIGHTS COMPLIANCE</td>\n",
       "      <td>HUMAN RELATIONS</td>\n",
       "      <td>97716.0</td>\n",
       "    </tr>\n",
       "    <tr>\n",
       "      <th>20649</th>\n",
       "      <td>NORIEGA,  MONA</td>\n",
       "      <td>CHAIRPERSON - COMMISSION ON HUMAN RELATIONS</td>\n",
       "      <td>HUMAN RELATIONS</td>\n",
       "      <td>125004.0</td>\n",
       "    </tr>\n",
       "    <tr>\n",
       "      <th>20795</th>\n",
       "      <td>OAKLEY,  PETER N</td>\n",
       "      <td>HUMAN RELATIONS INVESTIGATOR II</td>\n",
       "      <td>HUMAN RELATIONS</td>\n",
       "      <td>89676.0</td>\n",
       "    </tr>\n",
       "    <tr>\n",
       "      <th>22948</th>\n",
       "      <td>PRIMER,  EDWARD</td>\n",
       "      <td>PROGRAM DIR</td>\n",
       "      <td>BOARD OF ETHICS</td>\n",
       "      <td>83340.0</td>\n",
       "    </tr>\n",
       "    <tr>\n",
       "      <th>24230</th>\n",
       "      <td>ROBINSON,  ALBERT D</td>\n",
       "      <td>HUMAN RELATIONS INVESTIGATOR II</td>\n",
       "      <td>HUMAN RELATIONS</td>\n",
       "      <td>89676.0</td>\n",
       "    </tr>\n",
       "    <tr>\n",
       "      <th>27909</th>\n",
       "      <td>SUPERFINE,  RICHARD J</td>\n",
       "      <td>LEGAL COUNSEL - BOARD OF ETHICS</td>\n",
       "      <td>BOARD OF ETHICS</td>\n",
       "      <td>87324.0</td>\n",
       "    </tr>\n",
       "    <tr>\n",
       "      <th>32062</th>\n",
       "      <td>NaN</td>\n",
       "      <td>NaN</td>\n",
       "      <td>NaN</td>\n",
       "      <td>0.0</td>\n",
       "    </tr>\n",
       "  </tbody>\n",
       "</table>\n",
       "<p>333 rows × 4 columns</p>\n",
       "</div>"
      ],
      "text/plain": [
       "                           name  \\\n",
       "0               AARON,  ELVIA J   \n",
       "1             AARON,  JEFFERY M   \n",
       "2                AARON,  KARINA   \n",
       "3           AARON,  KIMBERLEI R   \n",
       "4           ABAD JR,  VICENTE M   \n",
       "5               ABARCA,  ANABEL   \n",
       "6             ABARCA,  EMMANUEL   \n",
       "7             ABASCAL,  REECE E   \n",
       "8          ABBASI,  CHRISTOPHER   \n",
       "9         ABBATACOLA,  ROBERT J   \n",
       "10        ABBATEMARCO,  JAMES J   \n",
       "11             ABBATE,  TERRY M   \n",
       "12             ABBOTT,  BETTY L   \n",
       "13            ABBOTT,  LYNISE M   \n",
       "14       ABBRUZZESE,  WILLIAM J   \n",
       "15              ABDALLAH,  ZAID   \n",
       "16        ABDELHADI,  ABDALMAHD   \n",
       "17          ABDELLATIF,  AREF R   \n",
       "18           ABDELMAJEID,  AZIZ   \n",
       "19          ABDOLLAHZADEH,  ALI   \n",
       "20     ABDUL-KARIM,  MUHAMMAD A   \n",
       "21          ABDULLAH,  DANIEL N   \n",
       "22             ABDULLAH,  KEVIN   \n",
       "23         ABDULLAH,  LAKENYA N   \n",
       "24          ABDULLAH,  RASHAD J   \n",
       "25         ABDULSATTAR,  MUDHAR   \n",
       "26         ABDUL-SHAKUR,  TAHIR   \n",
       "27       ABDULWAHAB,  ABUUBAIDA   \n",
       "28            ABEJERO,  JASON V   \n",
       "29      ABERCROMBIE IV,  EARL S   \n",
       "...                         ...   \n",
       "8815        FLOURNOY,  NICOLE A   \n",
       "9102           FRAUSTO,  LUIS A   \n",
       "9790         GAVIN,  MARGARET H   \n",
       "9896           GHESS JR,  JAMES   \n",
       "9948            GIBSON,  DARRYL   \n",
       "10142         GLOVER,  RHONDA L   \n",
       "10181        GODWIN,  GABRIEL P   \n",
       "10413        GONZALEZ,  WANDA Y   \n",
       "10688           GREEN,  CARLA T   \n",
       "11019          GUNN,  KENNETH A   \n",
       "11078        GUTIERREZ,  MIRIAM   \n",
       "11115  GUZMAN FLORES,  MICHELLE   \n",
       "11353         HANACEK,  LINDA A   \n",
       "11368             HAN,  KAREN M   \n",
       "11900        HELDING,  GEORGE A   \n",
       "12124       HERNANDEZ,  MARIA I   \n",
       "12355             HILL,  NATOYA   \n",
       "13249       JACKSON,  DORETHA L   \n",
       "13793       JOHNSON,  JEFFERY C   \n",
       "13930        JOHNSON,  WESSIE D   \n",
       "15987           LEE,  KRISTEN E   \n",
       "18863       METTELMAN,  SHANNON   \n",
       "19810       MOTLEY,  HARRIETT A   \n",
       "20469        NEWSOME,  JO ANN N   \n",
       "20649            NORIEGA,  MONA   \n",
       "20795          OAKLEY,  PETER N   \n",
       "22948           PRIMER,  EDWARD   \n",
       "24230       ROBINSON,  ALBERT D   \n",
       "27909     SUPERFINE,  RICHARD J   \n",
       "32062                       NaN   \n",
       "\n",
       "                                               title         department  \\\n",
       "0                                   WATER RATE TAKER        WATER MGMNT   \n",
       "1                                     POLICE OFFICER             POLICE   \n",
       "2                                     POLICE OFFICER             POLICE   \n",
       "3                           CHIEF CONTRACT EXPEDITER   GENERAL SERVICES   \n",
       "4                                  CIVIL ENGINEER IV        WATER MGMNT   \n",
       "5                               ASST TO THE ALDERMAN       CITY COUNCIL   \n",
       "6                              GENERAL LABORER - DSS      STREETS & SAN   \n",
       "7                        TRAFFIC CONTROL AIDE-HOURLY               OEMC   \n",
       "8                         STAFF ASST TO THE ALDERMAN       CITY COUNCIL   \n",
       "9                                ELECTRICAL MECHANIC           AVIATION   \n",
       "10                                 FIRE ENGINEER-EMT               FIRE   \n",
       "11                                    POLICE OFFICER             POLICE   \n",
       "12                                FOSTER GRANDPARENT   FAMILY & SUPPORT   \n",
       "13                                         CLERK III             POLICE   \n",
       "14                            INVESTIGATOR - IPRA II               IPRA   \n",
       "15                                    POLICE OFFICER             POLICE   \n",
       "16                                    POLICE OFFICER             POLICE   \n",
       "17     FIREFIGHTER (PER ARBITRATORS AWARD)-PARAMEDIC               FIRE   \n",
       "18                                    POLICE OFFICER             POLICE   \n",
       "19                             FIREFIGHTER/PARAMEDIC               FIRE   \n",
       "20                         ENGINEERING TECHNICIAN VI        WATER MGMNT   \n",
       "21                                   FIREFIGHTER-EMT               FIRE   \n",
       "22                                        LIEUTENANT               FIRE   \n",
       "23                                    CROSSING GUARD               OEMC   \n",
       "24           ELECTRICAL MECHANIC-AUTO-POLICE MTR MNT   GENERAL SERVICES   \n",
       "25                                 CIVIL ENGINEER II        WATER MGMNT   \n",
       "26                             GENERAL LABORER - DSS      STREETS & SAN   \n",
       "27                                FOSTER GRANDPARENT   FAMILY & SUPPORT   \n",
       "28                                    POLICE OFFICER             POLICE   \n",
       "29                                         PARAMEDIC               FIRE   \n",
       "...                                              ...                ...   \n",
       "8815                          ADMINISTRATIVE ASST II       ADMIN HEARNG   \n",
       "9102                             ASST CITY TREASURER          TREASURER   \n",
       "9790                            ASST TO THE EXEC DIR       ADMIN HEARNG   \n",
       "9896                                      STAFF ASST          TREASURER   \n",
       "9948                          ADMINISTRATIVE ASST II       ADMIN HEARNG   \n",
       "10142                         ADMINISTRATIVE ASST II       ADMIN HEARNG   \n",
       "10181                          SENIOR BUDGET ANALYST      BUDGET & MGMT   \n",
       "10413             ADMINISTRATIVE ASST III - EXCLUDED      BUDGET & MGMT   \n",
       "10688                     PERSONAL CARE ATTENDANT II       DISABILITIES   \n",
       "11019                      FIRST DEPUTY COMMISSIONER    HUMAN RELATIONS   \n",
       "11078                     ASST TO THE CITY TREASURER          TREASURER   \n",
       "11115                                     STAFF ASST  LICENSE APPL COMM   \n",
       "11353                     DIR OF INFORMATION SYSTEMS      BUDGET & MGMT   \n",
       "11368                                 ACCOUNTANT III          TREASURER   \n",
       "11900                                 POLICY ANALYST          TREASURER   \n",
       "12124              PUBLIC RELATIONS REPRESENTATIVE I       DISABILITIES   \n",
       "12355                                     STAFF ASST       DISABILITIES   \n",
       "13249                           ASST TO THE EXEC DIR    BOARD OF ETHICS   \n",
       "13793                      COORD OF SPECIAL PROJECTS    BOARD OF ETHICS   \n",
       "13930                        ADMINISTRATIVE ASST III    HUMAN RELATIONS   \n",
       "15987                HUMAN RELATIONS INVESTIGATOR II    HUMAN RELATIONS   \n",
       "18863                     EXEC ADMINISTRATIVE ASST I    BOARD OF ETHICS   \n",
       "19810       ADMINISTRATIVE SERVICES OFFICER II EXCLD    HUMAN RELATIONS   \n",
       "20469                 DIR OF HUMAN RIGHTS COMPLIANCE    HUMAN RELATIONS   \n",
       "20649    CHAIRPERSON - COMMISSION ON HUMAN RELATIONS    HUMAN RELATIONS   \n",
       "20795                HUMAN RELATIONS INVESTIGATOR II    HUMAN RELATIONS   \n",
       "22948                                    PROGRAM DIR    BOARD OF ETHICS   \n",
       "24230                HUMAN RELATIONS INVESTIGATOR II    HUMAN RELATIONS   \n",
       "27909                LEGAL COUNSEL - BOARD OF ETHICS    BOARD OF ETHICS   \n",
       "32062                                            NaN                NaN   \n",
       "\n",
       "         salary  \n",
       "0       90744.0  \n",
       "1       84450.0  \n",
       "2       84450.0  \n",
       "3       89880.0  \n",
       "4      106836.0  \n",
       "5       70764.0  \n",
       "6       41849.6  \n",
       "7       20051.2  \n",
       "8       49452.0  \n",
       "9       93600.0  \n",
       "10     100320.0  \n",
       "11      90618.0  \n",
       "12       2756.0  \n",
       "13      46896.0  \n",
       "14      73920.0  \n",
       "15      74028.0  \n",
       "16      81588.0  \n",
       "17      99228.0  \n",
       "18      81588.0  \n",
       "19      88596.0  \n",
       "20     108228.0  \n",
       "21      92682.0  \n",
       "22     111474.0  \n",
       "23      17846.4  \n",
       "24      93600.0  \n",
       "25      58536.0  \n",
       "26      41849.6  \n",
       "27       2756.0  \n",
       "28      87384.0  \n",
       "29      70380.0  \n",
       "...         ...  \n",
       "8815    62004.0  \n",
       "9102    75000.0  \n",
       "9790    79596.0  \n",
       "9896    81948.0  \n",
       "9948    64992.0  \n",
       "10142   68028.0  \n",
       "10181   82668.0  \n",
       "10413   59376.0  \n",
       "10688   37356.0  \n",
       "11019  118080.0  \n",
       "11078   65004.0  \n",
       "11115   71292.0  \n",
       "11353  112308.0  \n",
       "11368   89676.0  \n",
       "11900   46356.0  \n",
       "12124   68028.0  \n",
       "12355   49188.0  \n",
       "13249   72492.0  \n",
       "13793   79596.0  \n",
       "13930   81948.0  \n",
       "15987   89676.0  \n",
       "18863   48852.0  \n",
       "19810   79596.0  \n",
       "20469   97716.0  \n",
       "20649  125004.0  \n",
       "20795   89676.0  \n",
       "22948   83340.0  \n",
       "24230   89676.0  \n",
       "27909   87324.0  \n",
       "32062       0.0  \n",
       "\n",
       "[333 rows x 4 columns]"
      ]
     },
     "execution_count": 207,
     "metadata": {},
     "output_type": "execute_result"
    }
   ],
   "source": [
    "by_dept.head(10)"
   ]
  },
  {
   "cell_type": "code",
   "execution_count": 208,
   "metadata": {
    "collapsed": false,
    "nbpresent": {
     "id": "0bc3b149-beeb-4b7b-8782-2e759863f429"
    },
    "slideshow": {
     "slide_type": "subslide"
    }
   },
   "outputs": [
    {
     "data": {
      "text/html": [
       "<div>\n",
       "<table border=\"1\" class=\"dataframe\">\n",
       "  <thead>\n",
       "    <tr style=\"text-align: right;\">\n",
       "      <th></th>\n",
       "      <th>salary</th>\n",
       "    </tr>\n",
       "    <tr>\n",
       "      <th>department</th>\n",
       "      <th></th>\n",
       "    </tr>\n",
       "  </thead>\n",
       "  <tbody>\n",
       "    <tr>\n",
       "      <th>ADMIN HEARNG</th>\n",
       "      <td>2.996364e+06</td>\n",
       "    </tr>\n",
       "    <tr>\n",
       "      <th>ANIMAL CONTRL</th>\n",
       "      <td>3.683492e+06</td>\n",
       "    </tr>\n",
       "    <tr>\n",
       "      <th>AVIATION</th>\n",
       "      <td>1.119752e+08</td>\n",
       "    </tr>\n",
       "    <tr>\n",
       "      <th>BOARD OF ELECTION</th>\n",
       "      <td>6.572532e+06</td>\n",
       "    </tr>\n",
       "    <tr>\n",
       "      <th>BOARD OF ETHICS</th>\n",
       "      <td>7.802760e+05</td>\n",
       "    </tr>\n",
       "    <tr>\n",
       "      <th>BUDGET &amp; MGMT</th>\n",
       "      <td>3.587580e+06</td>\n",
       "    </tr>\n",
       "    <tr>\n",
       "      <th>BUILDINGS</th>\n",
       "      <td>2.523420e+07</td>\n",
       "    </tr>\n",
       "    <tr>\n",
       "      <th>BUSINESS AFFAIRS</th>\n",
       "      <td>1.246842e+07</td>\n",
       "    </tr>\n",
       "    <tr>\n",
       "      <th>CITY CLERK</th>\n",
       "      <td>6.185521e+06</td>\n",
       "    </tr>\n",
       "    <tr>\n",
       "      <th>CITY COUNCIL</th>\n",
       "      <td>2.284305e+07</td>\n",
       "    </tr>\n",
       "  </tbody>\n",
       "</table>\n",
       "</div>"
      ],
      "text/plain": [
       "                         salary\n",
       "department                     \n",
       "ADMIN HEARNG       2.996364e+06\n",
       "ANIMAL CONTRL      3.683492e+06\n",
       "AVIATION           1.119752e+08\n",
       "BOARD OF ELECTION  6.572532e+06\n",
       "BOARD OF ETHICS    7.802760e+05\n",
       "BUDGET & MGMT      3.587580e+06\n",
       "BUILDINGS          2.523420e+07\n",
       "BUSINESS AFFAIRS   1.246842e+07\n",
       "CITY CLERK         6.185521e+06\n",
       "CITY COUNCIL       2.284305e+07"
      ]
     },
     "execution_count": 208,
     "metadata": {},
     "output_type": "execute_result"
    }
   ],
   "source": [
    "by_dept.sum().head(10)"
   ]
  },
  {
   "cell_type": "code",
   "execution_count": 209,
   "metadata": {
    "collapsed": false,
    "nbpresent": {
     "id": "ab8e5250-8c76-4afc-acd9-a92e17babb00"
    },
    "slideshow": {
     "slide_type": "subslide"
    }
   },
   "outputs": [
    {
     "data": {
      "text/html": [
       "<div>\n",
       "<table border=\"1\" class=\"dataframe\">\n",
       "  <thead>\n",
       "    <tr style=\"text-align: right;\">\n",
       "      <th></th>\n",
       "      <th>salary</th>\n",
       "    </tr>\n",
       "    <tr>\n",
       "      <th>department</th>\n",
       "      <th></th>\n",
       "    </tr>\n",
       "  </thead>\n",
       "  <tbody>\n",
       "    <tr>\n",
       "      <th>HUMAN RESOURCES</th>\n",
       "      <td>75905.142857</td>\n",
       "    </tr>\n",
       "    <tr>\n",
       "      <th>INSPECTOR GEN</th>\n",
       "      <td>82118.947368</td>\n",
       "    </tr>\n",
       "    <tr>\n",
       "      <th>IPRA</th>\n",
       "      <td>90064.097561</td>\n",
       "    </tr>\n",
       "    <tr>\n",
       "      <th>LAW</th>\n",
       "      <td>74695.951208</td>\n",
       "    </tr>\n",
       "    <tr>\n",
       "      <th>LICENSE APPL COMM</th>\n",
       "      <td>71292.000000</td>\n",
       "    </tr>\n",
       "  </tbody>\n",
       "</table>\n",
       "</div>"
      ],
      "text/plain": [
       "                         salary\n",
       "department                     \n",
       "HUMAN RESOURCES    75905.142857\n",
       "INSPECTOR GEN      82118.947368\n",
       "IPRA               90064.097561\n",
       "LAW                74695.951208\n",
       "LICENSE APPL COMM  71292.000000"
      ]
     },
     "execution_count": 209,
     "metadata": {},
     "output_type": "execute_result"
    }
   ],
   "source": [
    "by_dept.mean()[20:25]"
   ]
  },
  {
   "cell_type": "code",
   "execution_count": 210,
   "metadata": {
    "collapsed": false,
    "nbpresent": {
     "id": "4448b53d-159d-4c68-b107-7d672c8e68ad"
    },
    "slideshow": {
     "slide_type": "subslide"
    }
   },
   "outputs": [
    {
     "data": {
      "text/html": [
       "<div>\n",
       "<table border=\"1\" class=\"dataframe\">\n",
       "  <thead>\n",
       "    <tr style=\"text-align: right;\">\n",
       "      <th></th>\n",
       "      <th>salary</th>\n",
       "    </tr>\n",
       "    <tr>\n",
       "      <th>department</th>\n",
       "      <th></th>\n",
       "    </tr>\n",
       "  </thead>\n",
       "  <tbody>\n",
       "    <tr>\n",
       "      <th>HUMAN RESOURCES</th>\n",
       "      <td>5313360.0</td>\n",
       "    </tr>\n",
       "    <tr>\n",
       "      <th>INSPECTOR GEN</th>\n",
       "      <td>4680780.0</td>\n",
       "    </tr>\n",
       "    <tr>\n",
       "      <th>IPRA</th>\n",
       "      <td>7385256.0</td>\n",
       "    </tr>\n",
       "    <tr>\n",
       "      <th>LAW</th>\n",
       "      <td>30924123.8</td>\n",
       "    </tr>\n",
       "    <tr>\n",
       "      <th>LICENSE APPL COMM</th>\n",
       "      <td>71292.0</td>\n",
       "    </tr>\n",
       "  </tbody>\n",
       "</table>\n",
       "</div>"
      ],
      "text/plain": [
       "                       salary\n",
       "department                   \n",
       "HUMAN RESOURCES     5313360.0\n",
       "INSPECTOR GEN       4680780.0\n",
       "IPRA                7385256.0\n",
       "LAW                30924123.8\n",
       "LICENSE APPL COMM     71292.0"
      ]
     },
     "execution_count": 210,
     "metadata": {},
     "output_type": "execute_result"
    }
   ],
   "source": [
    "by_dept.sum()[20:25]"
   ]
  },
  {
   "cell_type": "code",
   "execution_count": 211,
   "metadata": {
    "collapsed": false,
    "nbpresent": {
     "id": "5a246d97-8472-4b14-bd36-988805900f68"
    },
    "slideshow": {
     "slide_type": "skip"
    }
   },
   "outputs": [
    {
     "data": {
      "text/plain": [
       "['name', 'title', 'department', 'salary']"
      ]
     },
     "execution_count": 211,
     "metadata": {},
     "output_type": "execute_result"
    }
   ],
   "source": [
    "chicago.columns.values.tolist()"
   ]
  },
  {
   "cell_type": "code",
   "execution_count": 212,
   "metadata": {
    "collapsed": false,
    "nbpresent": {
     "id": "b76daac0-ef50-4227-acf6-a4217f135e71"
    },
    "slideshow": {
     "slide_type": "subslide"
    }
   },
   "outputs": [
    {
     "data": {
      "text/plain": [
       "department\n",
       "ADMIN HEARNG             [ADMINISTRATIVE ASST II, CUSTOMER ACCOUNT REPR...\n",
       "ANIMAL CONTRL            [ANIMAL CARE AIDE I, ANIMAL CONTROL OFFICER, A...\n",
       "AVIATION                 [ELECTRICAL MECHANIC, CONSTRUCTION LABORER, AV...\n",
       "BOARD OF ELECTION        [SENIOR CLERK-ELECTIONS, PRINCIPAL CLERK-ELECT...\n",
       "BOARD OF ETHICS          [EXECUTIVE DIR - BOARD OF ETHICS, STAFF ASST, ...\n",
       "BUDGET & MGMT            [SENIOR BUDGET ANALYST, COORD OF ECONOMIC DEVE...\n",
       "BUILDINGS                [PLUMBING INSPECTOR, VENTILATION AND FURNACE I...\n",
       "BUSINESS AFFAIRS         [ENGINEERING TECHNICIAN V, SENIOR PUBLIC INFOR...\n",
       "CITY CLERK               [EDITORIAL ASST, ASST MANAGING EDITOR COUNCIL ...\n",
       "CITY COUNCIL             [ASST TO THE ALDERMAN, STAFF ASST TO THE ALDER...\n",
       "COMMUNITY DEVELOPMENT    [ACCOUNTING TECHNICIAN II, SENIOR RESEARCH ANA...\n",
       "CULTURAL AFFAIRS         [SPECIAL EVENTS COORD III, ASST TO THE COMMISS...\n",
       "DISABILITIES             [DEPUTY COMMISSIONER, DISABILITY SPECIALIST II...\n",
       "DoIT                     [SENIOR TELECOMMUNICATIONS SPECIALIST, DIR OF ...\n",
       "FAMILY & SUPPORT         [FOSTER GRANDPARENT, SENIOR PROGRAMMER/ANALYST...\n",
       "FINANCE                  [BOOTER - PARKING, ACCOUNTING TECHNICIAN I, AC...\n",
       "FIRE                     [FIRE ENGINEER-EMT, FIREFIGHTER (PER ARBITRATO...\n",
       "GENERAL SERVICES         [CHIEF CONTRACT EXPEDITER, ELECTRICAL MECHANIC...\n",
       "HEALTH                   [PERSONAL COMPUTER OPERATOR III, SENIOR ENVIRO...\n",
       "HUMAN RELATIONS          [ASST TO THE COMMISSIONER, HUMAN RELATIONS SPE...\n",
       "HUMAN RESOURCES          [RECRUITER, CLERK III, CLASSIFICATION & COMPEN...\n",
       "INSPECTOR GEN            [DIR OF INFORMATION SYSTEMS, ASST INSPECTOR GE...\n",
       "IPRA                     [INVESTIGATOR - IPRA II, INVESTIGATOR - IPRA I...\n",
       "LAW                      [CHIEF ASST CORPORATION COUNSEL, LEGAL SECRETA...\n",
       "LICENSE APPL COMM                                             [STAFF ASST]\n",
       "MAYOR'S OFFICE           [ADMINISTRATIVE ASST, ASST ADMINISTRATIVE SECR...\n",
       "OEMC                     [TRAFFIC CONTROL AIDE-HOURLY, CROSSING GUARD, ...\n",
       "POLICE                   [POLICE OFFICER, CLERK III, POLICE OFFICER (AS...\n",
       "POLICE BOARD             [SUPERVISING CLERK, EXECUTIVE DIR - POLICE BOARD]\n",
       "PROCUREMENT              [ASST TO THE COMMISSIONER, SR PROCUREMENT SPEC...\n",
       "PUBLIC LIBRARY           [LIBRARY ASSOCIATE - HOURLY, LIBRARY ASSOCIATE...\n",
       "STREETS & SAN            [GENERAL LABORER - DSS, MOTOR TRUCK DRIVER, SA...\n",
       "TRANSPORTN               [TRAFFIC SIGNAL REPAIRMAN, ASPHALT LABORER, MO...\n",
       "TREASURER                [ASST CITY TREASURER, ACCOUNTANT I, ASSISTANT ...\n",
       "WATER MGMNT              [WATER RATE TAKER, CIVIL ENGINEER IV, ENGINEER...\n",
       "Name: title, dtype: object"
      ]
     },
     "execution_count": 212,
     "metadata": {},
     "output_type": "execute_result"
    }
   ],
   "source": [
    "by_dept.title.unique()"
   ]
  },
  {
   "cell_type": "code",
   "execution_count": 213,
   "metadata": {
    "collapsed": false,
    "nbpresent": {
     "id": "a4fe2645-2413-4541-b5c9-a5356a46426d"
    },
    "slideshow": {
     "slide_type": "skip"
    }
   },
   "outputs": [
    {
     "data": {
      "text/html": [
       "<div>\n",
       "<table border=\"1\" class=\"dataframe\">\n",
       "  <thead>\n",
       "    <tr style=\"text-align: right;\">\n",
       "      <th></th>\n",
       "      <th>name</th>\n",
       "      <th>title</th>\n",
       "      <th>department</th>\n",
       "      <th>salary</th>\n",
       "    </tr>\n",
       "  </thead>\n",
       "  <tbody>\n",
       "    <tr>\n",
       "      <th>0</th>\n",
       "      <td>AARON,  ELVIA J</td>\n",
       "      <td>WATER RATE TAKER</td>\n",
       "      <td>WATER MGMNT</td>\n",
       "      <td>90744.0</td>\n",
       "    </tr>\n",
       "    <tr>\n",
       "      <th>1</th>\n",
       "      <td>AARON,  JEFFERY M</td>\n",
       "      <td>POLICE OFFICER</td>\n",
       "      <td>POLICE</td>\n",
       "      <td>84450.0</td>\n",
       "    </tr>\n",
       "    <tr>\n",
       "      <th>2</th>\n",
       "      <td>AARON,  KARINA</td>\n",
       "      <td>POLICE OFFICER</td>\n",
       "      <td>POLICE</td>\n",
       "      <td>84450.0</td>\n",
       "    </tr>\n",
       "  </tbody>\n",
       "</table>\n",
       "</div>"
      ],
      "text/plain": [
       "                name             title   department   salary\n",
       "0    AARON,  ELVIA J  WATER RATE TAKER  WATER MGMNT  90744.0\n",
       "1  AARON,  JEFFERY M    POLICE OFFICER       POLICE  84450.0\n",
       "2     AARON,  KARINA    POLICE OFFICER       POLICE  84450.0"
      ]
     },
     "execution_count": 213,
     "metadata": {},
     "output_type": "execute_result"
    }
   ],
   "source": [
    "chicago.head(3)"
   ]
  },
  {
   "cell_type": "code",
   "execution_count": 214,
   "metadata": {
    "collapsed": false,
    "nbpresent": {
     "id": "49154386-e8ce-479d-9d01-011d4db9b844"
    },
    "slideshow": {
     "slide_type": "subslide"
    }
   },
   "outputs": [
    {
     "data": {
      "text/plain": [
       "department\n",
       "TRANSPORTN          162\n",
       "WATER MGMNT         154\n",
       "POLICE              122\n",
       "AVIATION            122\n",
       "GENERAL SERVICES    121\n",
       "Name: title, dtype: int64"
      ]
     },
     "execution_count": 214,
     "metadata": {},
     "output_type": "execute_result"
    }
   ],
   "source": [
    "by_dept.title.nunique().sort_values(ascending=False)[:5]"
   ]
  },
  {
   "cell_type": "code",
   "execution_count": 215,
   "metadata": {
    "collapsed": true,
    "nbpresent": {
     "id": "2ed11342-6446-439c-a21d-628c59cf30ab"
    },
    "slideshow": {
     "slide_type": "subslide"
    }
   },
   "outputs": [],
   "source": [
    "def ranker(df):\n",
    "    df['dept_rank'] = np.arange(len(df)) + 1\n",
    "    return df"
   ]
  },
  {
   "cell_type": "code",
   "execution_count": 216,
   "metadata": {
    "collapsed": true,
    "nbpresent": {
     "id": "b4456297-131f-462e-98a7-8f050fb409ec"
    },
    "slideshow": {
     "slide_type": "subslide"
    }
   },
   "outputs": [],
   "source": [
    "chicago.sort_values('salary', ascending=False, inplace=True)"
   ]
  },
  {
   "cell_type": "code",
   "execution_count": 217,
   "metadata": {
    "collapsed": true,
    "nbpresent": {
     "id": "5b0204eb-8a98-49ed-9d2c-e48ac5b0656a"
    },
    "slideshow": {
     "slide_type": "subslide"
    }
   },
   "outputs": [],
   "source": [
    "chicago = chicago.groupby('department').apply(ranker)"
   ]
  },
  {
   "cell_type": "code",
   "execution_count": 218,
   "metadata": {
    "collapsed": false,
    "nbpresent": {
     "id": "0a822702-626d-4fbb-a714-d14e04fe9727"
    },
    "slideshow": {
     "slide_type": "subslide"
    }
   },
   "outputs": [
    {
     "data": {
      "text/html": [
       "<div>\n",
       "<table border=\"1\" class=\"dataframe\">\n",
       "  <thead>\n",
       "    <tr style=\"text-align: right;\">\n",
       "      <th></th>\n",
       "      <th>name</th>\n",
       "      <th>title</th>\n",
       "      <th>department</th>\n",
       "      <th>salary</th>\n",
       "      <th>dept_rank</th>\n",
       "    </tr>\n",
       "  </thead>\n",
       "  <tbody>\n",
       "    <tr>\n",
       "      <th>8184</th>\n",
       "      <td>EVANS,  GINGER S</td>\n",
       "      <td>COMMISSIONER OF AVIATION</td>\n",
       "      <td>AVIATION</td>\n",
       "      <td>300000.0</td>\n",
       "      <td>1.0</td>\n",
       "    </tr>\n",
       "    <tr>\n",
       "      <th>7954</th>\n",
       "      <td>EMANUEL,  RAHM</td>\n",
       "      <td>MAYOR</td>\n",
       "      <td>MAYOR'S OFFICE</td>\n",
       "      <td>216210.0</td>\n",
       "      <td>1.0</td>\n",
       "    </tr>\n",
       "    <tr>\n",
       "      <th>25532</th>\n",
       "      <td>SANTIAGO,  JOSE A</td>\n",
       "      <td>FIRE COMMISSIONER</td>\n",
       "      <td>FIRE</td>\n",
       "      <td>202728.0</td>\n",
       "      <td>1.0</td>\n",
       "    </tr>\n",
       "    <tr>\n",
       "      <th>8042</th>\n",
       "      <td>ESCALANTE,  JOHN J</td>\n",
       "      <td>FIRST DEPUTY SUPERINTENDENT</td>\n",
       "      <td>POLICE</td>\n",
       "      <td>197724.0</td>\n",
       "      <td>1.0</td>\n",
       "    </tr>\n",
       "    <tr>\n",
       "      <th>19672</th>\n",
       "      <td>MORITA,  JULIA Y</td>\n",
       "      <td>COMMISSIONER OF HEALTH</td>\n",
       "      <td>HEALTH</td>\n",
       "      <td>177000.0</td>\n",
       "      <td>1.0</td>\n",
       "    </tr>\n",
       "    <tr>\n",
       "      <th>23631</th>\n",
       "      <td>REIFMAN,  DAVID</td>\n",
       "      <td>COMMISSIONER OF PLANNING &amp; DEVELOPMENT</td>\n",
       "      <td>COMMUNITY DEVELOPMENT</td>\n",
       "      <td>175020.0</td>\n",
       "      <td>1.0</td>\n",
       "    </tr>\n",
       "    <tr>\n",
       "      <th>19721</th>\n",
       "      <td>MORRISON BUTLER,  LISA V</td>\n",
       "      <td>COMMISSIONER OF FAMILY AND SUPPORT SERVICES</td>\n",
       "      <td>FAMILY &amp; SUPPORT</td>\n",
       "      <td>175002.0</td>\n",
       "      <td>1.0</td>\n",
       "    </tr>\n",
       "    <tr>\n",
       "      <th>21933</th>\n",
       "      <td>PATTON,  STEPHEN R</td>\n",
       "      <td>CORPORATION COUNSEL</td>\n",
       "      <td>LAW</td>\n",
       "      <td>173664.0</td>\n",
       "      <td>1.0</td>\n",
       "    </tr>\n",
       "    <tr>\n",
       "      <th>12571</th>\n",
       "      <td>HOLT,  ALEXANDRA D</td>\n",
       "      <td>BUDGET DIR</td>\n",
       "      <td>BUDGET &amp; MGMT</td>\n",
       "      <td>169992.0</td>\n",
       "      <td>1.0</td>\n",
       "    </tr>\n",
       "    <tr>\n",
       "      <th>22847</th>\n",
       "      <td>POWERS,  THOMAS H</td>\n",
       "      <td>COMMISSIONER OF WATER MGMT</td>\n",
       "      <td>WATER MGMNT</td>\n",
       "      <td>169512.0</td>\n",
       "      <td>1.0</td>\n",
       "    </tr>\n",
       "    <tr>\n",
       "      <th>25724</th>\n",
       "      <td>SCHEINFELD,  REBEKAH C</td>\n",
       "      <td>COMMISSIONER OF TRANSPORTATION</td>\n",
       "      <td>TRANSPORTN</td>\n",
       "      <td>169500.0</td>\n",
       "      <td>1.0</td>\n",
       "    </tr>\n",
       "    <tr>\n",
       "      <th>25731</th>\n",
       "      <td>SCHENKEL,  GARY W</td>\n",
       "      <td>EXEC DIR EMERG MGMT &amp; COMM</td>\n",
       "      <td>OEMC</td>\n",
       "      <td>167796.0</td>\n",
       "      <td>1.0</td>\n",
       "    </tr>\n",
       "    <tr>\n",
       "      <th>23819</th>\n",
       "      <td>RHEE,  JAMIE L</td>\n",
       "      <td>CHIEF PROCUREMENT OFFICER</td>\n",
       "      <td>PROCUREMENT</td>\n",
       "      <td>167220.0</td>\n",
       "      <td>1.0</td>\n",
       "    </tr>\n",
       "    <tr>\n",
       "      <th>1419</th>\n",
       "      <td>BANNON,  BRIAN A</td>\n",
       "      <td>COMMISSIONER OF CHICAGO PUBLIC LIBRARY</td>\n",
       "      <td>PUBLIC LIBRARY</td>\n",
       "      <td>167004.0</td>\n",
       "      <td>1.0</td>\n",
       "    </tr>\n",
       "    <tr>\n",
       "      <th>30702</th>\n",
       "      <td>WIDAWSKY,  DANIEL J</td>\n",
       "      <td>CITY COMPTROLLER</td>\n",
       "      <td>FINANCE</td>\n",
       "      <td>165000.0</td>\n",
       "      <td>1.0</td>\n",
       "    </tr>\n",
       "    <tr>\n",
       "      <th>8276</th>\n",
       "      <td>FAIRLEY,  SHARON R</td>\n",
       "      <td>CHIEF ADMINISTRATOR</td>\n",
       "      <td>IPRA</td>\n",
       "      <td>161856.0</td>\n",
       "      <td>1.0</td>\n",
       "    </tr>\n",
       "    <tr>\n",
       "      <th>8441</th>\n",
       "      <td>FERGUSON,  JOSEPH M</td>\n",
       "      <td>INSPECTOR GENERAL</td>\n",
       "      <td>INSPECTOR GEN</td>\n",
       "      <td>161856.0</td>\n",
       "      <td>1.0</td>\n",
       "    </tr>\n",
       "    <tr>\n",
       "      <th>14317</th>\n",
       "      <td>KAIDEN,  MARLA M</td>\n",
       "      <td>CHIEF ADMINISTRATIVE OFFICER</td>\n",
       "      <td>CITY COUNCIL</td>\n",
       "      <td>160248.0</td>\n",
       "      <td>1.0</td>\n",
       "    </tr>\n",
       "    <tr>\n",
       "      <th>10947</th>\n",
       "      <td>GUERRA,  MARIA</td>\n",
       "      <td>COMMISSIONER OF BUS AFAIRS AND CONSUMER PROT</td>\n",
       "      <td>BUSINESS AFFAIRS</td>\n",
       "      <td>157092.0</td>\n",
       "      <td>1.0</td>\n",
       "    </tr>\n",
       "    <tr>\n",
       "      <th>30822</th>\n",
       "      <td>WILLIAMS,  CHARLES L</td>\n",
       "      <td>COMMISSIONER OF STREETS AND SANITATION</td>\n",
       "      <td>STREETS &amp; SAN</td>\n",
       "      <td>157092.0</td>\n",
       "      <td>1.0</td>\n",
       "    </tr>\n",
       "    <tr>\n",
       "      <th>9200</th>\n",
       "      <td>FRYDLAND,  JUDITH</td>\n",
       "      <td>COMMISSIONER OF BUILDINGS</td>\n",
       "      <td>BUILDINGS</td>\n",
       "      <td>157092.0</td>\n",
       "      <td>1.0</td>\n",
       "    </tr>\n",
       "    <tr>\n",
       "      <th>23792</th>\n",
       "      <td>REYNOLDS,  DAVID J</td>\n",
       "      <td>COMMISSIONER OF FLEET &amp; FACILITY MANAGEMENT</td>\n",
       "      <td>GENERAL SERVICES</td>\n",
       "      <td>157092.0</td>\n",
       "      <td>1.0</td>\n",
       "    </tr>\n",
       "    <tr>\n",
       "      <th>13212</th>\n",
       "      <td>JACKOWIAK,  PATRICIA</td>\n",
       "      <td>DIR OF ADMINISTRATIVE HEARINGS</td>\n",
       "      <td>ADMIN HEARNG</td>\n",
       "      <td>156420.0</td>\n",
       "      <td>1.0</td>\n",
       "    </tr>\n",
       "    <tr>\n",
       "      <th>2464</th>\n",
       "      <td>BOONE,  MICHELLE T</td>\n",
       "      <td>COMMISSIONER OF CULTURAL AFFAIRS/SPEC EVENTS</td>\n",
       "      <td>CULTURAL AFFAIRS</td>\n",
       "      <td>155040.0</td>\n",
       "      <td>1.0</td>\n",
       "    </tr>\n",
       "    <tr>\n",
       "      <th>1968</th>\n",
       "      <td>BERMAN,  BRENNA M</td>\n",
       "      <td>CHIEF INFORMATION OFFICER</td>\n",
       "      <td>DoIT</td>\n",
       "      <td>154992.0</td>\n",
       "      <td>1.0</td>\n",
       "    </tr>\n",
       "    <tr>\n",
       "      <th>4684</th>\n",
       "      <td>CHOI,  SOO</td>\n",
       "      <td>COMMISSIONER OF HUMAN RESOURCES</td>\n",
       "      <td>HUMAN RESOURCES</td>\n",
       "      <td>151572.0</td>\n",
       "      <td>1.0</td>\n",
       "    </tr>\n",
       "    <tr>\n",
       "      <th>15606</th>\n",
       "      <td>LAFLEUR,  KRISTI L</td>\n",
       "      <td>DEPUTY CITY TREASURER</td>\n",
       "      <td>TREASURER</td>\n",
       "      <td>150000.0</td>\n",
       "      <td>1.0</td>\n",
       "    </tr>\n",
       "    <tr>\n",
       "      <th>28126</th>\n",
       "      <td>TAMLEY,  KAREN M</td>\n",
       "      <td>COMM MAYORS OFF PEOPLE W DISABILITIES</td>\n",
       "      <td>DISABILITIES</td>\n",
       "      <td>138420.0</td>\n",
       "      <td>1.0</td>\n",
       "    </tr>\n",
       "    <tr>\n",
       "      <th>18779</th>\n",
       "      <td>MENDOZA,  SUSANA A</td>\n",
       "      <td>CITY CLERK</td>\n",
       "      <td>CITY CLERK</td>\n",
       "      <td>133545.0</td>\n",
       "      <td>1.0</td>\n",
       "    </tr>\n",
       "    <tr>\n",
       "      <th>1967</th>\n",
       "      <td>BERLIN,  STEVEN</td>\n",
       "      <td>EXECUTIVE DIR - BOARD OF ETHICS</td>\n",
       "      <td>BOARD OF ETHICS</td>\n",
       "      <td>131688.0</td>\n",
       "      <td>1.0</td>\n",
       "    </tr>\n",
       "    <tr>\n",
       "      <th>1633</th>\n",
       "      <td>BATEMAN,  KELLY ANNE</td>\n",
       "      <td>DEPUTY CHIEF ADMINISTRATIVE OFFICER</td>\n",
       "      <td>BOARD OF ELECTION</td>\n",
       "      <td>129840.0</td>\n",
       "      <td>1.0</td>\n",
       "    </tr>\n",
       "    <tr>\n",
       "      <th>20649</th>\n",
       "      <td>NORIEGA,  MONA</td>\n",
       "      <td>CHAIRPERSON - COMMISSION ON HUMAN RELATIONS</td>\n",
       "      <td>HUMAN RELATIONS</td>\n",
       "      <td>125004.0</td>\n",
       "      <td>1.0</td>\n",
       "    </tr>\n",
       "    <tr>\n",
       "      <th>31609</th>\n",
       "      <td>YAMAJI,  PETER S</td>\n",
       "      <td>VETERINARIAN</td>\n",
       "      <td>ANIMAL CONTRL</td>\n",
       "      <td>123144.0</td>\n",
       "      <td>1.0</td>\n",
       "    </tr>\n",
       "    <tr>\n",
       "      <th>3899</th>\n",
       "      <td>CAPRONI,  MAX A</td>\n",
       "      <td>EXECUTIVE DIR - POLICE BOARD</td>\n",
       "      <td>POLICE BOARD</td>\n",
       "      <td>97728.0</td>\n",
       "      <td>1.0</td>\n",
       "    </tr>\n",
       "    <tr>\n",
       "      <th>11115</th>\n",
       "      <td>GUZMAN FLORES,  MICHELLE</td>\n",
       "      <td>STAFF ASST</td>\n",
       "      <td>LICENSE APPL COMM</td>\n",
       "      <td>71292.0</td>\n",
       "      <td>1.0</td>\n",
       "    </tr>\n",
       "  </tbody>\n",
       "</table>\n",
       "</div>"
      ],
      "text/plain": [
       "                           name                                         title  \\\n",
       "8184           EVANS,  GINGER S                      COMMISSIONER OF AVIATION   \n",
       "7954             EMANUEL,  RAHM                                         MAYOR   \n",
       "25532         SANTIAGO,  JOSE A                             FIRE COMMISSIONER   \n",
       "8042         ESCALANTE,  JOHN J                   FIRST DEPUTY SUPERINTENDENT   \n",
       "19672          MORITA,  JULIA Y                        COMMISSIONER OF HEALTH   \n",
       "23631           REIFMAN,  DAVID        COMMISSIONER OF PLANNING & DEVELOPMENT   \n",
       "19721  MORRISON BUTLER,  LISA V   COMMISSIONER OF FAMILY AND SUPPORT SERVICES   \n",
       "21933        PATTON,  STEPHEN R                           CORPORATION COUNSEL   \n",
       "12571        HOLT,  ALEXANDRA D                                    BUDGET DIR   \n",
       "22847         POWERS,  THOMAS H                    COMMISSIONER OF WATER MGMT   \n",
       "25724    SCHEINFELD,  REBEKAH C                COMMISSIONER OF TRANSPORTATION   \n",
       "25731         SCHENKEL,  GARY W                    EXEC DIR EMERG MGMT & COMM   \n",
       "23819            RHEE,  JAMIE L                     CHIEF PROCUREMENT OFFICER   \n",
       "1419           BANNON,  BRIAN A        COMMISSIONER OF CHICAGO PUBLIC LIBRARY   \n",
       "30702       WIDAWSKY,  DANIEL J                              CITY COMPTROLLER   \n",
       "8276         FAIRLEY,  SHARON R                           CHIEF ADMINISTRATOR   \n",
       "8441        FERGUSON,  JOSEPH M                             INSPECTOR GENERAL   \n",
       "14317          KAIDEN,  MARLA M                  CHIEF ADMINISTRATIVE OFFICER   \n",
       "10947            GUERRA,  MARIA  COMMISSIONER OF BUS AFAIRS AND CONSUMER PROT   \n",
       "30822      WILLIAMS,  CHARLES L        COMMISSIONER OF STREETS AND SANITATION   \n",
       "9200          FRYDLAND,  JUDITH                     COMMISSIONER OF BUILDINGS   \n",
       "23792        REYNOLDS,  DAVID J   COMMISSIONER OF FLEET & FACILITY MANAGEMENT   \n",
       "13212      JACKOWIAK,  PATRICIA                DIR OF ADMINISTRATIVE HEARINGS   \n",
       "2464         BOONE,  MICHELLE T  COMMISSIONER OF CULTURAL AFFAIRS/SPEC EVENTS   \n",
       "1968          BERMAN,  BRENNA M                     CHIEF INFORMATION OFFICER   \n",
       "4684                 CHOI,  SOO               COMMISSIONER OF HUMAN RESOURCES   \n",
       "15606        LAFLEUR,  KRISTI L                         DEPUTY CITY TREASURER   \n",
       "28126          TAMLEY,  KAREN M         COMM MAYORS OFF PEOPLE W DISABILITIES   \n",
       "18779        MENDOZA,  SUSANA A                                    CITY CLERK   \n",
       "1967            BERLIN,  STEVEN               EXECUTIVE DIR - BOARD OF ETHICS   \n",
       "1633       BATEMAN,  KELLY ANNE           DEPUTY CHIEF ADMINISTRATIVE OFFICER   \n",
       "20649            NORIEGA,  MONA   CHAIRPERSON - COMMISSION ON HUMAN RELATIONS   \n",
       "31609          YAMAJI,  PETER S                                  VETERINARIAN   \n",
       "3899            CAPRONI,  MAX A                  EXECUTIVE DIR - POLICE BOARD   \n",
       "11115  GUZMAN FLORES,  MICHELLE                                    STAFF ASST   \n",
       "\n",
       "                  department    salary  dept_rank  \n",
       "8184                AVIATION  300000.0        1.0  \n",
       "7954          MAYOR'S OFFICE  216210.0        1.0  \n",
       "25532                   FIRE  202728.0        1.0  \n",
       "8042                  POLICE  197724.0        1.0  \n",
       "19672                 HEALTH  177000.0        1.0  \n",
       "23631  COMMUNITY DEVELOPMENT  175020.0        1.0  \n",
       "19721       FAMILY & SUPPORT  175002.0        1.0  \n",
       "21933                    LAW  173664.0        1.0  \n",
       "12571          BUDGET & MGMT  169992.0        1.0  \n",
       "22847            WATER MGMNT  169512.0        1.0  \n",
       "25724             TRANSPORTN  169500.0        1.0  \n",
       "25731                   OEMC  167796.0        1.0  \n",
       "23819            PROCUREMENT  167220.0        1.0  \n",
       "1419          PUBLIC LIBRARY  167004.0        1.0  \n",
       "30702                FINANCE  165000.0        1.0  \n",
       "8276                    IPRA  161856.0        1.0  \n",
       "8441           INSPECTOR GEN  161856.0        1.0  \n",
       "14317           CITY COUNCIL  160248.0        1.0  \n",
       "10947       BUSINESS AFFAIRS  157092.0        1.0  \n",
       "30822          STREETS & SAN  157092.0        1.0  \n",
       "9200               BUILDINGS  157092.0        1.0  \n",
       "23792       GENERAL SERVICES  157092.0        1.0  \n",
       "13212           ADMIN HEARNG  156420.0        1.0  \n",
       "2464        CULTURAL AFFAIRS  155040.0        1.0  \n",
       "1968                    DoIT  154992.0        1.0  \n",
       "4684         HUMAN RESOURCES  151572.0        1.0  \n",
       "15606              TREASURER  150000.0        1.0  \n",
       "28126           DISABILITIES  138420.0        1.0  \n",
       "18779             CITY CLERK  133545.0        1.0  \n",
       "1967         BOARD OF ETHICS  131688.0        1.0  \n",
       "1633       BOARD OF ELECTION  129840.0        1.0  \n",
       "20649        HUMAN RELATIONS  125004.0        1.0  \n",
       "31609          ANIMAL CONTRL  123144.0        1.0  \n",
       "3899            POLICE BOARD   97728.0        1.0  \n",
       "11115      LICENSE APPL COMM   71292.0        1.0  "
      ]
     },
     "execution_count": 218,
     "metadata": {},
     "output_type": "execute_result"
    }
   ],
   "source": [
    "chicago[chicago.dept_rank==1]"
   ]
  },
  {
   "cell_type": "code",
   "execution_count": null,
   "metadata": {
    "collapsed": true,
    "nbpresent": {
     "id": "0be57fa2-3c0f-4ae1-83d0-817eadd3e2e9"
    }
   },
   "outputs": [],
   "source": []
  }
 ],
 "metadata": {
  "anaconda-cloud": {},
  "celltoolbar": "Slideshow",
  "kernelspec": {
   "display_name": "Python [Root]",
   "language": "python",
   "name": "Python [Root]"
  },
  "language_info": {
   "codemirror_mode": {
    "name": "ipython",
    "version": 3
   },
   "file_extension": ".py",
   "mimetype": "text/x-python",
   "name": "python",
   "nbconvert_exporter": "python",
   "pygments_lexer": "ipython3",
   "version": "3.5.1"
  },
  "nbpresent": {
   "slides": {
    "0166515c-fa9d-4f9b-b78f-8c74cb62100c": {
     "id": "0166515c-fa9d-4f9b-b78f-8c74cb62100c",
     "prev": "e3531767-06dc-44ee-9369-771444afa9b5",
     "regions": {
      "065bb6b9-0208-4b0f-800d-8f08e6bd2387": {
       "attrs": {
        "height": 0.8,
        "width": 0.8,
        "x": 0.1,
        "y": 0.1
       },
       "content": {
        "cell": "49154386-e8ce-479d-9d01-011d4db9b844",
        "part": "whole"
       },
       "id": "065bb6b9-0208-4b0f-800d-8f08e6bd2387"
      }
     }
    },
    "02c06b31-b004-4771-a38d-0205346b33ac": {
     "id": "02c06b31-b004-4771-a38d-0205346b33ac",
     "prev": "78a5738c-4ad9-4851-a770-fff83b288aff",
     "regions": {
      "69684d5d-cb08-4bc1-9e67-9b8f2b938e90": {
       "attrs": {
        "height": 0.8,
        "width": 0.8,
        "x": 0.1,
        "y": 0.1
       },
       "content": {
        "cell": "a07fe215-c1d2-4eaa-94f1-5caa0ebe9316",
        "part": "whole"
       },
       "id": "69684d5d-cb08-4bc1-9e67-9b8f2b938e90"
      }
     }
    },
    "07465b55-0de9-4289-b1b5-0873a58dbecc": {
     "id": "07465b55-0de9-4289-b1b5-0873a58dbecc",
     "prev": "c4df6892-20b8-4ba3-b4cb-40b00e4a93bd",
     "regions": {
      "99b7f672-a429-49f3-abf3-3c13c5f954d1": {
       "attrs": {
        "height": 0.8,
        "width": 0.8,
        "x": 0.1,
        "y": 0.1
       },
       "content": {
        "cell": "0c5029cf-723d-44ef-bf71-ebebb4e74014",
        "part": "whole"
       },
       "id": "99b7f672-a429-49f3-abf3-3c13c5f954d1"
      }
     }
    },
    "07958a4c-4845-4cba-999b-2861ab322158": {
     "id": "07958a4c-4845-4cba-999b-2861ab322158",
     "prev": "a360959b-03e0-4907-92d9-5bf5a82e9804",
     "regions": {
      "83ca790a-e568-4cda-bcd3-5d34f61f2c92": {
       "attrs": {
        "height": 0.8,
        "width": 0.8,
        "x": 0.1,
        "y": 0.1
       },
       "content": {
        "cell": "6cbf1ed8-53a8-414d-badc-d38d81c82901",
        "part": "whole"
       },
       "id": "83ca790a-e568-4cda-bcd3-5d34f61f2c92"
      }
     }
    },
    "0a9af77e-4d30-4884-8169-d3943d45bc47": {
     "id": "0a9af77e-4d30-4884-8169-d3943d45bc47",
     "prev": "90272192-50b3-42ef-8e04-01299949cbfc",
     "regions": {
      "2ad33d8d-ff71-4f8f-b86a-c3b17b17dd21": {
       "attrs": {
        "height": 0.8,
        "width": 0.8,
        "x": 0.1,
        "y": 0.1
       },
       "content": {
        "cell": "6af148f9-529f-4ef7-88f1-6aeec093999c",
        "part": "whole"
       },
       "id": "2ad33d8d-ff71-4f8f-b86a-c3b17b17dd21"
      }
     }
    },
    "110a2595-c144-4589-92d2-9ed87f5f59cc": {
     "id": "110a2595-c144-4589-92d2-9ed87f5f59cc",
     "prev": "d0dfb9af-de70-4800-86e4-9e03c826632b",
     "regions": {
      "d509fee2-5862-443d-8e2f-a8a767fa2be0": {
       "attrs": {
        "height": 0.8,
        "width": 0.8,
        "x": 0.1,
        "y": 0.1
       },
       "content": {
        "cell": "687073cc-a49f-406a-b9a7-3f80d750c3ed",
        "part": "whole"
       },
       "id": "d509fee2-5862-443d-8e2f-a8a767fa2be0"
      }
     }
    },
    "122cb06a-b9c3-4018-840b-2309f8c5453a": {
     "id": "122cb06a-b9c3-4018-840b-2309f8c5453a",
     "prev": "f69301c4-dc6d-4219-8d41-3ee6fd3d40a1",
     "regions": {
      "82b261f6-152c-4daa-978e-ca2ff18ae1d4": {
       "attrs": {
        "height": 0.8,
        "width": 0.8,
        "x": 0.1,
        "y": 0.1
       },
       "content": {
        "cell": "b4456297-131f-462e-98a7-8f050fb409ec",
        "part": "whole"
       },
       "id": "82b261f6-152c-4daa-978e-ca2ff18ae1d4"
      }
     }
    },
    "17ac3825-8187-45ec-afc0-733137e8a870": {
     "id": "17ac3825-8187-45ec-afc0-733137e8a870",
     "prev": "c58353d4-cf60-4d5a-8782-33e1a1b27034",
     "regions": {
      "fdbdaced-8c3d-4dfe-a0ab-bb87ba4a6041": {
       "attrs": {
        "height": 0.8,
        "width": 0.8,
        "x": 0.1,
        "y": 0.1
       },
       "content": {
        "cell": "d7feabd3-ba72-42a0-bd15-31519a1355de",
        "part": "whole"
       },
       "id": "fdbdaced-8c3d-4dfe-a0ab-bb87ba4a6041"
      }
     }
    },
    "1a9bb8f2-1b5d-4be3-9994-6c17953364a0": {
     "id": "1a9bb8f2-1b5d-4be3-9994-6c17953364a0",
     "prev": "389f8191-0148-49a0-9bee-aaaf1f623bf7",
     "regions": {
      "ad8f1973-b43a-4e95-9be1-f21f07d7cefb": {
       "attrs": {
        "height": 0.8,
        "width": 0.8,
        "x": 0.1,
        "y": 0.1
       },
       "content": {
        "cell": "ebfaff2c-fbe3-4244-a4b7-e5102a24cecd",
        "part": "whole"
       },
       "id": "ad8f1973-b43a-4e95-9be1-f21f07d7cefb"
      }
     }
    },
    "1ac9b714-e348-409c-b534-93e8537bd192": {
     "id": "1ac9b714-e348-409c-b534-93e8537bd192",
     "prev": "629cbdfc-2605-451f-9bbc-eb35f1fd01a5",
     "regions": {
      "bb92c0eb-3fef-49e8-bbb8-81094e8a7997": {
       "attrs": {
        "height": 0.8,
        "width": 0.8,
        "x": 0.1,
        "y": 0.1
       },
       "content": {
        "cell": "a0b91d84-edaf-4f7c-83b0-deeb842854b5",
        "part": "whole"
       },
       "id": "bb92c0eb-3fef-49e8-bbb8-81094e8a7997"
      }
     }
    },
    "1bdedfb0-a790-4487-a75c-a706157253a3": {
     "id": "1bdedfb0-a790-4487-a75c-a706157253a3",
     "prev": "52d90aee-2c83-4599-93f0-b01bc08c8e21",
     "regions": {
      "c75098e0-32a8-4bb5-9f05-0e679768a43d": {
       "attrs": {
        "height": 0.8,
        "width": 0.8,
        "x": 0.1,
        "y": 0.1
       },
       "content": {
        "cell": "6d1ebd2b-a16c-4c15-95de-0d99a509ef0f",
        "part": "whole"
       },
       "id": "c75098e0-32a8-4bb5-9f05-0e679768a43d"
      }
     }
    },
    "20e03eaa-1e99-4af9-8502-80b1486af49a": {
     "id": "20e03eaa-1e99-4af9-8502-80b1486af49a",
     "prev": "b7283fcd-3da8-4137-a92e-dcde7701abc1",
     "regions": {
      "8f17bb92-9955-446d-92de-09decc84afe7": {
       "attrs": {
        "height": 0.8,
        "width": 0.8,
        "x": 0.1,
        "y": 0.1
       },
       "content": {
        "cell": "fe572540-7bdb-43ce-8a15-700d74b9dfba",
        "part": "whole"
       },
       "id": "8f17bb92-9955-446d-92de-09decc84afe7"
      }
     }
    },
    "21aaf6c7-b224-4061-947b-a262f8923400": {
     "id": "21aaf6c7-b224-4061-947b-a262f8923400",
     "prev": "70c76f73-5f54-4c3a-8405-d6489d5bc90f",
     "regions": {
      "f742128c-6ce1-44ae-84ef-3994ebf3d3c7": {
       "attrs": {
        "height": 0.8,
        "width": 0.8,
        "x": 0.1,
        "y": 0.1
       },
       "content": {
        "cell": "b8cabc2f-8ce5-4925-94a3-ee207e7d100e",
        "part": "whole"
       },
       "id": "f742128c-6ce1-44ae-84ef-3994ebf3d3c7"
      }
     }
    },
    "2659fa99-442b-4310-9156-b697798997b9": {
     "id": "2659fa99-442b-4310-9156-b697798997b9",
     "prev": "89080ade-474e-4ecf-a1c0-804354e9ec2a",
     "regions": {
      "29ef001a-face-48ac-937b-8fd3d29d7bdd": {
       "attrs": {
        "height": 0.8,
        "width": 0.8,
        "x": 0.1,
        "y": 0.1
       },
       "content": {
        "cell": "ab8e5250-8c76-4afc-acd9-a92e17babb00",
        "part": "whole"
       },
       "id": "29ef001a-face-48ac-937b-8fd3d29d7bdd"
      }
     }
    },
    "2adc3dd3-bd93-4290-a85e-49acaad94772": {
     "id": "2adc3dd3-bd93-4290-a85e-49acaad94772",
     "prev": "fc2c6b40-6a9e-45e8-bf1f-b2441dfb98cb",
     "regions": {
      "0dca8963-b8dd-4e3c-bc03-2c00093bb367": {
       "attrs": {
        "height": 0.8,
        "width": 0.8,
        "x": 0.1,
        "y": 0.1
       },
       "content": {
        "cell": "84fc4824-5d8a-48cd-8679-c8271c84b4d1",
        "part": "whole"
       },
       "id": "0dca8963-b8dd-4e3c-bc03-2c00093bb367"
      }
     }
    },
    "2cf77272-03b4-4838-8b74-5463cdea207e": {
     "id": "2cf77272-03b4-4838-8b74-5463cdea207e",
     "prev": "1ac9b714-e348-409c-b534-93e8537bd192",
     "regions": {
      "7b467dff-5d5d-4064-8298-7ab74caf0a66": {
       "attrs": {
        "height": 0.8,
        "width": 0.8,
        "x": 0.1,
        "y": 0.1
       },
       "content": {
        "cell": "a951401b-329b-4ec5-8537-0027efcaec7d",
        "part": "whole"
       },
       "id": "7b467dff-5d5d-4064-8298-7ab74caf0a66"
      }
     }
    },
    "2fe09000-8108-4a57-af18-41fdfbde567d": {
     "id": "2fe09000-8108-4a57-af18-41fdfbde567d",
     "prev": "77779752-ef90-4290-ae29-476b109eeb31",
     "regions": {
      "5ff4c5dd-48d5-42ba-9b2b-122e90a9d48c": {
       "attrs": {
        "height": 0.8,
        "width": 0.8,
        "x": 0.1,
        "y": 0.1
       },
       "content": {
        "cell": "98984eda-154b-4836-a91d-38f1ec082adb",
        "part": "whole"
       },
       "id": "5ff4c5dd-48d5-42ba-9b2b-122e90a9d48c"
      }
     }
    },
    "3063a1c5-5e33-4969-b3ff-51450a82ea8c": {
     "id": "3063a1c5-5e33-4969-b3ff-51450a82ea8c",
     "prev": "bc13fd26-e123-479a-95bf-0ce969e627c1",
     "regions": {
      "1cdd3c03-b63e-4e1e-8cf1-0ed890b3ef16": {
       "attrs": {
        "height": 0.8,
        "width": 0.8,
        "x": 0.1,
        "y": 0.1
       },
       "content": {
        "cell": "1784a896-eed9-4275-95ff-26a12369c4e1",
        "part": "whole"
       },
       "id": "1cdd3c03-b63e-4e1e-8cf1-0ed890b3ef16"
      }
     }
    },
    "3346e71a-0b30-46be-a3dc-4b28db4037eb": {
     "id": "3346e71a-0b30-46be-a3dc-4b28db4037eb",
     "prev": "676a4bd7-c777-4371-93da-cbf7464a8291",
     "regions": {
      "027f1e29-3972-4366-9c78-74511e72be59": {
       "attrs": {
        "height": 0.8,
        "width": 0.8,
        "x": 0.1,
        "y": 0.1
       },
       "content": {
        "cell": "9bfcf473-ce98-469c-af6b-de5fb2e89571",
        "part": "whole"
       },
       "id": "027f1e29-3972-4366-9c78-74511e72be59"
      }
     }
    },
    "3514e721-4cd2-460f-94b8-5811948ae443": {
     "id": "3514e721-4cd2-460f-94b8-5811948ae443",
     "prev": "20e03eaa-1e99-4af9-8502-80b1486af49a",
     "regions": {
      "43446a5e-ad6f-4846-a90d-5bff48465dd2": {
       "attrs": {
        "height": 0.8,
        "width": 0.8,
        "x": 0.1,
        "y": 0.1
       },
       "content": {
        "cell": "085cbbf3-1423-47f5-b351-7ccd9628a693",
        "part": "whole"
       },
       "id": "43446a5e-ad6f-4846-a90d-5bff48465dd2"
      }
     }
    },
    "370cf2da-5373-4c6e-a20b-3f7a6b456264": {
     "id": "370cf2da-5373-4c6e-a20b-3f7a6b456264",
     "prev": "f7467d24-fad8-44dd-89c4-3124b0e6b24b",
     "regions": {
      "ccbd96a0-56b9-499e-a7b8-75236495f8f4": {
       "attrs": {
        "height": 0.8,
        "width": 0.8,
        "x": 0.1,
        "y": 0.1
       },
       "content": {
        "cell": "08159119-412d-4b8f-9211-f361827406a8",
        "part": "whole"
       },
       "id": "ccbd96a0-56b9-499e-a7b8-75236495f8f4"
      }
     }
    },
    "3773a38f-4374-4ebe-859c-f8b6367eac27": {
     "id": "3773a38f-4374-4ebe-859c-f8b6367eac27",
     "prev": "c49b3263-f631-4330-ba6d-ce367d05cbc0",
     "regions": {
      "285c91af-1482-4625-9ee1-d399e5156cfd": {
       "attrs": {
        "height": 0.8,
        "width": 0.8,
        "x": 0.1,
        "y": 0.1
       },
       "content": {
        "cell": "79b8140f-d274-4771-96f3-ea5cfb0271ff",
        "part": "whole"
       },
       "id": "285c91af-1482-4625-9ee1-d399e5156cfd"
      }
     }
    },
    "3806fd28-48de-4506-bd83-ab2da119f3a5": {
     "id": "3806fd28-48de-4506-bd83-ab2da119f3a5",
     "prev": "122cb06a-b9c3-4018-840b-2309f8c5453a",
     "regions": {
      "b61adeb2-7d34-4725-9d44-23c9b0124c24": {
       "attrs": {
        "height": 0.8,
        "width": 0.8,
        "x": 0.1,
        "y": 0.1
       },
       "content": {
        "cell": "5b0204eb-8a98-49ed-9d2c-e48ac5b0656a",
        "part": "whole"
       },
       "id": "b61adeb2-7d34-4725-9d44-23c9b0124c24"
      }
     }
    },
    "389f8191-0148-49a0-9bee-aaaf1f623bf7": {
     "id": "389f8191-0148-49a0-9bee-aaaf1f623bf7",
     "prev": "afac8eed-b385-4979-bc24-ad191635d5d1",
     "regions": {
      "e18dd942-dd79-42a5-8a75-a552d37959fb": {
       "attrs": {
        "height": 0.8,
        "width": 0.8,
        "x": 0.1,
        "y": 0.1
       },
       "content": {
        "cell": "59caa0c8-0bb1-421e-b6cc-b71fb94d5c50",
        "part": "whole"
       },
       "id": "e18dd942-dd79-42a5-8a75-a552d37959fb"
      }
     }
    },
    "39e23bec-f51b-42c3-ad28-cc8475c2a9ec": {
     "id": "39e23bec-f51b-42c3-ad28-cc8475c2a9ec",
     "prev": "9665890f-4c5c-422b-b130-164494a8436c",
     "regions": {
      "73517a13-135b-4e38-a54e-f81fdcbd8962": {
       "attrs": {
        "height": 0.8,
        "width": 0.8,
        "x": 0.1,
        "y": 0.1
       },
       "content": {
        "cell": "2a2e2e09-c551-4282-acb3-395b7577395d",
        "part": "whole"
       },
       "id": "73517a13-135b-4e38-a54e-f81fdcbd8962"
      }
     }
    },
    "42b5fbed-1c79-47f8-b4d8-c47113a00a65": {
     "id": "42b5fbed-1c79-47f8-b4d8-c47113a00a65",
     "prev": "3514e721-4cd2-460f-94b8-5811948ae443",
     "regions": {
      "17502343-d991-4b4b-8605-b00e76f42f69": {
       "attrs": {
        "height": 0.8,
        "width": 0.8,
        "x": 0.1,
        "y": 0.1
       },
       "content": {
        "cell": "33341745-76f7-4fbf-95d8-f8c121669e4c",
        "part": "whole"
       },
       "id": "17502343-d991-4b4b-8605-b00e76f42f69"
      }
     }
    },
    "42b86a05-10d9-48ca-bc0b-0ed8097386cb": {
     "id": "42b86a05-10d9-48ca-bc0b-0ed8097386cb",
     "prev": "8875259a-9351-4474-972e-e9d01f82f7c6",
     "regions": {
      "35a7c8fa-7839-4afd-a213-5404d2e31f12": {
       "attrs": {
        "height": 0.8,
        "width": 0.8,
        "x": 0.1,
        "y": 0.1
       },
       "content": {
        "cell": "b7042f5d-f2f7-41f9-86a2-73ad499280bd",
        "part": "whole"
       },
       "id": "35a7c8fa-7839-4afd-a213-5404d2e31f12"
      }
     }
    },
    "45177b68-0157-44e9-9560-5710d4b116e0": {
     "id": "45177b68-0157-44e9-9560-5710d4b116e0",
     "prev": "39e23bec-f51b-42c3-ad28-cc8475c2a9ec",
     "regions": {
      "f6ecbcf2-2500-472f-8736-45cd2a76891c": {
       "attrs": {
        "height": 0.8,
        "width": 0.8,
        "x": 0.1,
        "y": 0.1
       },
       "content": {
        "cell": "bf7a57bc-2058-4a22-ba57-5a643c46929c",
        "part": "whole"
       },
       "id": "f6ecbcf2-2500-472f-8736-45cd2a76891c"
      }
     }
    },
    "4a5e34c0-da35-4d08-b2e9-6380aa5a7929": {
     "id": "4a5e34c0-da35-4d08-b2e9-6380aa5a7929",
     "prev": "ba26a880-3ea1-47f8-9f74-0407b70dc711",
     "regions": {
      "92284807-cef9-4ee7-8fdc-bb3c65b83c6f": {
       "attrs": {
        "height": 0.8,
        "width": 0.8,
        "x": 0.1,
        "y": 0.1
       },
       "content": {
        "cell": "89cdabd6-9067-4459-abaa-d10099a14c3e",
        "part": "whole"
       },
       "id": "92284807-cef9-4ee7-8fdc-bb3c65b83c6f"
      }
     }
    },
    "51cd8de5-0922-4cf9-be78-7aaed6999cfd": {
     "id": "51cd8de5-0922-4cf9-be78-7aaed6999cfd",
     "prev": "e5e89bd6-2aa6-4a3b-bf7d-1c143c802c2b",
     "regions": {
      "c9af24c5-5267-4927-9957-15f98e25ad30": {
       "attrs": {
        "height": 0.8,
        "width": 0.8,
        "x": 0.1,
        "y": 0.1
       },
       "content": {
        "cell": "817ad77f-3693-4259-a8f3-b31f734dd271",
        "part": "whole"
       },
       "id": "c9af24c5-5267-4927-9957-15f98e25ad30"
      }
     }
    },
    "52d90aee-2c83-4599-93f0-b01bc08c8e21": {
     "id": "52d90aee-2c83-4599-93f0-b01bc08c8e21",
     "prev": "e2411f88-b7a4-431d-8006-c68d96fbd1e7",
     "regions": {
      "7dec3b0a-f7e0-48fc-805a-46b70fc861b0": {
       "attrs": {
        "height": 0.8,
        "width": 0.8,
        "x": 0.1,
        "y": 0.1
       },
       "content": {
        "cell": "c3cd36bd-cf07-4066-af3d-aabb9ce3f5b9",
        "part": "whole"
       },
       "id": "7dec3b0a-f7e0-48fc-805a-46b70fc861b0"
      }
     }
    },
    "5d45fbdb-fe88-400c-b3e8-134f893c9749": {
     "id": "5d45fbdb-fe88-400c-b3e8-134f893c9749",
     "prev": "3806fd28-48de-4506-bd83-ab2da119f3a5",
     "regions": {
      "1e747849-c43e-4540-a04d-a3a28e411f99": {
       "attrs": {
        "height": 0.8,
        "width": 0.8,
        "x": 0.1,
        "y": 0.1
       },
       "content": {
        "cell": "14b872b1-98a6-4d2f-9879-f32798723770",
        "part": "whole"
       },
       "id": "1e747849-c43e-4540-a04d-a3a28e411f99"
      }
     }
    },
    "5eda3a79-abea-4d13-ae4c-3369da772b23": {
     "id": "5eda3a79-abea-4d13-ae4c-3369da772b23",
     "prev": "a375a92e-8d91-4d89-94cb-7240377907d5",
     "regions": {
      "36a86724-ed89-4abb-996e-47afcaeeabed": {
       "attrs": {
        "height": 0.8,
        "width": 0.8,
        "x": 0.1,
        "y": 0.1
       },
       "content": {
        "cell": "5b558444-83b7-49ae-a7d4-51a5ec6b8689",
        "part": "whole"
       },
       "id": "36a86724-ed89-4abb-996e-47afcaeeabed"
      }
     }
    },
    "629cbdfc-2605-451f-9bbc-eb35f1fd01a5": {
     "id": "629cbdfc-2605-451f-9bbc-eb35f1fd01a5",
     "prev": "f69f4f86-3f19-43e4-a2df-2479a216aecd",
     "regions": {
      "e1d94a11-d7c6-4a6c-9c0f-9317948fef6d": {
       "attrs": {
        "height": 0.8,
        "width": 0.8,
        "x": 0.1,
        "y": 0.1
       },
       "content": {
        "cell": "57909001-fb14-4b89-b5cb-2d18b136468c",
        "part": "whole"
       },
       "id": "e1d94a11-d7c6-4a6c-9c0f-9317948fef6d"
      }
     }
    },
    "62c385be-0b7c-451b-9fbc-b1f62d712301": {
     "id": "62c385be-0b7c-451b-9fbc-b1f62d712301",
     "prev": "71e21dee-4b92-4c60-853f-8f642a5d86cd",
     "regions": {
      "983da82f-b484-46ca-95c9-463e8d260a15": {
       "attrs": {
        "height": 0.8,
        "width": 0.8,
        "x": 0.1,
        "y": 0.1
       },
       "content": {
        "cell": "b017e271-662a-48f9-b409-7b47a87df43c",
        "part": "whole"
       },
       "id": "983da82f-b484-46ca-95c9-463e8d260a15"
      }
     }
    },
    "66ef9b68-6c92-4ca9-bce0-0473b554d2a0": {
     "id": "66ef9b68-6c92-4ca9-bce0-0473b554d2a0",
     "prev": "ef17dc31-feb5-4c33-8217-48ece1036573",
     "regions": {
      "d5ebe0d0-619d-4889-91aa-bc79de57bbfe": {
       "attrs": {
        "height": 0.8,
        "width": 0.8,
        "x": 0.1,
        "y": 0.1
       },
       "content": {
        "cell": "eca4f7e7-751b-42f9-b5b6-44f5c2e8de47",
        "part": "whole"
       },
       "id": "d5ebe0d0-619d-4889-91aa-bc79de57bbfe"
      }
     }
    },
    "676a4bd7-c777-4371-93da-cbf7464a8291": {
     "id": "676a4bd7-c777-4371-93da-cbf7464a8291",
     "prev": "110a2595-c144-4589-92d2-9ed87f5f59cc",
     "regions": {
      "3e684ec2-9688-4517-8f39-4eb019a74642": {
       "attrs": {
        "height": 0.8,
        "width": 0.8,
        "x": 0.1,
        "y": 0.1
       },
       "content": {
        "cell": "32779033-5422-4aef-912b-7b0aee2c50d2",
        "part": "whole"
       },
       "id": "3e684ec2-9688-4517-8f39-4eb019a74642"
      }
     }
    },
    "70c76f73-5f54-4c3a-8405-d6489d5bc90f": {
     "id": "70c76f73-5f54-4c3a-8405-d6489d5bc90f",
     "prev": "e1b578df-58a8-407d-9551-0ba6bf257c5b",
     "regions": {
      "1645a69c-580d-445c-a6f5-3d5a0f3a0a37": {
       "attrs": {
        "height": 0.8,
        "width": 0.8,
        "x": 0.1,
        "y": 0.1
       },
       "content": {
        "cell": "037cdba1-d847-42f0-91f7-ac66c0e4c543",
        "part": "whole"
       },
       "id": "1645a69c-580d-445c-a6f5-3d5a0f3a0a37"
      }
     }
    },
    "71e21dee-4b92-4c60-853f-8f642a5d86cd": {
     "id": "71e21dee-4b92-4c60-853f-8f642a5d86cd",
     "prev": "1bdedfb0-a790-4487-a75c-a706157253a3",
     "regions": {
      "f86a466c-bfc4-44dd-9625-12264e25b921": {
       "attrs": {
        "height": 0.8,
        "width": 0.8,
        "x": 0.1,
        "y": 0.1
       },
       "content": {
        "cell": "92a70aa9-91b6-44d1-a097-4f97cfa786b4",
        "part": "whole"
       },
       "id": "f86a466c-bfc4-44dd-9625-12264e25b921"
      }
     }
    },
    "74eacdf7-fc84-472c-95ed-fe5c5d4a373b": {
     "id": "74eacdf7-fc84-472c-95ed-fe5c5d4a373b",
     "prev": "c9d3bce8-9f8f-42bc-939e-da8270fba288",
     "regions": {
      "8aad99f4-fd30-4d97-aae0-75e82731e50c": {
       "attrs": {
        "height": 0.8,
        "width": 0.8,
        "x": 0.1,
        "y": 0.1
       },
       "content": {
        "cell": "07025d62-b546-49d3-8778-eabff4b324c1",
        "part": "whole"
       },
       "id": "8aad99f4-fd30-4d97-aae0-75e82731e50c"
      }
     }
    },
    "77779752-ef90-4290-ae29-476b109eeb31": {
     "id": "77779752-ef90-4290-ae29-476b109eeb31",
     "prev": "02c06b31-b004-4771-a38d-0205346b33ac",
     "regions": {
      "e718351d-901c-4b47-953b-f9b24618b267": {
       "attrs": {
        "height": 0.8,
        "width": 0.8,
        "x": 0.1,
        "y": 0.1
       },
       "content": {
        "cell": "02a35cb5-3635-4c75-9252-6ed242f72961",
        "part": "whole"
       },
       "id": "e718351d-901c-4b47-953b-f9b24618b267"
      }
     }
    },
    "78a5738c-4ad9-4851-a770-fff83b288aff": {
     "id": "78a5738c-4ad9-4851-a770-fff83b288aff",
     "prev": "2cf77272-03b4-4838-8b74-5463cdea207e",
     "regions": {
      "f6db10e6-72e5-49be-98be-fb7b8fc1e506": {
       "attrs": {
        "height": 0.8,
        "width": 0.8,
        "x": 0.1,
        "y": 0.1
       },
       "content": {
        "cell": "cbdb1d43-b09a-4393-bbf0-dcc2c3cf0b39",
        "part": "whole"
       },
       "id": "f6db10e6-72e5-49be-98be-fb7b8fc1e506"
      }
     }
    },
    "7b0e2502-1581-495a-a010-f03cc9127ce3": {
     "id": "7b0e2502-1581-495a-a010-f03cc9127ce3",
     "prev": "45177b68-0157-44e9-9560-5710d4b116e0",
     "regions": {
      "cfe21835-7ceb-4176-a38b-fa3d5ec19f1e": {
       "attrs": {
        "height": 0.8,
        "width": 0.8,
        "x": 0.1,
        "y": 0.1
       },
       "content": {
        "cell": "d660e794-f74d-4fe6-9934-4815ca0b5b78",
        "part": "whole"
       },
       "id": "cfe21835-7ceb-4176-a38b-fa3d5ec19f1e"
      }
     }
    },
    "7f0f3896-bf62-4e2b-a431-0f5ca6c20271": {
     "id": "7f0f3896-bf62-4e2b-a431-0f5ca6c20271",
     "prev": "e7b34b5c-b700-44c9-8527-5967a0793f8b",
     "regions": {
      "afbe3f31-e9a6-498a-b151-50f92ae41e4b": {
       "attrs": {
        "height": 0.8,
        "width": 0.8,
        "x": 0.1,
        "y": 0.1
       },
       "content": {
        "cell": "6a88182b-9d83-4d2e-9875-99e12aaba17f",
        "part": "whole"
       },
       "id": "afbe3f31-e9a6-498a-b151-50f92ae41e4b"
      }
     }
    },
    "829bd494-357c-4d8f-950d-f255548dc0dd": {
     "id": "829bd494-357c-4d8f-950d-f255548dc0dd",
     "prev": "d6545f45-f4d7-4db6-8232-d4f4e8a47511",
     "regions": {
      "d4b8b017-9f0a-4f2f-b1ef-f13f3c9b3510": {
       "attrs": {
        "height": 0.8,
        "width": 0.8,
        "x": 0.1,
        "y": 0.1
       },
       "content": {
        "cell": "77d55f5a-6b32-42fa-b01e-5d5cab305200",
        "part": "whole"
       },
       "id": "d4b8b017-9f0a-4f2f-b1ef-f13f3c9b3510"
      }
     }
    },
    "87c95556-f527-46d7-b4e0-448a835c7d2e": {
     "id": "87c95556-f527-46d7-b4e0-448a835c7d2e",
     "prev": "4a5e34c0-da35-4d08-b2e9-6380aa5a7929",
     "regions": {
      "e079665e-b0bd-4068-b3d2-abe062d214ef": {
       "attrs": {
        "height": 0.8,
        "width": 0.8,
        "x": 0.1,
        "y": 0.1
       },
       "content": {
        "cell": "a316df53-8277-4135-9865-e85b2f458c84",
        "part": "whole"
       },
       "id": "e079665e-b0bd-4068-b3d2-abe062d214ef"
      }
     }
    },
    "8875259a-9351-4474-972e-e9d01f82f7c6": {
     "id": "8875259a-9351-4474-972e-e9d01f82f7c6",
     "prev": "829bd494-357c-4d8f-950d-f255548dc0dd",
     "regions": {
      "c463f072-ff68-4146-88fc-7cf0a49535be": {
       "attrs": {
        "height": 0.8,
        "width": 0.8,
        "x": 0.1,
        "y": 0.1
       },
       "content": {
        "cell": "df522cac-41f1-4532-865e-78fc2a7c8c72",
        "part": "whole"
       },
       "id": "c463f072-ff68-4146-88fc-7cf0a49535be"
      }
     }
    },
    "8891017f-695c-475a-8c37-02ab4c2cda1c": {
     "id": "8891017f-695c-475a-8c37-02ab4c2cda1c",
     "prev": "2fe09000-8108-4a57-af18-41fdfbde567d",
     "regions": {
      "d20a5bf6-09d9-4f3a-8bfc-dbc78b1351fd": {
       "attrs": {
        "height": 0.8,
        "width": 0.8,
        "x": 0.1,
        "y": 0.1
       },
       "content": {
        "cell": "4e40dd2d-7d0f-47f3-9e3e-daae8dae3c3a",
        "part": "whole"
       },
       "id": "d20a5bf6-09d9-4f3a-8bfc-dbc78b1351fd"
      }
     }
    },
    "89080ade-474e-4ecf-a1c0-804354e9ec2a": {
     "id": "89080ade-474e-4ecf-a1c0-804354e9ec2a",
     "prev": "74eacdf7-fc84-472c-95ed-fe5c5d4a373b",
     "regions": {
      "a76cb6c1-7f84-4574-82af-84d6513227de": {
       "attrs": {
        "height": 0.8,
        "width": 0.8,
        "x": 0.1,
        "y": 0.1
       },
       "content": {
        "cell": "0bc3b149-beeb-4b7b-8782-2e759863f429",
        "part": "whole"
       },
       "id": "a76cb6c1-7f84-4574-82af-84d6513227de"
      }
     }
    },
    "8cb9ba8b-f650-4203-8e4e-fe77088cefc8": {
     "id": "8cb9ba8b-f650-4203-8e4e-fe77088cefc8",
     "prev": "5eda3a79-abea-4d13-ae4c-3369da772b23",
     "regions": {
      "010a930e-d47c-493c-bf7f-c9725f05ed2b": {
       "attrs": {
        "height": 0.8,
        "width": 0.8,
        "x": 0.1,
        "y": 0.1
       },
       "content": {
        "cell": "9bfd5120-1dd5-43f3-98ee-8ccf9241117e",
        "part": "whole"
       },
       "id": "010a930e-d47c-493c-bf7f-c9725f05ed2b"
      }
     }
    },
    "90272192-50b3-42ef-8e04-01299949cbfc": {
     "id": "90272192-50b3-42ef-8e04-01299949cbfc",
     "prev": "9d4badf7-893c-4071-a8dd-7259a3d728a5",
     "regions": {
      "7028f143-7777-4789-9f12-e997bc7e792c": {
       "attrs": {
        "height": 0.8,
        "width": 0.8,
        "x": 0.1,
        "y": 0.1
       },
       "content": {
        "cell": "28c98301-235d-455a-b3f1-ca711dac7731",
        "part": "whole"
       },
       "id": "7028f143-7777-4789-9f12-e997bc7e792c"
      }
     }
    },
    "959de266-4312-480a-af74-b2b4cacf0d16": {
     "id": "959de266-4312-480a-af74-b2b4cacf0d16",
     "prev": "3773a38f-4374-4ebe-859c-f8b6367eac27",
     "regions": {
      "ff4667be-6015-465e-917a-c97eafc90a6c": {
       "attrs": {
        "height": 0.8,
        "width": 0.8,
        "x": 0.1,
        "y": 0.1
       },
       "content": {
        "cell": "24e6c3a9-5282-4eea-90ed-8d32618a1ba5",
        "part": "whole"
       },
       "id": "ff4667be-6015-465e-917a-c97eafc90a6c"
      }
     }
    },
    "9665890f-4c5c-422b-b130-164494a8436c": {
     "id": "9665890f-4c5c-422b-b130-164494a8436c",
     "prev": "ff2973fa-8952-4350-bad6-c738c374282f",
     "regions": {
      "e74e1988-9298-42af-8b18-dad3074b20c1": {
       "attrs": {
        "height": 0.8,
        "width": 0.8,
        "x": 0.1,
        "y": 0.1
       },
       "content": {
        "cell": "7f953447-f2c0-4ffb-aa55-9a417385a3bc",
        "part": "whole"
       },
       "id": "e74e1988-9298-42af-8b18-dad3074b20c1"
      }
     }
    },
    "975d8ac7-5043-4d38-9f85-7cf34b094c70": {
     "id": "975d8ac7-5043-4d38-9f85-7cf34b094c70",
     "prev": "0a9af77e-4d30-4884-8169-d3943d45bc47",
     "regions": {
      "35baa04b-f652-4b99-858e-0fed07cbbf00": {
       "attrs": {
        "height": 0.8,
        "width": 0.8,
        "x": 0.1,
        "y": 0.1
       },
       "content": {
        "cell": "c42b491d-efdb-4b3b-89bc-166fc20066ac",
        "part": "whole"
       },
       "id": "35baa04b-f652-4b99-858e-0fed07cbbf00"
      }
     }
    },
    "97b222d9-6bf8-4e4a-bc7f-a1fba12d4150": {
     "id": "97b222d9-6bf8-4e4a-bc7f-a1fba12d4150",
     "prev": "370cf2da-5373-4c6e-a20b-3f7a6b456264",
     "regions": {
      "5418bc90-5646-4732-bdd0-0c3a4f0a393a": {
       "attrs": {
        "height": 0.8,
        "width": 0.8,
        "x": 0.1,
        "y": 0.1
       },
       "content": {
        "cell": "d9d319c8-cca6-481c-a46d-deafa0bf9964",
        "part": "whole"
       },
       "id": "5418bc90-5646-4732-bdd0-0c3a4f0a393a"
      }
     }
    },
    "98735279-9dc3-4712-9f65-5d1792739692": {
     "id": "98735279-9dc3-4712-9f65-5d1792739692",
     "prev": "66ef9b68-6c92-4ca9-bce0-0473b554d2a0",
     "regions": {
      "091f4f72-44f3-4acc-bccc-d45dc03868b3": {
       "attrs": {
        "height": 0.8,
        "width": 0.8,
        "x": 0.1,
        "y": 0.1
       },
       "content": {
        "cell": "8956cf5b-a5c3-4581-8dc3-fcbc8c1bea7b",
        "part": "whole"
       },
       "id": "091f4f72-44f3-4acc-bccc-d45dc03868b3"
      }
     }
    },
    "9876e27e-fca8-4167-9d6d-1fd9baf9020a": {
     "id": "9876e27e-fca8-4167-9d6d-1fd9baf9020a",
     "prev": "9a45a390-a4ff-48b8-9695-3c522ae57a68",
     "regions": {
      "74b5ecb6-4cd4-4389-8dc8-3d05ca3de745": {
       "attrs": {
        "height": 0.8,
        "width": 0.8,
        "x": 0.1,
        "y": 0.1
       },
       "content": {
        "cell": "4f4bed14-4053-41a7-916b-823c3ffb606d",
        "part": "whole"
       },
       "id": "74b5ecb6-4cd4-4389-8dc8-3d05ca3de745"
      }
     }
    },
    "9a45a390-a4ff-48b8-9695-3c522ae57a68": {
     "id": "9a45a390-a4ff-48b8-9695-3c522ae57a68",
     "prev": "e9a30881-4295-4fad-902f-f82087a9a2fd",
     "regions": {
      "98e1063c-968c-4dc9-89fc-d461ac84b496": {
       "attrs": {
        "height": 0.8,
        "width": 0.8,
        "x": 0.1,
        "y": 0.1
       },
       "content": {
        "cell": "aa1056c6-4c58-463a-8499-4e408620e773",
        "part": "whole"
       },
       "id": "98e1063c-968c-4dc9-89fc-d461ac84b496"
      }
     }
    },
    "9a6d7b06-357a-4072-8162-b671c0dc3c2d": {
     "id": "9a6d7b06-357a-4072-8162-b671c0dc3c2d",
     "prev": "ecc2ec16-7dda-459e-b3c6-776e28d72265",
     "regions": {
      "9ccd2977-4460-47b8-ae29-d2c70fcbca97": {
       "attrs": {
        "height": 0.8,
        "width": 0.8,
        "x": 0.1,
        "y": 0.1
       },
       "content": {
        "cell": "0be57fa2-3c0f-4ae1-83d0-817eadd3e2e9",
        "part": "whole"
       },
       "id": "9ccd2977-4460-47b8-ae29-d2c70fcbca97"
      }
     }
    },
    "9cb89cfa-9a1b-4fd1-bd02-e74aab31a96b": {
     "id": "9cb89cfa-9a1b-4fd1-bd02-e74aab31a96b",
     "prev": "fd131f1b-dbb0-44cd-810a-afd9bcad76a5",
     "regions": {
      "455e39a9-474d-4b45-a14b-b5bb78a80180": {
       "attrs": {
        "height": 0.8,
        "width": 0.8,
        "x": 0.1,
        "y": 0.1
       },
       "content": {
        "cell": "5a246d97-8472-4b14-bd36-988805900f68",
        "part": "whole"
       },
       "id": "455e39a9-474d-4b45-a14b-b5bb78a80180"
      }
     }
    },
    "9d4badf7-893c-4071-a8dd-7259a3d728a5": {
     "id": "9d4badf7-893c-4071-a8dd-7259a3d728a5",
     "prev": "f45cf154-9993-4451-b010-8ad70acd3a27",
     "regions": {
      "8e54142a-2458-4212-a6ef-cbfad086bfca": {
       "attrs": {
        "height": 0.8,
        "width": 0.8,
        "x": 0.1,
        "y": 0.1
       },
       "content": {
        "cell": "c7ef8ce4-4849-491d-aefa-984a3915c2d4",
        "part": "whole"
       },
       "id": "8e54142a-2458-4212-a6ef-cbfad086bfca"
      }
     }
    },
    "9d8f61f4-85ed-4fac-9363-fb98bb8eccad": {
     "id": "9d8f61f4-85ed-4fac-9363-fb98bb8eccad",
     "prev": "07465b55-0de9-4289-b1b5-0873a58dbecc",
     "regions": {
      "65369393-150b-4aa2-975f-28a48bd5ef2f": {
       "attrs": {
        "height": 0.8,
        "width": 0.8,
        "x": 0.1,
        "y": 0.1
       },
       "content": {
        "cell": "87ff76a3-62a7-41b2-870c-0b698718bcbd",
        "part": "whole"
       },
       "id": "65369393-150b-4aa2-975f-28a48bd5ef2f"
      }
     }
    },
    "9ee9a2e9-ebb4-4a6e-a0c0-bb938e463089": {
     "id": "9ee9a2e9-ebb4-4a6e-a0c0-bb938e463089",
     "prev": "9cb89cfa-9a1b-4fd1-bd02-e74aab31a96b",
     "regions": {
      "575ef092-bd55-484c-952a-703528492142": {
       "attrs": {
        "height": 0.8,
        "width": 0.8,
        "x": 0.1,
        "y": 0.1
       },
       "content": {
        "cell": "b76daac0-ef50-4227-acf6-a4217f135e71",
        "part": "whole"
       },
       "id": "575ef092-bd55-484c-952a-703528492142"
      }
     }
    },
    "a360959b-03e0-4907-92d9-5bf5a82e9804": {
     "id": "a360959b-03e0-4907-92d9-5bf5a82e9804",
     "prev": "42b5fbed-1c79-47f8-b4d8-c47113a00a65",
     "regions": {
      "8f874ae9-47cc-4ac4-9229-cd1e91ec9be3": {
       "attrs": {
        "height": 0.8,
        "width": 0.8,
        "x": 0.1,
        "y": 0.1
       },
       "content": {
        "cell": "4ff8262c-be0d-44bc-b0f1-bcfa3d5d2fa9",
        "part": "whole"
       },
       "id": "8f874ae9-47cc-4ac4-9229-cd1e91ec9be3"
      }
     }
    },
    "a375a92e-8d91-4d89-94cb-7240377907d5": {
     "id": "a375a92e-8d91-4d89-94cb-7240377907d5",
     "prev": "97b222d9-6bf8-4e4a-bc7f-a1fba12d4150",
     "regions": {
      "04620f14-8dee-4201-9171-1378414089b7": {
       "attrs": {
        "height": 0.8,
        "width": 0.8,
        "x": 0.1,
        "y": 0.1
       },
       "content": {
        "cell": "a49ed054-087d-4ec8-8084-93ca808f2a80",
        "part": "whole"
       },
       "id": "04620f14-8dee-4201-9171-1378414089b7"
      }
     }
    },
    "af72dad1-e937-4487-937c-48392418af99": {
     "id": "af72dad1-e937-4487-937c-48392418af99",
     "prev": "b80e5dc9-bd51-46c2-8263-3fd0b7cc14b5",
     "regions": {
      "073d530a-b21f-4e77-98f1-ca650fd81a55": {
       "attrs": {
        "height": 0.8,
        "width": 0.8,
        "x": 0.1,
        "y": 0.1
       },
       "content": {
        "cell": "89c8561a-5ec4-4d17-b3a3-41c955bbe227",
        "part": "whole"
       },
       "id": "073d530a-b21f-4e77-98f1-ca650fd81a55"
      }
     }
    },
    "afac8eed-b385-4979-bc24-ad191635d5d1": {
     "id": "afac8eed-b385-4979-bc24-ad191635d5d1",
     "prev": "8cb9ba8b-f650-4203-8e4e-fe77088cefc8",
     "regions": {
      "6c634883-379a-48c8-ba6c-b22f6d0e976c": {
       "attrs": {
        "height": 0.8,
        "width": 0.8,
        "x": 0.1,
        "y": 0.1
       },
       "content": {
        "cell": "824fd977-4300-436c-a8fa-675e9c2d2322",
        "part": "whole"
       },
       "id": "6c634883-379a-48c8-ba6c-b22f6d0e976c"
      }
     }
    },
    "b690f003-789d-4e2b-b105-332f4fd275f0": {
     "id": "b690f003-789d-4e2b-b105-332f4fd275f0",
     "prev": "fb6f3d27-c78b-4163-a064-c0f0e69c8a2e",
     "regions": {
      "966091aa-aca2-487e-9ebf-b275ee0aae58": {
       "attrs": {
        "height": 0.8,
        "width": 0.8,
        "x": 0.1,
        "y": 0.1
       },
       "content": {
        "cell": "d04c5e6a-f726-4fa3-a5a9-77521c6ec1db",
        "part": "whole"
       },
       "id": "966091aa-aca2-487e-9ebf-b275ee0aae58"
      }
     }
    },
    "b7283fcd-3da8-4137-a92e-dcde7701abc1": {
     "id": "b7283fcd-3da8-4137-a92e-dcde7701abc1",
     "prev": "b690f003-789d-4e2b-b105-332f4fd275f0",
     "regions": {
      "40a6c06e-674b-471c-a518-9249b511829b": {
       "attrs": {
        "height": 0.8,
        "width": 0.8,
        "x": 0.1,
        "y": 0.1
       },
       "content": {
        "cell": "e37d5e76-829b-4fbe-968c-36c957731c6c",
        "part": "whole"
       },
       "id": "40a6c06e-674b-471c-a518-9249b511829b"
      }
     }
    },
    "b80e5dc9-bd51-46c2-8263-3fd0b7cc14b5": {
     "id": "b80e5dc9-bd51-46c2-8263-3fd0b7cc14b5",
     "prev": "3063a1c5-5e33-4969-b3ff-51450a82ea8c",
     "regions": {
      "d57f67e2-f020-47bd-b318-85e95d88444e": {
       "attrs": {
        "height": 0.8,
        "width": 0.8,
        "x": 0.1,
        "y": 0.1
       },
       "content": {
        "cell": "f96b087b-057b-49a3-a570-63932a72f694",
        "part": "whole"
       },
       "id": "d57f67e2-f020-47bd-b318-85e95d88444e"
      }
     }
    },
    "ba26a880-3ea1-47f8-9f74-0407b70dc711": {
     "id": "ba26a880-3ea1-47f8-9f74-0407b70dc711",
     "prev": "07958a4c-4845-4cba-999b-2861ab322158",
     "regions": {
      "148ff1eb-7aa3-461d-ac9f-e0ae36c7fbf7": {
       "attrs": {
        "height": 0.8,
        "width": 0.8,
        "x": 0.1,
        "y": 0.1
       },
       "content": {
        "cell": "bf0a3baa-3ba7-457e-88e6-9063fe3c5c73",
        "part": "whole"
       },
       "id": "148ff1eb-7aa3-461d-ac9f-e0ae36c7fbf7"
      }
     }
    },
    "bc13fd26-e123-479a-95bf-0ce969e627c1": {
     "id": "bc13fd26-e123-479a-95bf-0ce969e627c1",
     "prev": "7b0e2502-1581-495a-a010-f03cc9127ce3",
     "regions": {
      "91921a06-64b3-4802-855e-202462e2da5e": {
       "attrs": {
        "height": 0.8,
        "width": 0.8,
        "x": 0.1,
        "y": 0.1
       },
       "content": {
        "cell": "08c04032-aaaa-4904-889c-25f903899c92",
        "part": "whole"
       },
       "id": "91921a06-64b3-4802-855e-202462e2da5e"
      }
     }
    },
    "c47df6b1-e2a9-4c26-8f94-f3d92eb501a2": {
     "id": "c47df6b1-e2a9-4c26-8f94-f3d92eb501a2",
     "prev": "f6cf0ecc-57c1-4275-8832-8bd01a0c13aa",
     "regions": {
      "93669c80-564d-45af-b599-5866a8e45797": {
       "attrs": {
        "height": 0.8,
        "width": 0.8,
        "x": 0.1,
        "y": 0.1
       },
       "content": {
        "cell": "fa482822-e3a2-4b6e-81f0-289fbc70f8ee",
        "part": "whole"
       },
       "id": "93669c80-564d-45af-b599-5866a8e45797"
      }
     }
    },
    "c49b3263-f631-4330-ba6d-ce367d05cbc0": {
     "id": "c49b3263-f631-4330-ba6d-ce367d05cbc0",
     "prev": "2adc3dd3-bd93-4290-a85e-49acaad94772",
     "regions": {
      "c554702b-b9a7-49cd-b98f-3687babe5ce1": {
       "attrs": {
        "height": 0.8,
        "width": 0.8,
        "x": 0.1,
        "y": 0.1
       },
       "content": {
        "cell": "d01655bf-79b8-4626-8d6b-0dd6e97c9f72",
        "part": "whole"
       },
       "id": "c554702b-b9a7-49cd-b98f-3687babe5ce1"
      }
     }
    },
    "c4df6892-20b8-4ba3-b4cb-40b00e4a93bd": {
     "id": "c4df6892-20b8-4ba3-b4cb-40b00e4a93bd",
     "prev": "42b86a05-10d9-48ca-bc0b-0ed8097386cb",
     "regions": {
      "29b3a1e1-474e-4f70-bce0-2bb2f4c8cb2b": {
       "attrs": {
        "height": 0.8,
        "width": 0.8,
        "x": 0.1,
        "y": 0.1
       },
       "content": {
        "cell": "0d2bdaff-a9f4-4ec6-8473-b7ed5ea5e69b",
        "part": "whole"
       },
       "id": "29b3a1e1-474e-4f70-bce0-2bb2f4c8cb2b"
      }
     }
    },
    "c58353d4-cf60-4d5a-8782-33e1a1b27034": {
     "id": "c58353d4-cf60-4d5a-8782-33e1a1b27034",
     "prev": "87c95556-f527-46d7-b4e0-448a835c7d2e",
     "regions": {
      "521f8a43-c7d8-49f2-b6a8-58843c8c85b5": {
       "attrs": {
        "height": 0.8,
        "width": 0.8,
        "x": 0.1,
        "y": 0.1
       },
       "content": {
        "cell": "f00b2b35-6d6a-4d52-b3a3-5c0c9c9e4b37",
        "part": "whole"
       },
       "id": "521f8a43-c7d8-49f2-b6a8-58843c8c85b5"
      }
     }
    },
    "c9d3bce8-9f8f-42bc-939e-da8270fba288": {
     "id": "c9d3bce8-9f8f-42bc-939e-da8270fba288",
     "prev": "e4517c68-ed59-4031-aa11-3ac25fa3efba",
     "regions": {
      "66ef0b40-0d8e-44e9-8f49-e0a7e766fd9e": {
       "attrs": {
        "height": 0.8,
        "width": 0.8,
        "x": 0.1,
        "y": 0.1
       },
       "content": {
        "cell": "27090290-db54-4f17-bdec-62442028f56c",
        "part": "whole"
       },
       "id": "66ef0b40-0d8e-44e9-8f49-e0a7e766fd9e"
      }
     }
    },
    "cd72a212-ca53-4784-9c2d-ba1dc1ad6834": {
     "id": "cd72a212-ca53-4784-9c2d-ba1dc1ad6834",
     "prev": "21aaf6c7-b224-4061-947b-a262f8923400",
     "regions": {
      "a27e7bcb-8dcb-4226-87c3-8a7db7b3a7c9": {
       "attrs": {
        "height": 0.8,
        "width": 0.8,
        "x": 0.1,
        "y": 0.1
       },
       "content": {
        "cell": "d6ad8570-500e-4e03-9574-a37ce634af34",
        "part": "whole"
       },
       "id": "a27e7bcb-8dcb-4226-87c3-8a7db7b3a7c9"
      }
     }
    },
    "d0dfb9af-de70-4800-86e4-9e03c826632b": {
     "id": "d0dfb9af-de70-4800-86e4-9e03c826632b",
     "prev": "98735279-9dc3-4712-9f65-5d1792739692",
     "regions": {
      "31488063-bb2a-4685-91b0-fd850c9a509a": {
       "attrs": {
        "height": 0.8,
        "width": 0.8,
        "x": 0.1,
        "y": 0.1
       },
       "content": {
        "cell": "d46624cd-4e58-4ece-b96b-bb9ff8f15d34",
        "part": "whole"
       },
       "id": "31488063-bb2a-4685-91b0-fd850c9a509a"
      }
     }
    },
    "d6545f45-f4d7-4db6-8232-d4f4e8a47511": {
     "id": "d6545f45-f4d7-4db6-8232-d4f4e8a47511",
     "prev": "959de266-4312-480a-af74-b2b4cacf0d16",
     "regions": {
      "6fa7795c-160a-44a3-be84-667617022c0a": {
       "attrs": {
        "height": 0.8,
        "width": 0.8,
        "x": 0.1,
        "y": 0.1
       },
       "content": {
        "cell": "005db8eb-e9e4-4467-828c-7cc8ebc64503",
        "part": "whole"
       },
       "id": "6fa7795c-160a-44a3-be84-667617022c0a"
      }
     }
    },
    "e1b578df-58a8-407d-9551-0ba6bf257c5b": {
     "id": "e1b578df-58a8-407d-9551-0ba6bf257c5b",
     "prev": "9d8f61f4-85ed-4fac-9363-fb98bb8eccad",
     "regions": {
      "3118f421-bd37-4d7f-89b4-8bf7bfb39ad4": {
       "attrs": {
        "height": 0.8,
        "width": 0.8,
        "x": 0.1,
        "y": 0.1
       },
       "content": {
        "cell": "67370c1b-310a-4243-99f6-5c88693318b0",
        "part": "whole"
       },
       "id": "3118f421-bd37-4d7f-89b4-8bf7bfb39ad4"
      }
     }
    },
    "e2411f88-b7a4-431d-8006-c68d96fbd1e7": {
     "id": "e2411f88-b7a4-431d-8006-c68d96fbd1e7",
     "prev": "8891017f-695c-475a-8c37-02ab4c2cda1c",
     "regions": {
      "75abd345-fc11-45b2-97e9-4c8832503adb": {
       "attrs": {
        "height": 0.8,
        "width": 0.8,
        "x": 0.1,
        "y": 0.1
       },
       "content": {
        "cell": "f92d3594-ed9a-4cff-8749-27837f6b0bfd",
        "part": "whole"
       },
       "id": "75abd345-fc11-45b2-97e9-4c8832503adb"
      }
     }
    },
    "e3531767-06dc-44ee-9369-771444afa9b5": {
     "id": "e3531767-06dc-44ee-9369-771444afa9b5",
     "prev": "9ee9a2e9-ebb4-4a6e-a0c0-bb938e463089",
     "regions": {
      "d0379851-ac3b-441e-9263-0c8c2856427d": {
       "attrs": {
        "height": 0.8,
        "width": 0.8,
        "x": 0.1,
        "y": 0.1
       },
       "content": {
        "cell": "a4fe2645-2413-4541-b5c9-a5356a46426d",
        "part": "whole"
       },
       "id": "d0379851-ac3b-441e-9263-0c8c2856427d"
      }
     }
    },
    "e412a395-3b16-4841-a6dc-b0e6435de7a6": {
     "id": "e412a395-3b16-4841-a6dc-b0e6435de7a6",
     "prev": "975d8ac7-5043-4d38-9f85-7cf34b094c70",
     "regions": {
      "bdf15299-bdf4-42cd-a1b5-6a914608c918": {
       "attrs": {
        "height": 0.8,
        "width": 0.8,
        "x": 0.1,
        "y": 0.1
       },
       "content": {
        "cell": "2ee6bbfa-5a6f-4c81-b24c-b465be5d109f",
        "part": "whole"
       },
       "id": "bdf15299-bdf4-42cd-a1b5-6a914608c918"
      }
     }
    },
    "e4517c68-ed59-4031-aa11-3ac25fa3efba": {
     "id": "e4517c68-ed59-4031-aa11-3ac25fa3efba",
     "prev": "51cd8de5-0922-4cf9-be78-7aaed6999cfd",
     "regions": {
      "00494463-3f41-4d73-99e9-e50808a720ea": {
       "attrs": {
        "height": 0.8,
        "width": 0.8,
        "x": 0.1,
        "y": 0.1
       },
       "content": {
        "cell": "fb458f00-18d0-4b29-89be-62e60ed952a8",
        "part": "whole"
       },
       "id": "00494463-3f41-4d73-99e9-e50808a720ea"
      }
     }
    },
    "e5e89bd6-2aa6-4a3b-bf7d-1c143c802c2b": {
     "id": "e5e89bd6-2aa6-4a3b-bf7d-1c143c802c2b",
     "prev": "af72dad1-e937-4487-937c-48392418af99",
     "regions": {
      "8d74cc9c-a122-4947-9aad-8450c238d1b1": {
       "attrs": {
        "height": 0.8,
        "width": 0.8,
        "x": 0.1,
        "y": 0.1
       },
       "content": {
        "cell": "535cb00e-638e-41ef-abb2-d75ebaee05ac",
        "part": "whole"
       },
       "id": "8d74cc9c-a122-4947-9aad-8450c238d1b1"
      }
     }
    },
    "e7b34b5c-b700-44c9-8527-5967a0793f8b": {
     "id": "e7b34b5c-b700-44c9-8527-5967a0793f8b",
     "prev": "fd7dd508-3abd-4dfc-84b0-d7112674c306",
     "regions": {
      "999cced7-7f85-42ab-8c28-9d018367b9af": {
       "attrs": {
        "height": 0.8,
        "width": 0.8,
        "x": 0.1,
        "y": 0.1
       },
       "content": {
        "cell": "d7465faf-8eb1-4cb4-b230-1b6caf5cf4ff",
        "part": "whole"
       },
       "id": "999cced7-7f85-42ab-8c28-9d018367b9af"
      }
     }
    },
    "e9a30881-4295-4fad-902f-f82087a9a2fd": {
     "id": "e9a30881-4295-4fad-902f-f82087a9a2fd",
     "prev": "62c385be-0b7c-451b-9fbc-b1f62d712301",
     "regions": {
      "e8332ff4-6fd5-4b51-9f20-5449bdf2a02f": {
       "attrs": {
        "height": 0.8,
        "width": 0.8,
        "x": 0.1,
        "y": 0.1
       },
       "content": {
        "cell": "a35b6ca7-845e-42d4-9d8e-0f2b5610e441",
        "part": "whole"
       },
       "id": "e8332ff4-6fd5-4b51-9f20-5449bdf2a02f"
      }
     }
    },
    "ea054749-0689-4c7d-89b2-3914d34d2d4a": {
     "id": "ea054749-0689-4c7d-89b2-3914d34d2d4a",
     "prev": "e412a395-3b16-4841-a6dc-b0e6435de7a6",
     "regions": {
      "713f6e79-a1bd-414a-adb5-6cff28bdd3e7": {
       "attrs": {
        "height": 0.8,
        "width": 0.8,
        "x": 0.1,
        "y": 0.1
       },
       "content": {
        "cell": "bf233f53-2958-4838-b3d0-da2bc80cac4a",
        "part": "whole"
       },
       "id": "713f6e79-a1bd-414a-adb5-6cff28bdd3e7"
      }
     }
    },
    "ecc2ec16-7dda-459e-b3c6-776e28d72265": {
     "id": "ecc2ec16-7dda-459e-b3c6-776e28d72265",
     "prev": "5d45fbdb-fe88-400c-b3e8-134f893c9749",
     "regions": {
      "fce00221-4e1b-4d34-ac2b-d0e4582b37f8": {
       "attrs": {
        "height": 0.8,
        "width": 0.8,
        "x": 0.1,
        "y": 0.1
       },
       "content": {
        "cell": "0a822702-626d-4fbb-a714-d14e04fe9727",
        "part": "whole"
       },
       "id": "fce00221-4e1b-4d34-ac2b-d0e4582b37f8"
      }
     }
    },
    "ef17dc31-feb5-4c33-8217-48ece1036573": {
     "id": "ef17dc31-feb5-4c33-8217-48ece1036573",
     "prev": "f6b8ede6-1057-472b-9cba-0ac16c548177",
     "regions": {
      "399711d7-3be2-42ff-86c0-15ef74dce177": {
       "attrs": {
        "height": 0.8,
        "width": 0.8,
        "x": 0.1,
        "y": 0.1
       },
       "content": {
        "cell": "cf4e566b-fe34-4b49-b33a-9955c2939b9a",
        "part": "whole"
       },
       "id": "399711d7-3be2-42ff-86c0-15ef74dce177"
      }
     }
    },
    "f45cf154-9993-4451-b010-8ad70acd3a27": {
     "id": "f45cf154-9993-4451-b010-8ad70acd3a27",
     "prev": null,
     "regions": {
      "d2e99a07-e3bc-4cee-a688-19f2e7314f98": {
       "attrs": {
        "height": 0.8,
        "width": 0.8,
        "x": 0.1,
        "y": 0.1
       },
       "content": {
        "cell": "75d32ccd-a72e-48e5-b38b-c0bc56d5b143",
        "part": "whole"
       },
       "id": "d2e99a07-e3bc-4cee-a688-19f2e7314f98"
      }
     }
    },
    "f69301c4-dc6d-4219-8d41-3ee6fd3d40a1": {
     "id": "f69301c4-dc6d-4219-8d41-3ee6fd3d40a1",
     "prev": "0166515c-fa9d-4f9b-b78f-8c74cb62100c",
     "regions": {
      "9fa734e0-36b6-491b-81bf-7d27f81f459d": {
       "attrs": {
        "height": 0.8,
        "width": 0.8,
        "x": 0.1,
        "y": 0.1
       },
       "content": {
        "cell": "2ed11342-6446-439c-a21d-628c59cf30ab",
        "part": "whole"
       },
       "id": "9fa734e0-36b6-491b-81bf-7d27f81f459d"
      }
     }
    },
    "f69f4f86-3f19-43e4-a2df-2479a216aecd": {
     "id": "f69f4f86-3f19-43e4-a2df-2479a216aecd",
     "prev": "ea054749-0689-4c7d-89b2-3914d34d2d4a",
     "regions": {
      "278921f2-e7d1-4ec1-b0b9-3c34e08507a2": {
       "attrs": {
        "height": 0.8,
        "width": 0.8,
        "x": 0.1,
        "y": 0.1
       },
       "content": {
        "cell": "a1b638dd-ad1b-4d2c-9cda-4bebdf845485",
        "part": "whole"
       },
       "id": "278921f2-e7d1-4ec1-b0b9-3c34e08507a2"
      }
     }
    },
    "f6b8ede6-1057-472b-9cba-0ac16c548177": {
     "id": "f6b8ede6-1057-472b-9cba-0ac16c548177",
     "prev": "17ac3825-8187-45ec-afc0-733137e8a870",
     "regions": {
      "af9b5b51-5bcf-44a2-acc0-a36d86022ecd": {
       "attrs": {
        "height": 0.8,
        "width": 0.8,
        "x": 0.1,
        "y": 0.1
       },
       "content": {
        "cell": "651e3c13-eb80-45bb-9ecd-0f1acf10a407",
        "part": "whole"
       },
       "id": "af9b5b51-5bcf-44a2-acc0-a36d86022ecd"
      }
     }
    },
    "f6cf0ecc-57c1-4275-8832-8bd01a0c13aa": {
     "id": "f6cf0ecc-57c1-4275-8832-8bd01a0c13aa",
     "prev": "3346e71a-0b30-46be-a3dc-4b28db4037eb",
     "regions": {
      "1345dfba-2cff-40ec-880a-edeb8a7fa167": {
       "attrs": {
        "height": 0.8,
        "width": 0.8,
        "x": 0.1,
        "y": 0.1
       },
       "content": {
        "cell": "e5297090-fc1c-4b61-bcc0-334867b96fb6",
        "part": "whole"
       },
       "id": "1345dfba-2cff-40ec-880a-edeb8a7fa167"
      }
     }
    },
    "f7467d24-fad8-44dd-89c4-3124b0e6b24b": {
     "id": "f7467d24-fad8-44dd-89c4-3124b0e6b24b",
     "prev": "7f0f3896-bf62-4e2b-a431-0f5ca6c20271",
     "regions": {
      "e1addfaa-61e7-44d5-9ce5-70947204feb0": {
       "attrs": {
        "height": 0.8,
        "width": 0.8,
        "x": 0.1,
        "y": 0.1
       },
       "content": {
        "cell": "64754eeb-3fd6-4555-83da-897afadb4718",
        "part": "whole"
       },
       "id": "e1addfaa-61e7-44d5-9ce5-70947204feb0"
      }
     }
    },
    "fb6f3d27-c78b-4163-a064-c0f0e69c8a2e": {
     "id": "fb6f3d27-c78b-4163-a064-c0f0e69c8a2e",
     "prev": "cd72a212-ca53-4784-9c2d-ba1dc1ad6834",
     "regions": {
      "e7bbf23a-6162-4692-8b06-f959551e8edf": {
       "attrs": {
        "height": 0.8,
        "width": 0.8,
        "x": 0.1,
        "y": 0.1
       },
       "content": {
        "cell": "33b04f57-823b-4c53-b9de-0ed908e82fa8",
        "part": "whole"
       },
       "id": "e7bbf23a-6162-4692-8b06-f959551e8edf"
      }
     }
    },
    "fc2c6b40-6a9e-45e8-bf1f-b2441dfb98cb": {
     "id": "fc2c6b40-6a9e-45e8-bf1f-b2441dfb98cb",
     "prev": "1a9bb8f2-1b5d-4be3-9994-6c17953364a0",
     "regions": {
      "ea8d66ee-c3dc-4aee-9a16-68b176f5cf93": {
       "attrs": {
        "height": 0.8,
        "width": 0.8,
        "x": 0.1,
        "y": 0.1
       },
       "content": {
        "cell": "bfeaa4df-2722-4e22-b469-6988b3bf62db",
        "part": "whole"
       },
       "id": "ea8d66ee-c3dc-4aee-9a16-68b176f5cf93"
      }
     }
    },
    "fd131f1b-dbb0-44cd-810a-afd9bcad76a5": {
     "id": "fd131f1b-dbb0-44cd-810a-afd9bcad76a5",
     "prev": "2659fa99-442b-4310-9156-b697798997b9",
     "regions": {
      "99552b7c-bdc1-46a3-9a15-403b63f7e755": {
       "attrs": {
        "height": 0.8,
        "width": 0.8,
        "x": 0.1,
        "y": 0.1
       },
       "content": {
        "cell": "4448b53d-159d-4c68-b107-7d672c8e68ad",
        "part": "whole"
       },
       "id": "99552b7c-bdc1-46a3-9a15-403b63f7e755"
      }
     }
    },
    "fd7dd508-3abd-4dfc-84b0-d7112674c306": {
     "id": "fd7dd508-3abd-4dfc-84b0-d7112674c306",
     "prev": "9876e27e-fca8-4167-9d6d-1fd9baf9020a",
     "regions": {
      "9e5477f9-5c5f-4ce7-bde5-c3dffa0d9013": {
       "attrs": {
        "height": 0.8,
        "width": 0.8,
        "x": 0.1,
        "y": 0.1
       },
       "content": {
        "cell": "44621a6a-e54d-4eb3-95a2-a89214a08658",
        "part": "whole"
       },
       "id": "9e5477f9-5c5f-4ce7-bde5-c3dffa0d9013"
      }
     }
    },
    "ff2973fa-8952-4350-bad6-c738c374282f": {
     "id": "ff2973fa-8952-4350-bad6-c738c374282f",
     "prev": "c47df6b1-e2a9-4c26-8f94-f3d92eb501a2",
     "regions": {
      "6a0d36ac-1d6a-4b2a-8ce1-e3a637dece81": {
       "attrs": {
        "height": 0.8,
        "width": 0.8,
        "x": 0.1,
        "y": 0.1
       },
       "content": {
        "cell": "87eca494-8fdb-4821-8822-71496a44f08e",
        "part": "whole"
       },
       "id": "6a0d36ac-1d6a-4b2a-8ce1-e3a637dece81"
      }
     }
    }
   },
   "themes": {}
  }
 },
 "nbformat": 4,
 "nbformat_minor": 0
}
